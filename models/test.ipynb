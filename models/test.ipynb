{
 "cells": [
  {
   "cell_type": "code",
   "execution_count": 1,
   "id": "46d4e219",
   "metadata": {},
   "outputs": [],
   "source": [
    "import torch\n",
    "from transformers import AutoTokenizer, AutoModelForSeq2SeqLM, DataCollatorForSeq2Seq, Seq2SeqTrainingArguments, Seq2SeqTrainer\n",
    "from datasets import load_dataset, load_from_disk, DatasetDict, Dataset\n",
    "import numpy as np\n",
    "from evaluate import load\n",
    "from tqdm.auto import tqdm"
   ]
  },
  {
   "cell_type": "code",
   "execution_count": 2,
   "id": "3af178b8",
   "metadata": {},
   "outputs": [
    {
     "name": "stderr",
     "output_type": "stream",
     "text": [
      "[nltk_data] Downloading package punkt to /home/andrew/nltk_data...\n",
      "[nltk_data]   Package punkt is already up-to-date!\n"
     ]
    },
    {
     "data": {
      "text/plain": [
       "True"
      ]
     },
     "execution_count": 2,
     "metadata": {},
     "output_type": "execute_result"
    }
   ],
   "source": [
    "import nltk\n",
    "import numpy as np\n",
    "nltk.download('punkt')"
   ]
  },
  {
   "cell_type": "code",
   "execution_count": 3,
   "id": "45444969",
   "metadata": {},
   "outputs": [],
   "source": [
    "metric = load(\"rouge\")"
   ]
  },
  {
   "cell_type": "code",
   "execution_count": 4,
   "id": "25b4ca9b",
   "metadata": {},
   "outputs": [],
   "source": [
    "max_input = 1024\n",
    "max_target = 128\n",
    "# model_checkpoint = \"./bart-large-cnn-finetuned/checkpoint-10650/\"\n",
    "# model_checkpoint = \"./BART-SFT/checkpoint-900/\"\n",
    "# model_checkpoint = \"./BART-SFT2/checkpoint-900\"\n",
    "model_checkpoint = \"./BART-SFT-r1/checkpoint-4200/\""
   ]
  },
  {
   "cell_type": "code",
   "execution_count": 5,
   "id": "af269be3",
   "metadata": {},
   "outputs": [
    {
     "data": {
      "text/plain": [
       "DatasetDict({\n",
       "    train: Dataset({\n",
       "        features: ['summary', 'article', 'article_bias', 'id', 'summary_bias'],\n",
       "        num_rows: 4664\n",
       "    })\n",
       "    validation: Dataset({\n",
       "        features: ['summary', 'article', 'article_bias', 'id', 'summary_bias'],\n",
       "        num_rows: 542\n",
       "    })\n",
       "    test: Dataset({\n",
       "        features: ['summary', 'article', 'article_bias', 'id', 'summary_bias'],\n",
       "        num_rows: 602\n",
       "    })\n",
       "})"
      ]
     },
     "execution_count": 5,
     "metadata": {},
     "output_type": "execute_result"
    }
   ],
   "source": [
    "raw_datasets = load_from_disk(\"../data/hf_dataset\")\n",
    "raw_datasets"
   ]
  },
  {
   "cell_type": "code",
   "execution_count": 6,
   "id": "2a278a51",
   "metadata": {},
   "outputs": [],
   "source": [
    "tokenizer = AutoTokenizer.from_pretrained(model_checkpoint)"
   ]
  },
  {
   "cell_type": "code",
   "execution_count": 7,
   "id": "99f35143",
   "metadata": {},
   "outputs": [],
   "source": [
    "model = AutoModelForSeq2SeqLM.from_pretrained(model_checkpoint)"
   ]
  },
  {
   "cell_type": "code",
   "execution_count": 8,
   "id": "6f06970b",
   "metadata": {},
   "outputs": [],
   "source": [
    "def preprocess_data(examples):\n",
    "    # get all the articles, prepend each with \"bias;\"\n",
    "    inputs = [\n",
    "        f\"{bias}; {article}\"\n",
    "        for bias, article in zip(examples[\"summary_bias\"], examples[\"article\"])\n",
    "    ]\n",
    "    # tokenize the inputs\n",
    "    model_inputs = tokenizer(\n",
    "        inputs, max_length=max_input, padding=\"max_length\", truncation=True\n",
    "    )\n",
    "\n",
    "    # tokenize the summaries, DO NOT TRUNCATE (unlike training)\n",
    "    targets = tokenizer(\n",
    "        examples[\"summary\"],\n",
    "        max_length=None,\n",
    "        padding=False,\n",
    "        truncation=False,\n",
    "    )\n",
    "\n",
    "    # set labels\n",
    "    model_inputs[\"labels\"] = targets[\"input_ids\"]\n",
    "    # return the tokenized data\n",
    "    # input_ids, attention_mask and labels\n",
    "    return model_inputs\n",
    "\n",
    "\n",
    "def compute_metrics(eval_pred):\n",
    "    predictions, labels = eval_pred\n",
    "    decoded_preds = tokenizer.batch_decode(predictions, skip_special_tokens=True)\n",
    "    # Replace -100 in the labels as we can't decode them.\n",
    "    labels = np.where(labels != -100, labels, tokenizer.pad_token_id)\n",
    "    decoded_labels = tokenizer.batch_decode(labels, skip_special_tokens=True)\n",
    "\n",
    "    # Rouge expects a newline after each sentence\n",
    "    decoded_preds = [\n",
    "        \"\\n\".join(nltk.sent_tokenize(pred.strip())) for pred in decoded_preds\n",
    "    ]\n",
    "    decoded_labels = [\n",
    "        \"\\n\".join(nltk.sent_tokenize(label.strip())) for label in decoded_labels\n",
    "    ]\n",
    "\n",
    "    # Note that other metrics may not have a `use_aggregator` parameter\n",
    "    # and thus will return a list, computing a metric for each sentence.\n",
    "    result = metric.compute(\n",
    "        predictions=decoded_preds,\n",
    "        references=decoded_labels,\n",
    "        use_stemmer=True,\n",
    "        use_aggregator=True,\n",
    "    )\n",
    "    # Extract a few results\n",
    "    result = {key: value * 100 for key, value in result.items()}\n",
    "\n",
    "    # Add mean generated length\n",
    "    prediction_lens = [\n",
    "        np.count_nonzero(pred != tokenizer.pad_token_id) for pred in predictions\n",
    "    ]\n",
    "    result[\"gen_len\"] = np.mean(prediction_lens)\n",
    "\n",
    "    return {k: round(v, 4) for k, v in result.items()}"
   ]
  },
  {
   "cell_type": "code",
   "execution_count": 9,
   "id": "eed69e54",
   "metadata": {},
   "outputs": [],
   "source": [
    "tokenized_data = raw_datasets.map(preprocess_data, batched=True)"
   ]
  },
  {
   "cell_type": "code",
   "execution_count": 10,
   "id": "361cafe8",
   "metadata": {},
   "outputs": [
    {
     "data": {
      "text/plain": [
       "'left; U.S. House condemns \\'QAnon\\' conspiracy theory; 17 Republicans vote no\\nWASHINGTON (Reuters) - The U.S. House of Representatives on Friday voted to condemn the online pro-Trump conspiracy theory known as \"QAnon,\" but 17 Republicans opposed the non-binding resolution, whose sponsor Democrat Representative Tom Malinowski said he has received death threats.\\nThe House voted 371-18 to reject the conspiracy theory, which posits President Donald Trump has been working to take down a global child sex ring. As many as a dozen Republican candidates for Congress have voiced some support for the theory, and at least one of them appears to be a on a path to victory.\\n\"The grotesque nature of the tweets and Instagram posts and the anti-Semitic tripe spewed by QAnon adherents should cause concern for everyone,\" Representative Denver Riggleman, a Republican co-sponsor of the resolution, said on the House floor.\\n\"But the death threats Tom Malinowski received were at surprise and a shock,\" Riggleman said. \"This type of behavior is easily condemned.\"\\nSeventeen Republicans lawmakers and independent Representative Justin Amash voted against the resolution. Another Republican voted present, and forty lawmakers, most of them Republicans, did not vote.\\nWriting on Twitter, Amash said the resolution threatened protected speech - and may make things worse. \"These are conspiracy theorists who believe in a deep state that\\'s fighting against them,\" he wrote.\\nRepublican candidates who have voiced some measure of support for the QAnon theory include Georgia businesswoman Marjorie Taylor Greene, on track for a House seat after her Democratic opponent dropped out, and Jo Rae Perkins, who is running for Senate in Oregon against incumbent Senator Jeff Merkley. He is expected to win.\\nThe theory claims without evidence that \"deep-state\" traitors, child sex predators and prominent Democrats are plotting against Trump, who in turn is leading a plot against them. The FBI included QAnon last year in a warning about \"conspiracy theory-driven domestic extremists.\"'"
      ]
     },
     "execution_count": 10,
     "metadata": {},
     "output_type": "execute_result"
    }
   ],
   "source": [
    "tokenizer.decode(tokenized_data[\"test\"][0]['input_ids'], skip_special_tokens=True) # example input"
   ]
  },
  {
   "cell_type": "code",
   "execution_count": 11,
   "id": "e0732423",
   "metadata": {},
   "outputs": [
    {
     "data": {
      "text/plain": [
       "'QAnon, a conspiracy theory claiming that Donald Trump is fighting against nefarious forces, was condemned by a resolution in the House, but not unanimously. Some Republicans, including Reps. Jodey Arrington, Michael Burgess, Bill Flores, and Brian Babin of Texas; Rob Bishop of Utah; Mo Brooks of Alabama; Buddy Carter and Drew Ferguson of Georgia; Warren Davidson of Ohio; Jeff Duncan and Ralph Norman of South Carolina; Paul Gosar of Arizona; Mike Kelly and Scott Perry of Pennsylvania; Tom Tiffany of Wisconsin; Daniel Webster of Florida; and Steve King of Iowa, voted against it or did not vote at all. QAnon has been classified as a domestic-terror threat by the FBI for its threatening behavior towards those who do not believe this theory, and one of its followers will soon be elected to Congress. Despite having received bipartisan support, the resolution was not supported by all members of the House.\\n'"
      ]
     },
     "execution_count": 11,
     "metadata": {},
     "output_type": "execute_result"
    }
   ],
   "source": [
    "tokenizer.decode(tokenized_data[\"test\"][0]['labels'], skip_special_tokens=True) # example target summary"
   ]
  },
  {
   "cell_type": "code",
   "execution_count": 15,
   "id": "74796aa6",
   "metadata": {},
   "outputs": [
    {
     "name": "stderr",
     "output_type": "stream",
     "text": [
      "using `logging_steps` to initialize `eval_steps` to 500\n",
      "PyTorch: setting up devices\n",
      "The default value for the training argument `--report_to` will change in v5 (from all installed integrations to none). In v5, you will need to use `--report_to all` to get the same behavior as now. You should start updating your code and make this info disappear :-).\n",
      "Using auto half precision backend\n"
     ]
    }
   ],
   "source": [
    "batch_size = 4\n",
    "args = Seq2SeqTrainingArguments(\n",
    "    \"test\",\n",
    "    evaluation_strategy=\"steps\",\n",
    "    # eval_steps=150,\n",
    "    # warmup_steps=500,\n",
    "    # learning_rate=2e-5,\n",
    "    # per_device_train_batch_size=batch_size,\n",
    "    per_device_eval_batch_size=batch_size,\n",
    "    # weight_decay=0.01,\n",
    "    # log_level=\"info\",\n",
    "    # logging_dir=\"./log\",\n",
    "    # logging_first_step=True,\n",
    "    # logging_steps=5,\n",
    "    # save_total_limit=3,\n",
    "    # save_strategy=\"steps\",\n",
    "    # save_steps=150,\n",
    "    # load_best_model_at_end=True,\n",
    "    # num_train_epochs=25,\n",
    "    predict_with_generate=True,\n",
    "    fp16=True,\n",
    ")\n",
    "\n",
    "data_collator = DataCollatorForSeq2Seq(tokenizer, model=model)\n",
    "\n",
    "trainer = Seq2SeqTrainer(\n",
    "    model,\n",
    "    args,\n",
    "    train_dataset=tokenized_data[\"train\"],\n",
    "    eval_dataset=tokenized_data[\"validation\"],\n",
    "    data_collator=data_collator,\n",
    "    tokenizer=tokenizer,\n",
    "    compute_metrics=compute_metrics,\n",
    ")"
   ]
  },
  {
   "cell_type": "code",
   "execution_count": 34,
   "id": "af5d48e6",
   "metadata": {},
   "outputs": [],
   "source": [
    "test = tokenized_data['test']"
   ]
  },
  {
   "cell_type": "code",
   "execution_count": 16,
   "metadata": {},
   "outputs": [
    {
     "name": "stderr",
     "output_type": "stream",
     "text": [
      "The following columns in the test set don't have a corresponding argument in `BartForConditionalGeneration.forward` and have been ignored: summary, id, article, summary_bias, article_bias. If summary, id, article, summary_bias, article_bias are not expected by `BartForConditionalGeneration.forward`,  you can safely ignore this message.\n",
      "***** Running Prediction *****\n",
      "  Num examples = 602\n",
      "  Batch size = 4\n"
     ]
    },
    {
     "data": {
      "text/html": [],
      "text/plain": [
       "<IPython.core.display.HTML object>"
      ]
     },
     "metadata": {},
     "output_type": "display_data"
    }
   ],
   "source": [
    "preds = trainer.predict(tokenized_data[\"test\"])"
   ]
  },
  {
   "cell_type": "code",
   "execution_count": 20,
   "metadata": {},
   "outputs": [
    {
     "data": {
      "text/plain": [
       "{'test_loss': 2.259944438934326,\n",
       " 'test_rouge1': 42.931,\n",
       " 'test_rouge2': 15.2797,\n",
       " 'test_rougeL': 25.4485,\n",
       " 'test_rougeLsum': 37.9946,\n",
       " 'test_gen_len': 138.211,\n",
       " 'test_runtime': 834.4269,\n",
       " 'test_samples_per_second': 0.721,\n",
       " 'test_steps_per_second': 0.181}"
      ]
     },
     "execution_count": 20,
     "metadata": {},
     "output_type": "execute_result"
    }
   ],
   "source": [
    "preds.metrics # test scores"
   ]
  },
  {
   "cell_type": "code",
   "execution_count": 28,
   "id": "07b388e5",
   "metadata": {},
   "outputs": [],
   "source": [
    "predicted_texts = [tokenizer.decode(token_ids, skip_special_tokens=True) for token_ids in preds.predictions]"
   ]
  },
  {
   "cell_type": "code",
   "execution_count": 37,
   "id": "2e59fa7c",
   "metadata": {},
   "outputs": [],
   "source": [
    "# get topic ids in test split\n",
    "ids = set()\n",
    "for ex in raw_datasets['test']:\n",
    "    ids.add(ex['id'])\n",
    "ids = list(ids)\n",
    "\n",
    "# get indexes of ex with same topic id\n",
    "id = ids[1]\n",
    "indexes = []\n",
    "for idx, item in enumerate(test):\n",
    "    if item['id'] == id:\n",
    "        indexes.append(idx)"
   ]
  },
  {
   "cell_type": "code",
   "execution_count": 40,
   "id": "a97d1514",
   "metadata": {
    "scrolled": false
   },
   "outputs": [
    {
     "name": "stdout",
     "output_type": "stream",
     "text": [
      "Article Bias: center, Summary Bias: center, ID: 3711\n",
      "Article: House Passes Extensive Election And Campaign Finance Overhaul Bill\n",
      "The House passed an extensive bill Friday that would overhaul the way Americans vote and take aim at the money currently flowing through the U.S. political system.\n",
      "The bill was dubbed the \"For The People Act\" by House Democrats who want election accessibility and weeding out corruption to be core tenets of their majority agenda the next two years. The bill passed along straight party lines, 234-193.\n",
      "\"For months, for years, really for decades, millions of Americans have been looking at Washington and feeling like they've been left behind,\" said Rep. John Sarbanes, D-Md., the lead author of the bill. \"Too many Americans have faced this challenge where getting to the ballot box every two years is like getting through an obstacle course.\"\n",
      "House Democrats gathered on the Capitol steps moments before the vote to celebrate the impending passage.\n",
      "The more than 500-page bill would require all states to offer automatic voter registration, make Election Day a federal holiday, and institute independent redistricting commissions to draw congressional districts as a way to end partisan gerrymandering.\n",
      "State election officials have traditionally pushed back on federal efforts to control election administration, and a number of secretaries of state voiced displeasure at an annual meeting earlier this year that House Democrats did not reach out to them in writing the bill.\n",
      "The bill would also require nonprofit organizations to disclose their large donors, taking aim at the \"dark money\" currently funding some political campaigns.\n",
      "The legislation directs the sitting president and vice president, as well as candidates for the presidency and vice presidency, to release their tax returns.\n",
      "But Senate Majority Leader Mitch McConnell, R-Ky., has made it clear he does not plan to give the bill a vote in his chamber, therefore effectively killing it.\n",
      "Republicans have been calling the bill the \"Politician Protection Act\" and the \"For The Politicians Act\" and have specifically called foul on a matching provision in the bill that would heavily subsidize House campaigns that agree to accept small donations only.\n",
      "\"We know this bill is not going to be signed into law,\" said Illinois Rep. Rodney Davis, the ranking Republican on the House subcommittee on elections, on the House floor before the vote. \"This bill is nothing but a bill that is for loading billions of billions of dollars into the coffers of members of Congress.\"\n",
      "House Minority Leader Kevin McCarthy, R-Calif., also raised the fact that the bill does not address \"ballot harvesting,\" or the collecting and returning of vote-by-mail ballots by a third-party.\n",
      "The practice was used as part of an absentee ballot scheme that resulted in the North Carolina State Board of Elections calling a new election in the state's 9th District. But many election officials and experts don't see the collection of mail ballots as an issue in and of itself.\n",
      "Speaker of the House Nancy Pelosi said Democrats wouldn't be deterred by Republicans' unwillingness to take up the bill in the Senate.\n",
      "\"[The bill] restores the people's faith that government works for the people's interest, not the special interests,\" Pelosi said. \"Let us be very clear, this is a fight we are taking a vote on today but it is a fight we will not end until we win it.\"\n",
      "The bill's passage was a welcome victory for Democrats, who spent much of the week dealing with infighting and disagreement among members over comments by Rep. Ilhan Omar, D-Minn., that were seen by some as anti-Semitic.\n",
      "The House passed a resolution Thursday to condemn \"anti-Semitism, Islamophobia, racism and other forms of bigotry,\" and Pelosi made a point in her comments Friday to specifically thank freshman members for \"all the difference they are making for the people.\"\n",
      "\n",
      "Target Summary: The US House has passed a bill that significantly changes the US election process and tackles the funding of political reports. The “For The People Act” was passed along party lines. If it gets through the Senate and is signed off by the President, the bill would mandate automatic voter registration across the US, make election day a public holiday, and establish independent organisations to oversee the creation of congressional districts. In addition, non-profit organisations would have to disclose large donations.\n",
      "However, Senate Majority Leader Mitch McConnell has already indicated the Senate will not debate the bill. Republicans have described the legislation as the “Politician Protection Act,” complaining about the requirement to fund House campaigns with only small donations.\n",
      "\n",
      "\n",
      "Predicted Summary: The US House of Representatives has passed a bill that aims to overhaul the way Americans vote and the way money is spent in the US political system. The bill, known as the \"For The People Act\", passed 234-193 along party lines and includes provisions to require automatic voter registration, make Election Day a federal holiday, and introduce independent redistricting commissions to draw congressional districts. The legislation also requires the sitting president and vice president to release their tax returns, as well as candidates for the presidency and vice presidency. However, Senate Majority Leader Mitch McConnell has stated that he will not give the bill a vote in his chamber, effectively killing it. Republicans have criticised a provision in the bill that\n",
      "\n",
      "**************************************************************************************************** \n",
      "\n",
      "Article Bias: left, Summary Bias: center, ID: 3711\n",
      "Article: House Democrats pass plan to overhaul ethics rules, expand voting rights and target Trump tax returns\n",
      "The House of Representatives on Friday passed a key priority of the new Democratic majority: A sweeping legislative proposal that Democrats call HR 1 that seeks to enact wide-ranging ethics reform, expand voting rights and mandate the disclosure of presidential tax returns.\n",
      "The vote was 234 to 193 and the measure passed along party lines.\n",
      "Congressional Republicans have criticized the legislation as an attempted power grab by Democrats, and Senate Majority Leader Mitch McConnell has made clear it won't be taken up in the Senate. The White House has also issued a veto threat on the measure.\n",
      "But the legislation was still a key campaign promise for Democrats and a way to send a message to voters about the kind of government reforms the party would pursue if it wins back the Senate and the presidency.\n",
      "Efforts by House Democrats to focus attention on HR 1 were largely overshadowed this week by an internal Democratic debate over how to respond to controversy surrounding freshmen Democratic Rep. Ilhan Omar, who has ignited criticism within the party over comments related to Israel.\n",
      "The House passed a resolution on Thursday condemning both anti-Semitism and anti-Muslim discrimination as well as other forms of hate and intolerance.\n",
      "By Friday, however, Democrats had largely succeeded in re-focusing attention on HR 1, a massive legislative package that runs hundreds of pages in length. It reads like a list of liberal priorities on fighting government corruption, reforming campaign finance and making it easier for people to vote. And House Democrats have described the measure as proof that the party is working to restore the American public's faith in democracy.\n",
      "House Speaker Nancy Pelosi responded to Republicans calling HR 1 a power grab during a news conference on Friday, saying \"Yes, it is a power grab—a power grab on behalf of the people.\" Pelosi briefly stood next to Omar during the news conference. They greeted each other, as they both held tiny American flags.\n",
      "Ethics and campaign finance reform\n",
      "The legislative package calls for far-reaching ethics and government changes that would impact Congress, the President and even the Supreme Court.\n",
      "HR 1 would ban congressional lawmakers from sitting on corporate boards. It would also stop lawmakers from using taxpayer money to reach settlements in employment discrimination cases stemming from their own actions.\n",
      "It would also institute an ethics code for the US Supreme Court that would apply to high court justices.\n",
      "The bill is aimed at lessening the influence of big money in politics and it takes aim at Citizens United, the landmark 2010 Supreme Court decision, by calling for a constitutional amendment to overturn the high court ruling that opened the door to unlimited spending by corporations and unions to influence elections.\n",
      "While Republicans argue the bill is overreaching and limits free political speech, Democrats simply point to a key campaign pledge made by President Donald Trump to \"drain the swamp.\"\n",
      "\"I do not know how you could have the hypocrisy and the gall to support a presidential campaign that calls for the swamp to be drained and then say this is dead on arrival,\" said Democratic Rep. Max Rose of New York.\n",
      "Presidential tax returns\n",
      "The legislation would require US presidents, vice presidents and presidential nominees to disclose their tax returns. Specifically, it requires the release of 10 years of personal and business tax returns -- a provision that would apply to the current President.\n",
      "Trump broke with past precedent by refusing to release his tax returns while running for office.\n",
      "The tax section of the bill underwent changes in the week before the vote with liberals fighting to also include a measure that would require candidates to disclose business tax returns as well, a nod to Democratic questions about Trump's own finances and whether they influence decisions he's making in office.\n",
      "The question of business tax disclosures has become a hot button issue on the House Ways and Means Committee where Chairman Richard Neal is expected to formally request the President's tax returns in upcoming weeks.\n",
      "It's unclear what precisely Neal would request using an arcane IRS code that Democrats believe gives the chairman the ability to request Trump's personal tax information, but the drafting of HR 1 has largely been seen as a reflection of what the House Ways and Means committee's priorities could be.\n",
      "Members of the House Ways and Means Committee have been pushing Neal to make Trump's business returns a target of his inquiry in addition to pushing for them to be included in HR 1, arguing that the business returns could help other congressional committees with their own investigations.\n",
      "Democratic Rep. Brendan Boyle of Pennsylvania, a member of the Ways and Means Committee, told CNN that he believes Neal should request the business returns.\n",
      "\"I think if you're going to do this, you have to do it right, it should be business returns and it should be of course personal returns,\" he said.\n",
      "Voting rights and elections\n",
      "HR 1 also seeks to advance a number of long-standing liberal agenda items with respect to voting and elections, including provisions that Democrats say will make it easier to vote and protect voting rights.\n",
      "The legislation requires states to create and operate a system for automatic voter registration for federal elections via an opt-out system. It would restore the right to vote in federal elections to former felons who have served out their sentences.\n",
      "Democrats also say they want to give voters more opportunities to vote, and the bill requires 15 days of early voting in states for federal elections.\n",
      "Republicans criticize legislation as a power grab\n",
      "Republicans have criticized the bill as overreach regarding states' rights to manage elections and a major attempt to limit free speech in political and advocacy campaigns by trying to reduce spending.\n",
      "This was a key point made by McConnell in a news conference Wednesday designed to explicitly attack the bill, which he called a \"terrible proposal\" that won't be brought up in the Senate.\n",
      "It's rare for McConnell to hold news conferences outside his regular weekly conference -- particularly on a bill that he's not expected to bring up -- but HR1 touches on issues, namely campaign finance reform, that have been a key topic of his throughout his career.\n",
      "House GOP whip Steve Scalise framed the issue during the same news conference by calling it \"a choice between freedom and socialism\" and arguing the legislation would infringe on American's First Amendment rights.\n",
      "Pressed on why he's letting the Green New Deal get a vote -- which he also opposes -- and not HR 1, McConnell quipped to reporters Wednesday: \"Because I get to decide what we vote on.\"\n",
      "This story has been updated to reflect additional developments Friday.\n",
      "\n",
      "Target Summary: The US House has passed a bill that significantly changes the US election process and tackles the funding of political reports. The “For The People Act” was passed along party lines. If it gets through the Senate and is signed off by the President, the bill would mandate automatic voter registration across the US, make election day a public holiday, and establish independent organisations to oversee the creation of congressional districts. In addition, non-profit organisations would have to disclose large donations.\n",
      "However, Senate Majority Leader Mitch McConnell has already indicated the Senate will not debate the bill. Republicans have described the legislation as the “Politician Protection Act,” complaining about the requirement to fund House campaigns with only small donations.\n",
      "\n",
      "\n",
      "Predicted Summary: The US House of Representatives has passed a bill to require President Donald Trump to release his tax returns. The bill, known as HR 1, was passed by 234 to 193 votes and was largely along party lines. It is expected to be vetoed by Senate Majority Leader Mitch McConnell and the White House, but is seen as a key campaign promise for the new Democratic majority. The legislation would require the release of 10 years of personal and business tax returns for all US presidents, vice presidents and presidential nominees. It also proposes to ban members of Congress from sitting on corporate boards, ban lawmakers from using taxpayer-funded settlements in employment discrimination cases, and introduce an ethics code for the US Supreme Court.\n",
      "\n",
      "**************************************************************************************************** \n",
      "\n",
      "Article Bias: right, Summary Bias: center, ID: 3711\n",
      "Article: House Dems pass 'power grab' voting rights bill; McConnell says proposal has no chance in Senate\n",
      "U.S. House Democrats passed a sweeping anti-corruption and voting rights bill Friday that they said was intended to make voting easier, as well as strengthen ethics rules, while also rejecting a motion to condemn voting by undocumented immigrants.\n",
      "The legislation, dubbed the “For The People Act” or \"H.R.1,\" passed 234-193 along party lines.\n",
      "The proposal -- nearly 700 pages -- calls for Election Day to be designated a federal holiday, requires all states to offer automatic voter registration, restores voting rights to convicted felons, institutes independent redistricting commissions to weed out gerrymandering and requires nonprofit organizations to disclose the names of donors who contribute more than $10,000 in an effort to rein in dark-money groups. .\n",
      "“It’s a power grab for the American people,” U.S. Rep. Zoe Lofgren, D-Calif., who leads the House administration committee that shepherded the legislation, according to the New York Times.\n",
      "The bill also requires the sitting president and vice president to release 10 years of federal tax returns, as well as presidential candidates.\n",
      "“This bill is a massive federal government takeover that would undermine the integrity of our elections,” House Minority Leader Kevin McCarthy, R-Calif., said Friday, the Times reported.\n",
      "“This bill is a massive federal government takeover that would undermine the integrity of our elections.” — House Minority Leader Kevin McCarthy, R-Calif.\n",
      "The legislation has almost no chance of passing in the Senate. Senate Majority Leader Mitch McConnell, R-Ky., has indicated he will not bring the bill for a vote, effectively killing the bill.\n",
      "\"We know this bill is not going to be signed into law,\" said Illinois Rep. Rodney Davis, the ranking Republican on the House subcommittee on elections, on the House floor before the vote. \"This bill is nothing but a bill that is for loading billions of billions of dollars into the coffers of members of Congress.\"\n",
      "In the broader debate over voter accessibility, House Democrats also voted Friday to defend localities that allow non-citizens to vote in their elections, the Washington Times reported. The 228-197 vote would have almost no effect as noncitizens are barred from participating in federal elections. The GOP-backed measure would have added language to \"H.R.1 stating that “allowing illegal immigrants the right to vote devalues the franchise and diminishes the voting power of United States citizens.”\n",
      "“We are prepared to open up the political process and let all of the people come in,” Rep. John Lewis, a Georgia Democrat and hero of the civil rights movement, told colleagues. The measure referenced San Francisco's policy of allowing noncitizens, including undocumented immigrants, to vote in school board elections.\n",
      "Just six Democrats voted against it and one Republican opposed it.\n",
      "\n",
      "Target Summary: The US House has passed a bill that significantly changes the US election process and tackles the funding of political reports. The “For The People Act” was passed along party lines. If it gets through the Senate and is signed off by the President, the bill would mandate automatic voter registration across the US, make election day a public holiday, and establish independent organisations to oversee the creation of congressional districts. In addition, non-profit organisations would have to disclose large donations.\n",
      "However, Senate Majority Leader Mitch McConnell has already indicated the Senate will not debate the bill. Republicans have described the legislation as the “Politician Protection Act,” complaining about the requirement to fund House campaigns with only small donations.\n",
      "\n",
      "\n",
      "Predicted Summary: US House Democrats have passed a bill to make voting easier and strengthen ethics rules in the US Congress. The \"For The People Act\" (H.R.1), which includes provisions to make Election Day a federal holiday, restore voting rights for convicted felons, and require all states to offer automatic voter registration, passed 234-193 along party lines. The bill also requires the sitting president and vice president to release 10 years of federal tax returns, as well as presidential candidates. Senate Majority Leader Mitch McConnell, R-Ky., has indicated he will not bring the bill to a vote, effectively killing its chances of passing in the Senate.\n",
      "\n",
      "\n",
      "**************************************************************************************************** \n",
      "\n",
      "Article Bias: center, Summary Bias: left, ID: 3711\n",
      "Article: House Passes Extensive Election And Campaign Finance Overhaul Bill\n",
      "The House passed an extensive bill Friday that would overhaul the way Americans vote and take aim at the money currently flowing through the U.S. political system.\n",
      "The bill was dubbed the \"For The People Act\" by House Democrats who want election accessibility and weeding out corruption to be core tenets of their majority agenda the next two years. The bill passed along straight party lines, 234-193.\n",
      "\"For months, for years, really for decades, millions of Americans have been looking at Washington and feeling like they've been left behind,\" said Rep. John Sarbanes, D-Md., the lead author of the bill. \"Too many Americans have faced this challenge where getting to the ballot box every two years is like getting through an obstacle course.\"\n",
      "House Democrats gathered on the Capitol steps moments before the vote to celebrate the impending passage.\n",
      "The more than 500-page bill would require all states to offer automatic voter registration, make Election Day a federal holiday, and institute independent redistricting commissions to draw congressional districts as a way to end partisan gerrymandering.\n",
      "State election officials have traditionally pushed back on federal efforts to control election administration, and a number of secretaries of state voiced displeasure at an annual meeting earlier this year that House Democrats did not reach out to them in writing the bill.\n",
      "The bill would also require nonprofit organizations to disclose their large donors, taking aim at the \"dark money\" currently funding some political campaigns.\n",
      "The legislation directs the sitting president and vice president, as well as candidates for the presidency and vice presidency, to release their tax returns.\n",
      "But Senate Majority Leader Mitch McConnell, R-Ky., has made it clear he does not plan to give the bill a vote in his chamber, therefore effectively killing it.\n",
      "Republicans have been calling the bill the \"Politician Protection Act\" and the \"For The Politicians Act\" and have specifically called foul on a matching provision in the bill that would heavily subsidize House campaigns that agree to accept small donations only.\n",
      "\"We know this bill is not going to be signed into law,\" said Illinois Rep. Rodney Davis, the ranking Republican on the House subcommittee on elections, on the House floor before the vote. \"This bill is nothing but a bill that is for loading billions of billions of dollars into the coffers of members of Congress.\"\n",
      "House Minority Leader Kevin McCarthy, R-Calif., also raised the fact that the bill does not address \"ballot harvesting,\" or the collecting and returning of vote-by-mail ballots by a third-party.\n",
      "The practice was used as part of an absentee ballot scheme that resulted in the North Carolina State Board of Elections calling a new election in the state's 9th District. But many election officials and experts don't see the collection of mail ballots as an issue in and of itself.\n",
      "Speaker of the House Nancy Pelosi said Democrats wouldn't be deterred by Republicans' unwillingness to take up the bill in the Senate.\n",
      "\"[The bill] restores the people's faith that government works for the people's interest, not the special interests,\" Pelosi said. \"Let us be very clear, this is a fight we are taking a vote on today but it is a fight we will not end until we win it.\"\n",
      "The bill's passage was a welcome victory for Democrats, who spent much of the week dealing with infighting and disagreement among members over comments by Rep. Ilhan Omar, D-Minn., that were seen by some as anti-Semitic.\n",
      "The House passed a resolution Thursday to condemn \"anti-Semitism, Islamophobia, racism and other forms of bigotry,\" and Pelosi made a point in her comments Friday to specifically thank freshman members for \"all the difference they are making for the people.\"\n",
      "\n",
      "Target Summary: US Democrat House representatives have passed ethics reform legislation that has been dubbed HR 1 and which calls for widespread changes to government. The bill sets out plans for campaign finance reform, disclosure of presidential tax returns, expanded voting rights and an ethics code for Supreme Court justices. It was passed by 234 votes to 193, with Republican detractors dismissing it as a “power grab”. However, whilst it has met its key objectives in Congress, Senate Majority Leader, Mitch McConnell stated it would not be considered in the Senate.\n",
      "\n",
      "\n",
      "Predicted Summary: The US House of Representatives has passed a bill that aims to overhaul the election and campaign finance systems in the US. The bill, known as the \"For The People Act\", passed 234-193 along party lines and aims to make voting more accessible and reduce corruption in the political process. It includes provisions to require automatic voter registration, make Election Day a federal holiday, and establish independent commissions to draw congressional districts to end partisan gerrymandering. The legislation also proposes that the sitting president and vice president, as well as candidates for the presidency and vice presidency, release their tax returns. However, Senate Majority Leader Mitch McConnell has stated that he will not give the bill a vote in his\n",
      "\n",
      "**************************************************************************************************** \n",
      "\n",
      "Article Bias: left, Summary Bias: left, ID: 3711\n",
      "Article: House Democrats pass plan to overhaul ethics rules, expand voting rights and target Trump tax returns\n",
      "The House of Representatives on Friday passed a key priority of the new Democratic majority: A sweeping legislative proposal that Democrats call HR 1 that seeks to enact wide-ranging ethics reform, expand voting rights and mandate the disclosure of presidential tax returns.\n",
      "The vote was 234 to 193 and the measure passed along party lines.\n",
      "Congressional Republicans have criticized the legislation as an attempted power grab by Democrats, and Senate Majority Leader Mitch McConnell has made clear it won't be taken up in the Senate. The White House has also issued a veto threat on the measure.\n",
      "But the legislation was still a key campaign promise for Democrats and a way to send a message to voters about the kind of government reforms the party would pursue if it wins back the Senate and the presidency.\n",
      "Efforts by House Democrats to focus attention on HR 1 were largely overshadowed this week by an internal Democratic debate over how to respond to controversy surrounding freshmen Democratic Rep. Ilhan Omar, who has ignited criticism within the party over comments related to Israel.\n",
      "The House passed a resolution on Thursday condemning both anti-Semitism and anti-Muslim discrimination as well as other forms of hate and intolerance.\n",
      "By Friday, however, Democrats had largely succeeded in re-focusing attention on HR 1, a massive legislative package that runs hundreds of pages in length. It reads like a list of liberal priorities on fighting government corruption, reforming campaign finance and making it easier for people to vote. And House Democrats have described the measure as proof that the party is working to restore the American public's faith in democracy.\n",
      "House Speaker Nancy Pelosi responded to Republicans calling HR 1 a power grab during a news conference on Friday, saying \"Yes, it is a power grab—a power grab on behalf of the people.\" Pelosi briefly stood next to Omar during the news conference. They greeted each other, as they both held tiny American flags.\n",
      "Ethics and campaign finance reform\n",
      "The legislative package calls for far-reaching ethics and government changes that would impact Congress, the President and even the Supreme Court.\n",
      "HR 1 would ban congressional lawmakers from sitting on corporate boards. It would also stop lawmakers from using taxpayer money to reach settlements in employment discrimination cases stemming from their own actions.\n",
      "It would also institute an ethics code for the US Supreme Court that would apply to high court justices.\n",
      "The bill is aimed at lessening the influence of big money in politics and it takes aim at Citizens United, the landmark 2010 Supreme Court decision, by calling for a constitutional amendment to overturn the high court ruling that opened the door to unlimited spending by corporations and unions to influence elections.\n",
      "While Republicans argue the bill is overreaching and limits free political speech, Democrats simply point to a key campaign pledge made by President Donald Trump to \"drain the swamp.\"\n",
      "\"I do not know how you could have the hypocrisy and the gall to support a presidential campaign that calls for the swamp to be drained and then say this is dead on arrival,\" said Democratic Rep. Max Rose of New York.\n",
      "Presidential tax returns\n",
      "The legislation would require US presidents, vice presidents and presidential nominees to disclose their tax returns. Specifically, it requires the release of 10 years of personal and business tax returns -- a provision that would apply to the current President.\n",
      "Trump broke with past precedent by refusing to release his tax returns while running for office.\n",
      "The tax section of the bill underwent changes in the week before the vote with liberals fighting to also include a measure that would require candidates to disclose business tax returns as well, a nod to Democratic questions about Trump's own finances and whether they influence decisions he's making in office.\n",
      "The question of business tax disclosures has become a hot button issue on the House Ways and Means Committee where Chairman Richard Neal is expected to formally request the President's tax returns in upcoming weeks.\n",
      "It's unclear what precisely Neal would request using an arcane IRS code that Democrats believe gives the chairman the ability to request Trump's personal tax information, but the drafting of HR 1 has largely been seen as a reflection of what the House Ways and Means committee's priorities could be.\n",
      "Members of the House Ways and Means Committee have been pushing Neal to make Trump's business returns a target of his inquiry in addition to pushing for them to be included in HR 1, arguing that the business returns could help other congressional committees with their own investigations.\n",
      "Democratic Rep. Brendan Boyle of Pennsylvania, a member of the Ways and Means Committee, told CNN that he believes Neal should request the business returns.\n",
      "\"I think if you're going to do this, you have to do it right, it should be business returns and it should be of course personal returns,\" he said.\n",
      "Voting rights and elections\n",
      "HR 1 also seeks to advance a number of long-standing liberal agenda items with respect to voting and elections, including provisions that Democrats say will make it easier to vote and protect voting rights.\n",
      "The legislation requires states to create and operate a system for automatic voter registration for federal elections via an opt-out system. It would restore the right to vote in federal elections to former felons who have served out their sentences.\n",
      "Democrats also say they want to give voters more opportunities to vote, and the bill requires 15 days of early voting in states for federal elections.\n",
      "Republicans criticize legislation as a power grab\n",
      "Republicans have criticized the bill as overreach regarding states' rights to manage elections and a major attempt to limit free speech in political and advocacy campaigns by trying to reduce spending.\n",
      "This was a key point made by McConnell in a news conference Wednesday designed to explicitly attack the bill, which he called a \"terrible proposal\" that won't be brought up in the Senate.\n",
      "It's rare for McConnell to hold news conferences outside his regular weekly conference -- particularly on a bill that he's not expected to bring up -- but HR1 touches on issues, namely campaign finance reform, that have been a key topic of his throughout his career.\n",
      "House GOP whip Steve Scalise framed the issue during the same news conference by calling it \"a choice between freedom and socialism\" and arguing the legislation would infringe on American's First Amendment rights.\n",
      "Pressed on why he's letting the Green New Deal get a vote -- which he also opposes -- and not HR 1, McConnell quipped to reporters Wednesday: \"Because I get to decide what we vote on.\"\n",
      "This story has been updated to reflect additional developments Friday.\n",
      "\n",
      "Target Summary: US Democrat House representatives have passed ethics reform legislation that has been dubbed HR 1 and which calls for widespread changes to government. The bill sets out plans for campaign finance reform, disclosure of presidential tax returns, expanded voting rights and an ethics code for Supreme Court justices. It was passed by 234 votes to 193, with Republican detractors dismissing it as a “power grab”. However, whilst it has met its key objectives in Congress, Senate Majority Leader, Mitch McConnell stated it would not be considered in the Senate.\n",
      "\n",
      "\n",
      "Predicted Summary: The US House of Representatives has passed a bill to require President Donald Trump to release his tax returns. The bill, known as HR 1, was passed by 234 to 193 votes and was largely along party lines. It is expected to be vetoed by Senate Majority Leader Mitch McConnell and the White House, but is seen as a key campaign promise for the new Democratic majority. The legislation would require the release of 10 years of personal and business tax returns for all US presidents, vice presidents and presidential nominees. It also proposes to ban members of Congress from sitting on corporate boards, ban lawmakers from using taxpayer-funded settlements in employment discrimination cases and introduce an ethics code for the US Supreme Court.\n",
      "\n",
      "\n",
      "**************************************************************************************************** \n",
      "\n",
      "Article Bias: right, Summary Bias: left, ID: 3711\n",
      "Article: House Dems pass 'power grab' voting rights bill; McConnell says proposal has no chance in Senate\n",
      "U.S. House Democrats passed a sweeping anti-corruption and voting rights bill Friday that they said was intended to make voting easier, as well as strengthen ethics rules, while also rejecting a motion to condemn voting by undocumented immigrants.\n",
      "The legislation, dubbed the “For The People Act” or \"H.R.1,\" passed 234-193 along party lines.\n",
      "The proposal -- nearly 700 pages -- calls for Election Day to be designated a federal holiday, requires all states to offer automatic voter registration, restores voting rights to convicted felons, institutes independent redistricting commissions to weed out gerrymandering and requires nonprofit organizations to disclose the names of donors who contribute more than $10,000 in an effort to rein in dark-money groups. .\n",
      "“It’s a power grab for the American people,” U.S. Rep. Zoe Lofgren, D-Calif., who leads the House administration committee that shepherded the legislation, according to the New York Times.\n",
      "The bill also requires the sitting president and vice president to release 10 years of federal tax returns, as well as presidential candidates.\n",
      "“This bill is a massive federal government takeover that would undermine the integrity of our elections,” House Minority Leader Kevin McCarthy, R-Calif., said Friday, the Times reported.\n",
      "“This bill is a massive federal government takeover that would undermine the integrity of our elections.” — House Minority Leader Kevin McCarthy, R-Calif.\n",
      "The legislation has almost no chance of passing in the Senate. Senate Majority Leader Mitch McConnell, R-Ky., has indicated he will not bring the bill for a vote, effectively killing the bill.\n",
      "\"We know this bill is not going to be signed into law,\" said Illinois Rep. Rodney Davis, the ranking Republican on the House subcommittee on elections, on the House floor before the vote. \"This bill is nothing but a bill that is for loading billions of billions of dollars into the coffers of members of Congress.\"\n",
      "In the broader debate over voter accessibility, House Democrats also voted Friday to defend localities that allow non-citizens to vote in their elections, the Washington Times reported. The 228-197 vote would have almost no effect as noncitizens are barred from participating in federal elections. The GOP-backed measure would have added language to \"H.R.1 stating that “allowing illegal immigrants the right to vote devalues the franchise and diminishes the voting power of United States citizens.”\n",
      "“We are prepared to open up the political process and let all of the people come in,” Rep. John Lewis, a Georgia Democrat and hero of the civil rights movement, told colleagues. The measure referenced San Francisco's policy of allowing noncitizens, including undocumented immigrants, to vote in school board elections.\n",
      "Just six Democrats voted against it and one Republican opposed it.\n",
      "\n",
      "Target Summary: US Democrat House representatives have passed ethics reform legislation that has been dubbed HR 1 and which calls for widespread changes to government. The bill sets out plans for campaign finance reform, disclosure of presidential tax returns, expanded voting rights and an ethics code for Supreme Court justices. It was passed by 234 votes to 193, with Republican detractors dismissing it as a “power grab”. However, whilst it has met its key objectives in Congress, Senate Majority Leader, Mitch McConnell stated it would not be considered in the Senate.\n",
      "\n",
      "\n",
      "Predicted Summary: US House Democrats have passed a bill to make voting easier and strengthen ethics rules in the US Congress, but Senate Majority Leader Mitch McConnell has indicated he will not bring the bill to a vote, effectively killing it. The legislation, dubbed the “For The People Act” or “H.R.1”, calls for Election Day to be declared a federal holiday, requires all states to offer automatic voter registration, restores voting rights to convicted felons, and establishes independent redistricting commissions to weed out gerrymandering. The bill also requires the sitting president and vice president to release 10 years of federal tax returns, as well as presidential candidates. House Democrats also voted\n",
      "\n",
      "**************************************************************************************************** \n",
      "\n",
      "Article Bias: center, Summary Bias: right, ID: 3711\n",
      "Article: House Passes Extensive Election And Campaign Finance Overhaul Bill\n",
      "The House passed an extensive bill Friday that would overhaul the way Americans vote and take aim at the money currently flowing through the U.S. political system.\n",
      "The bill was dubbed the \"For The People Act\" by House Democrats who want election accessibility and weeding out corruption to be core tenets of their majority agenda the next two years. The bill passed along straight party lines, 234-193.\n",
      "\"For months, for years, really for decades, millions of Americans have been looking at Washington and feeling like they've been left behind,\" said Rep. John Sarbanes, D-Md., the lead author of the bill. \"Too many Americans have faced this challenge where getting to the ballot box every two years is like getting through an obstacle course.\"\n",
      "House Democrats gathered on the Capitol steps moments before the vote to celebrate the impending passage.\n",
      "The more than 500-page bill would require all states to offer automatic voter registration, make Election Day a federal holiday, and institute independent redistricting commissions to draw congressional districts as a way to end partisan gerrymandering.\n",
      "State election officials have traditionally pushed back on federal efforts to control election administration, and a number of secretaries of state voiced displeasure at an annual meeting earlier this year that House Democrats did not reach out to them in writing the bill.\n",
      "The bill would also require nonprofit organizations to disclose their large donors, taking aim at the \"dark money\" currently funding some political campaigns.\n",
      "The legislation directs the sitting president and vice president, as well as candidates for the presidency and vice presidency, to release their tax returns.\n",
      "But Senate Majority Leader Mitch McConnell, R-Ky., has made it clear he does not plan to give the bill a vote in his chamber, therefore effectively killing it.\n",
      "Republicans have been calling the bill the \"Politician Protection Act\" and the \"For The Politicians Act\" and have specifically called foul on a matching provision in the bill that would heavily subsidize House campaigns that agree to accept small donations only.\n",
      "\"We know this bill is not going to be signed into law,\" said Illinois Rep. Rodney Davis, the ranking Republican on the House subcommittee on elections, on the House floor before the vote. \"This bill is nothing but a bill that is for loading billions of billions of dollars into the coffers of members of Congress.\"\n",
      "House Minority Leader Kevin McCarthy, R-Calif., also raised the fact that the bill does not address \"ballot harvesting,\" or the collecting and returning of vote-by-mail ballots by a third-party.\n",
      "The practice was used as part of an absentee ballot scheme that resulted in the North Carolina State Board of Elections calling a new election in the state's 9th District. But many election officials and experts don't see the collection of mail ballots as an issue in and of itself.\n",
      "Speaker of the House Nancy Pelosi said Democrats wouldn't be deterred by Republicans' unwillingness to take up the bill in the Senate.\n",
      "\"[The bill] restores the people's faith that government works for the people's interest, not the special interests,\" Pelosi said. \"Let us be very clear, this is a fight we are taking a vote on today but it is a fight we will not end until we win it.\"\n",
      "The bill's passage was a welcome victory for Democrats, who spent much of the week dealing with infighting and disagreement among members over comments by Rep. Ilhan Omar, D-Minn., that were seen by some as anti-Semitic.\n",
      "The House passed a resolution Thursday to condemn \"anti-Semitism, Islamophobia, racism and other forms of bigotry,\" and Pelosi made a point in her comments Friday to specifically thank freshman members for \"all the difference they are making for the people.\"\n",
      "\n",
      "Target Summary: The US House of Representatives, with a Democratic majority, has passed the voting rights bill H.R.1, also known as the \"For The People Act\". The bill was passed along party lines with 234-193 votes. The legislation proposes changes such as designating Election Day as a federal holiday, automatic voter registration in all states, restoring voting rights to convicted felons, curbing gerrymandering, and requiring donor disclosure for non-profit organisations. The bill also calls for the president, vice president, and presidential candidates to release their tax returns. However, Senate Majority Leader Mitch McConnell has said that he will not present the bill for a Senate vote. In parallel, the House Democrats also voted to support localities that enable non-citizens to vote in their elections, though this has little practical impact as noncitizens are currently barred from participating in federal elections.\n",
      "\n",
      "\n",
      "Predicted Summary: The US House of Representatives has passed a bill that aims to overhaul the election and campaign finance systems in the US. The bill, known as the \"For The People Act\", was passed 234-193 along party lines. It includes provisions to require automatic voter registration, make Election Day a federal holiday, and introduce independent redistricting commissions to draw congressional districts. The legislation also requires the president and vice president to release their tax returns and nonprofits to disclose their large donors, taking aim at the \"dark money\" funding some political campaigns. However, Senate Majority Leader Mitch McConnell has stated he will not give the bill a vote in his chamber, effectively killing it.\n",
      "\n",
      "\n",
      "**************************************************************************************************** \n",
      "\n",
      "Article Bias: left, Summary Bias: right, ID: 3711\n",
      "Article: House Democrats pass plan to overhaul ethics rules, expand voting rights and target Trump tax returns\n",
      "The House of Representatives on Friday passed a key priority of the new Democratic majority: A sweeping legislative proposal that Democrats call HR 1 that seeks to enact wide-ranging ethics reform, expand voting rights and mandate the disclosure of presidential tax returns.\n",
      "The vote was 234 to 193 and the measure passed along party lines.\n",
      "Congressional Republicans have criticized the legislation as an attempted power grab by Democrats, and Senate Majority Leader Mitch McConnell has made clear it won't be taken up in the Senate. The White House has also issued a veto threat on the measure.\n",
      "But the legislation was still a key campaign promise for Democrats and a way to send a message to voters about the kind of government reforms the party would pursue if it wins back the Senate and the presidency.\n",
      "Efforts by House Democrats to focus attention on HR 1 were largely overshadowed this week by an internal Democratic debate over how to respond to controversy surrounding freshmen Democratic Rep. Ilhan Omar, who has ignited criticism within the party over comments related to Israel.\n",
      "The House passed a resolution on Thursday condemning both anti-Semitism and anti-Muslim discrimination as well as other forms of hate and intolerance.\n",
      "By Friday, however, Democrats had largely succeeded in re-focusing attention on HR 1, a massive legislative package that runs hundreds of pages in length. It reads like a list of liberal priorities on fighting government corruption, reforming campaign finance and making it easier for people to vote. And House Democrats have described the measure as proof that the party is working to restore the American public's faith in democracy.\n",
      "House Speaker Nancy Pelosi responded to Republicans calling HR 1 a power grab during a news conference on Friday, saying \"Yes, it is a power grab—a power grab on behalf of the people.\" Pelosi briefly stood next to Omar during the news conference. They greeted each other, as they both held tiny American flags.\n",
      "Ethics and campaign finance reform\n",
      "The legislative package calls for far-reaching ethics and government changes that would impact Congress, the President and even the Supreme Court.\n",
      "HR 1 would ban congressional lawmakers from sitting on corporate boards. It would also stop lawmakers from using taxpayer money to reach settlements in employment discrimination cases stemming from their own actions.\n",
      "It would also institute an ethics code for the US Supreme Court that would apply to high court justices.\n",
      "The bill is aimed at lessening the influence of big money in politics and it takes aim at Citizens United, the landmark 2010 Supreme Court decision, by calling for a constitutional amendment to overturn the high court ruling that opened the door to unlimited spending by corporations and unions to influence elections.\n",
      "While Republicans argue the bill is overreaching and limits free political speech, Democrats simply point to a key campaign pledge made by President Donald Trump to \"drain the swamp.\"\n",
      "\"I do not know how you could have the hypocrisy and the gall to support a presidential campaign that calls for the swamp to be drained and then say this is dead on arrival,\" said Democratic Rep. Max Rose of New York.\n",
      "Presidential tax returns\n",
      "The legislation would require US presidents, vice presidents and presidential nominees to disclose their tax returns. Specifically, it requires the release of 10 years of personal and business tax returns -- a provision that would apply to the current President.\n",
      "Trump broke with past precedent by refusing to release his tax returns while running for office.\n",
      "The tax section of the bill underwent changes in the week before the vote with liberals fighting to also include a measure that would require candidates to disclose business tax returns as well, a nod to Democratic questions about Trump's own finances and whether they influence decisions he's making in office.\n",
      "The question of business tax disclosures has become a hot button issue on the House Ways and Means Committee where Chairman Richard Neal is expected to formally request the President's tax returns in upcoming weeks.\n",
      "It's unclear what precisely Neal would request using an arcane IRS code that Democrats believe gives the chairman the ability to request Trump's personal tax information, but the drafting of HR 1 has largely been seen as a reflection of what the House Ways and Means committee's priorities could be.\n",
      "Members of the House Ways and Means Committee have been pushing Neal to make Trump's business returns a target of his inquiry in addition to pushing for them to be included in HR 1, arguing that the business returns could help other congressional committees with their own investigations.\n",
      "Democratic Rep. Brendan Boyle of Pennsylvania, a member of the Ways and Means Committee, told CNN that he believes Neal should request the business returns.\n",
      "\"I think if you're going to do this, you have to do it right, it should be business returns and it should be of course personal returns,\" he said.\n",
      "Voting rights and elections\n",
      "HR 1 also seeks to advance a number of long-standing liberal agenda items with respect to voting and elections, including provisions that Democrats say will make it easier to vote and protect voting rights.\n",
      "The legislation requires states to create and operate a system for automatic voter registration for federal elections via an opt-out system. It would restore the right to vote in federal elections to former felons who have served out their sentences.\n",
      "Democrats also say they want to give voters more opportunities to vote, and the bill requires 15 days of early voting in states for federal elections.\n",
      "Republicans criticize legislation as a power grab\n",
      "Republicans have criticized the bill as overreach regarding states' rights to manage elections and a major attempt to limit free speech in political and advocacy campaigns by trying to reduce spending.\n",
      "This was a key point made by McConnell in a news conference Wednesday designed to explicitly attack the bill, which he called a \"terrible proposal\" that won't be brought up in the Senate.\n",
      "It's rare for McConnell to hold news conferences outside his regular weekly conference -- particularly on a bill that he's not expected to bring up -- but HR1 touches on issues, namely campaign finance reform, that have been a key topic of his throughout his career.\n",
      "House GOP whip Steve Scalise framed the issue during the same news conference by calling it \"a choice between freedom and socialism\" and arguing the legislation would infringe on American's First Amendment rights.\n",
      "Pressed on why he's letting the Green New Deal get a vote -- which he also opposes -- and not HR 1, McConnell quipped to reporters Wednesday: \"Because I get to decide what we vote on.\"\n",
      "This story has been updated to reflect additional developments Friday.\n",
      "\n",
      "Target Summary: The US House of Representatives, with a Democratic majority, has passed the voting rights bill H.R.1, also known as the \"For The People Act\". The bill was passed along party lines with 234-193 votes. The legislation proposes changes such as designating Election Day as a federal holiday, automatic voter registration in all states, restoring voting rights to convicted felons, curbing gerrymandering, and requiring donor disclosure for non-profit organisations. The bill also calls for the president, vice president, and presidential candidates to release their tax returns. However, Senate Majority Leader Mitch McConnell has said that he will not present the bill for a Senate vote. In parallel, the House Democrats also voted to support localities that enable non-citizens to vote in their elections, though this has little practical impact as noncitizens are currently barred from participating in federal elections.\n",
      "\n",
      "\n",
      "Predicted Summary: The US House of Representatives has passed a bill to require President Donald Trump to release his tax returns. The bill, known as HR 1, was passed by 234 to 193 votes and was largely along party lines. It is expected to be vetoed by Senate Majority Leader Mitch McConnell and the White House, but is seen as a key campaign promise for the new Democratic majority. The legislation would require the release of 10 years of personal and business tax returns for all US presidents, vice presidents and presidential nominees. It also proposes to ban members of Congress from sitting on corporate boards, ban lawmakers from using taxpayer-funded settlements in employment discrimination cases and introduce an ethics code for the US Supreme Court.\n",
      "\n",
      "\n",
      "**************************************************************************************************** \n",
      "\n",
      "Article Bias: right, Summary Bias: right, ID: 3711\n",
      "Article: House Dems pass 'power grab' voting rights bill; McConnell says proposal has no chance in Senate\n",
      "U.S. House Democrats passed a sweeping anti-corruption and voting rights bill Friday that they said was intended to make voting easier, as well as strengthen ethics rules, while also rejecting a motion to condemn voting by undocumented immigrants.\n",
      "The legislation, dubbed the “For The People Act” or \"H.R.1,\" passed 234-193 along party lines.\n",
      "The proposal -- nearly 700 pages -- calls for Election Day to be designated a federal holiday, requires all states to offer automatic voter registration, restores voting rights to convicted felons, institutes independent redistricting commissions to weed out gerrymandering and requires nonprofit organizations to disclose the names of donors who contribute more than $10,000 in an effort to rein in dark-money groups. .\n",
      "“It’s a power grab for the American people,” U.S. Rep. Zoe Lofgren, D-Calif., who leads the House administration committee that shepherded the legislation, according to the New York Times.\n",
      "The bill also requires the sitting president and vice president to release 10 years of federal tax returns, as well as presidential candidates.\n",
      "“This bill is a massive federal government takeover that would undermine the integrity of our elections,” House Minority Leader Kevin McCarthy, R-Calif., said Friday, the Times reported.\n",
      "“This bill is a massive federal government takeover that would undermine the integrity of our elections.” — House Minority Leader Kevin McCarthy, R-Calif.\n",
      "The legislation has almost no chance of passing in the Senate. Senate Majority Leader Mitch McConnell, R-Ky., has indicated he will not bring the bill for a vote, effectively killing the bill.\n",
      "\"We know this bill is not going to be signed into law,\" said Illinois Rep. Rodney Davis, the ranking Republican on the House subcommittee on elections, on the House floor before the vote. \"This bill is nothing but a bill that is for loading billions of billions of dollars into the coffers of members of Congress.\"\n",
      "In the broader debate over voter accessibility, House Democrats also voted Friday to defend localities that allow non-citizens to vote in their elections, the Washington Times reported. The 228-197 vote would have almost no effect as noncitizens are barred from participating in federal elections. The GOP-backed measure would have added language to \"H.R.1 stating that “allowing illegal immigrants the right to vote devalues the franchise and diminishes the voting power of United States citizens.”\n",
      "“We are prepared to open up the political process and let all of the people come in,” Rep. John Lewis, a Georgia Democrat and hero of the civil rights movement, told colleagues. The measure referenced San Francisco's policy of allowing noncitizens, including undocumented immigrants, to vote in school board elections.\n",
      "Just six Democrats voted against it and one Republican opposed it.\n",
      "\n",
      "Target Summary: The US House of Representatives, with a Democratic majority, has passed the voting rights bill H.R.1, also known as the \"For The People Act\". The bill was passed along party lines with 234-193 votes. The legislation proposes changes such as designating Election Day as a federal holiday, automatic voter registration in all states, restoring voting rights to convicted felons, curbing gerrymandering, and requiring donor disclosure for non-profit organisations. The bill also calls for the president, vice president, and presidential candidates to release their tax returns. However, Senate Majority Leader Mitch McConnell has said that he will not present the bill for a Senate vote. In parallel, the House Democrats also voted to support localities that enable non-citizens to vote in their elections, though this has little practical impact as noncitizens are currently barred from participating in federal elections.\n",
      "\n",
      "\n",
      "Predicted Summary: US House Democrats have passed a bill to make voting easier and strengthen ethics rules in the US Congress. The \"For The People Act\" (H.R.1), which includes provisions to make Election Day a federal holiday, restore voting rights for convicted felons, and require all states to offer automatic voter registration, passed 234-193 along party lines. The bill also requires the sitting president and vice president to release 10 years of federal tax returns, as well as presidential candidates. Senate Majority Leader Mitch McConnell, R-Ky., has indicated he will not bring the bill to a vote, effectively killing its chances of passing in the Senate.\n",
      "\n",
      "\n",
      "**************************************************************************************************** \n",
      "\n"
     ]
    }
   ],
   "source": [
    "# Show a few example outputs\n",
    "for i in indexes:  # Just show the first 5 examples\n",
    "    print(f\"Article Bias: {test[i]['article_bias']}, Summary Bias: {test[i]['summary_bias']}, ID: {test[i]['id']}\")\n",
    "    print(f\"Article: {test[i]['article']}\")\n",
    "    print()\n",
    "    print(f\"Target Summary: {test[i]['summary']}\")\n",
    "    print()\n",
    "    print(f\"Predicted Summary: {predicted_texts[i]}\\n\")\n",
    "    print('*' * 100, '\\n')"
   ]
  },
  {
   "cell_type": "markdown",
   "id": "ded22c20",
   "metadata": {},
   "source": [
    "## filter out examples with same article-summary bias"
   ]
  },
  {
   "cell_type": "code",
   "execution_count": 41,
   "id": "04992471",
   "metadata": {},
   "outputs": [],
   "source": [
    "include_indexes = []\n",
    "for idx, example in enumerate(test):\n",
    "    if example['article_bias'] != example['summary_bias']:\n",
    "        include_indexes.append(idx)"
   ]
  },
  {
   "cell_type": "code",
   "execution_count": 56,
   "id": "d5f82916",
   "metadata": {},
   "outputs": [],
   "source": [
    "preds_filtered = preds.predictions[include_indexes]\n",
    "labels_filtered = preds.label_ids[include_indexes]"
   ]
  },
  {
   "cell_type": "code",
   "execution_count": 58,
   "id": "d4852bc1",
   "metadata": {},
   "outputs": [
    {
     "data": {
      "text/plain": [
       "{'rouge1': 38.6627,\n",
       " 'rouge2': 11.2963,\n",
       " 'rougeL': 21.7057,\n",
       " 'rougeLsum': 33.9749,\n",
       " 'gen_len': 138.2356}"
      ]
     },
     "execution_count": 58,
     "metadata": {},
     "output_type": "execute_result"
    }
   ],
   "source": [
    "compute_metrics((preds_filtered, labels_filtered))"
   ]
  },
  {
   "cell_type": "markdown",
   "id": "343cc58d",
   "metadata": {},
   "source": [
    "# Train/Val"
   ]
  },
  {
   "cell_type": "code",
   "execution_count": null,
   "id": "ceeb23d9",
   "metadata": {},
   "outputs": [
    {
     "name": "stderr",
     "output_type": "stream",
     "text": [
      "The following columns in the test set don't have a corresponding argument in `BartForConditionalGeneration.forward` and have been ignored: summary, id, article, summary_bias, article_bias. If summary, id, article, summary_bias, article_bias are not expected by `BartForConditionalGeneration.forward`,  you can safely ignore this message.\n",
      "***** Running Prediction *****\n",
      "  Num examples = 4664\n",
      "  Batch size = 4\n"
     ]
    },
    {
     "data": {
      "text/html": [],
      "text/plain": [
       "<IPython.core.display.HTML object>"
      ]
     },
     "metadata": {},
     "output_type": "display_data"
    }
   ],
   "source": [
    "train_outputs = trainer.predict(tokenized_data[\"train\"])"
   ]
  },
  {
   "cell_type": "code",
   "execution_count": 24,
   "id": "8510148c",
   "metadata": {},
   "outputs": [
    {
     "data": {
      "text/plain": [
       "{'test_loss': 1.4919403791427612,\n",
       " 'test_rouge1': 46.1617,\n",
       " 'test_rouge2': 19.0326,\n",
       " 'test_rougeL': 28.409,\n",
       " 'test_rougeLsum': 41.2628,\n",
       " 'test_gen_len': 138.0838,\n",
       " 'test_runtime': 6421.2517,\n",
       " 'test_samples_per_second': 0.726,\n",
       " 'test_steps_per_second': 0.182}"
      ]
     },
     "execution_count": 24,
     "metadata": {},
     "output_type": "execute_result"
    }
   ],
   "source": [
    "train_outputs.metrics"
   ]
  },
  {
   "cell_type": "code",
   "execution_count": null,
   "id": "9eb49903",
   "metadata": {},
   "outputs": [
    {
     "name": "stderr",
     "output_type": "stream",
     "text": [
      "The following columns in the test set don't have a corresponding argument in `BartForConditionalGeneration.forward` and have been ignored: summary, id, article, summary_bias, article_bias. If summary, id, article, summary_bias, article_bias are not expected by `BartForConditionalGeneration.forward`,  you can safely ignore this message.\n",
      "***** Running Prediction *****\n",
      "  Num examples = 542\n",
      "  Batch size = 4\n"
     ]
    },
    {
     "data": {
      "text/html": [],
      "text/plain": [
       "<IPython.core.display.HTML object>"
      ]
     },
     "metadata": {},
     "output_type": "display_data"
    }
   ],
   "source": [
    "val_outputs = trainer.predict(tokenized_data[\"validation\"])"
   ]
  },
  {
   "cell_type": "code",
   "execution_count": null,
   "id": "b9ee214a",
   "metadata": {},
   "outputs": [
    {
     "data": {
      "text/plain": [
       "{'test_loss': 2.2837963104248047,\n",
       " 'test_rouge1': 43.2729,\n",
       " 'test_rouge2': 15.0279,\n",
       " 'test_rougeL': 25.0943,\n",
       " 'test_rougeLsum': 38.3158,\n",
       " 'test_gen_len': 138.4705,\n",
       " 'test_runtime': 746.3585,\n",
       " 'test_samples_per_second': 0.726,\n",
       " 'test_steps_per_second': 0.182}"
      ]
     },
     "metadata": {},
     "output_type": "display_data"
    }
   ],
   "source": [
    "val_outputs.metrics"
   ]
  }
 ],
 "metadata": {
  "kernelspec": {
   "display_name": "Python 3 (ipykernel)",
   "language": "python",
   "name": "python3"
  },
  "language_info": {
   "codemirror_mode": {
    "name": "ipython",
    "version": 3
   },
   "file_extension": ".py",
   "mimetype": "text/x-python",
   "name": "python",
   "nbconvert_exporter": "python",
   "pygments_lexer": "ipython3",
   "version": "3.11.6"
  }
 },
 "nbformat": 4,
 "nbformat_minor": 5
}
