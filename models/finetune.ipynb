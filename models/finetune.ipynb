{
 "cells": [
  {
   "cell_type": "code",
   "execution_count": 1,
   "id": "1f74bdd6-41bf-4520-9bc9-d32a9944386c",
   "metadata": {},
   "outputs": [
    {
     "name": "stdout",
     "output_type": "stream",
     "text": [
      "Intel MKL WARNING: Support of Intel(R) Streaming SIMD Extensions 4.2 (Intel(R) SSE4.2) enabled only processors has been deprecated. Intel oneAPI Math Kernel Library 2025.0 will require Intel(R) Advanced Vector Extensions (Intel(R) AVX) instructions.\n",
      "Intel MKL WARNING: Support of Intel(R) Streaming SIMD Extensions 4.2 (Intel(R) SSE4.2) enabled only processors has been deprecated. Intel oneAPI Math Kernel Library 2025.0 will require Intel(R) Advanced Vector Extensions (Intel(R) AVX) instructions.\n"
     ]
    },
    {
     "name": "stderr",
     "output_type": "stream",
     "text": [
      "/Users/andrew/opt/anaconda3/envs/instructsum/lib/python3.11/site-packages/tqdm/auto.py:21: TqdmWarning: IProgress not found. Please update jupyter and ipywidgets. See https://ipywidgets.readthedocs.io/en/stable/user_install.html\n",
      "  from .autonotebook import tqdm as notebook_tqdm\n"
     ]
    }
   ],
   "source": [
    "import transformers\n",
    "from transformers import AutoTokenizer, AutoModelForSeq2SeqLM, DataCollatorForSeq2Seq, Seq2SeqTrainingArguments, Seq2SeqTrainer\n",
    "from datasets import load_dataset, load_from_disk, DatasetDict\n",
    "import numpy as np\n",
    "from evaluate import load"
   ]
  },
  {
   "cell_type": "code",
   "execution_count": 28,
   "id": "0397600f-7662-4b2e-91a9-38ec8796e6b6",
   "metadata": {},
   "outputs": [],
   "source": [
    "max_input = 1024\n",
    "max_target = 128\n",
    "model_checkpoint = \"facebook/bart-large-cnn\""
   ]
  },
  {
   "cell_type": "code",
   "execution_count": 36,
   "id": "74773286-aa63-45f0-bb57-c7c11c1af3e1",
   "metadata": {},
   "outputs": [],
   "source": [
    "raw_datasets = load_from_disk(\"../data/hf_dataset\")"
   ]
  },
  {
   "cell_type": "code",
   "execution_count": 37,
   "id": "e0b19d57-b927-4b9a-8e63-4ea2e2aaec7f",
   "metadata": {},
   "outputs": [
    {
     "data": {
      "text/plain": [
       "DatasetDict({\n",
       "    train: Dataset({\n",
       "        features: ['summary', 'article_bias', 'id', 'article', 'summary_bias'],\n",
       "        num_rows: 4704\n",
       "    })\n",
       "    validation: Dataset({\n",
       "        features: ['summary', 'article_bias', 'id', 'article', 'summary_bias'],\n",
       "        num_rows: 523\n",
       "    })\n",
       "    test: Dataset({\n",
       "        features: ['summary', 'article_bias', 'id', 'article', 'summary_bias'],\n",
       "        num_rows: 581\n",
       "    })\n",
       "})"
      ]
     },
     "execution_count": 37,
     "metadata": {},
     "output_type": "execute_result"
    }
   ],
   "source": [
    "raw_datasets"
   ]
  },
  {
   "cell_type": "code",
   "execution_count": 5,
   "id": "e9af73ea-6181-416a-977e-9654f68ca0aa",
   "metadata": {},
   "outputs": [],
   "source": [
    "# Define the sample sizes\n",
    "train_sample_size = 100  # Adjust as needed\n",
    "val_sample_size = 20     # Adjust as needed\n",
    "test_sample_size = 20    # Adjust as needed\n",
    "\n",
    "# Sample the datasets\n",
    "sampled_datasets = DatasetDict({\n",
    "    \"train\": raw_datasets[\"train\"].shuffle(seed=42).select(range(train_sample_size)),\n",
    "    \"validation\": raw_datasets[\"validation\"].shuffle(seed=42).select(range(val_sample_size)),\n",
    "    \"test\": raw_datasets[\"test\"].shuffle(seed=42).select(range(test_sample_size)),\n",
    "})"
   ]
  },
  {
   "cell_type": "code",
   "execution_count": 6,
   "id": "4bb6f0f1-a160-449f-85c2-b759b537befd",
   "metadata": {},
   "outputs": [
    {
     "data": {
      "text/plain": [
       "DatasetDict({\n",
       "    train: Dataset({\n",
       "        features: ['summary', 'id', 'article', 'bias'],\n",
       "        num_rows: 100\n",
       "    })\n",
       "    validation: Dataset({\n",
       "        features: ['summary', 'id', 'article', 'bias'],\n",
       "        num_rows: 20\n",
       "    })\n",
       "    test: Dataset({\n",
       "        features: ['summary', 'id', 'article', 'bias'],\n",
       "        num_rows: 20\n",
       "    })\n",
       "})"
      ]
     },
     "execution_count": 6,
     "metadata": {},
     "output_type": "execute_result"
    }
   ],
   "source": [
    "sampled_datasets"
   ]
  },
  {
   "cell_type": "code",
   "execution_count": 7,
   "id": "6597e4e7-aded-430d-82a1-510e5a40e07a",
   "metadata": {},
   "outputs": [],
   "source": [
    "tokenizer = AutoTokenizer.from_pretrained(model_checkpoint)"
   ]
  },
  {
   "cell_type": "code",
   "execution_count": 30,
   "id": "56afb477-bee3-4dc0-b549-4661e951255a",
   "metadata": {},
   "outputs": [],
   "source": [
    "def preprocess_data(examples):\n",
    "  #get all the articles, prepend each with \"bias;\"\n",
    "  inputs = [f\"{bias}; article\" for bias, article in zip(examples[\"bias\"], examples[\"article\"])]\n",
    "  #tokenize the inputs\n",
    "  model_inputs = tokenizer(inputs,  max_length=max_input, padding='max_length', truncation=True)\n",
    "    \n",
    "  #tokenize the summaries\n",
    "  targets = tokenizer(examples['summary'], max_length=max_target, padding='max_length', truncation=True)\n",
    "\n",
    "  #set labels\n",
    "  model_inputs['labels'] = targets['input_ids']\n",
    "  #return the tokenized data\n",
    "  #input_ids, attention_mask and labels\n",
    "  return model_inputs"
   ]
  },
  {
   "cell_type": "code",
   "execution_count": 31,
   "id": "5c06febe-61ea-4021-b682-175c8cdf317a",
   "metadata": {},
   "outputs": [
    {
     "name": "stderr",
     "output_type": "stream",
     "text": [
      "Map: 100%|██████████████████████████████████████████████████████████| 100/100 [00:00<00:00, 2940.83 examples/s]\n"
     ]
    }
   ],
   "source": [
    "tokenize_data = sampled_datasets.map(preprocess_data, batched = True)"
   ]
  },
  {
   "cell_type": "code",
   "execution_count": 10,
   "id": "299be69e-21a4-4124-9744-52878246d5a6",
   "metadata": {},
   "outputs": [],
   "source": [
    "model = AutoModelForSeq2SeqLM.from_pretrained(model_checkpoint)"
   ]
  },
  {
   "cell_type": "code",
   "execution_count": 11,
   "id": "e842408b-db03-4827-a751-88a8108860df",
   "metadata": {},
   "outputs": [],
   "source": [
    "batch_size = 4\n",
    "model_name = model_checkpoint.split(\"/\")[-1]\n",
    "args = Seq2SeqTrainingArguments(\n",
    "    f\"{model_name}-finetuned\",\n",
    "    evaluation_strategy = \"epoch\",\n",
    "    learning_rate=2e-5,\n",
    "    per_device_train_batch_size=batch_size,\n",
    "    per_device_eval_batch_size=batch_size,\n",
    "    weight_decay=0.01,\n",
    "    save_total_limit=3,\n",
    "    num_train_epochs=1,\n",
    "    predict_with_generate=True\n",
    ")"
   ]
  },
  {
   "cell_type": "code",
   "execution_count": 12,
   "id": "e8d75812-c8a4-45d8-93d6-7909ddc1709e",
   "metadata": {},
   "outputs": [],
   "source": [
    "data_collator = DataCollatorForSeq2Seq(tokenizer, model=model)"
   ]
  },
  {
   "cell_type": "code",
   "execution_count": 17,
   "id": "8342cce6-67ed-4f2e-ae0a-72bee5a1fb67",
   "metadata": {},
   "outputs": [
    {
     "name": "stderr",
     "output_type": "stream",
     "text": [
      "Downloading builder script: 100%|█████████████████████████████████████████| 6.27k/6.27k [00:00<00:00, 15.2MB/s]\n"
     ]
    }
   ],
   "source": [
    "metric = load(\"rouge\")"
   ]
  },
  {
   "cell_type": "code",
   "execution_count": 13,
   "id": "5b5bbede-4381-4c78-9c9a-4c418eed95a8",
   "metadata": {},
   "outputs": [
    {
     "name": "stderr",
     "output_type": "stream",
     "text": [
      "[nltk_data] Downloading package punkt to /Users/andrew/nltk_data...\n",
      "[nltk_data]   Package punkt is already up-to-date!\n"
     ]
    }
   ],
   "source": [
    "import nltk\n",
    "import numpy as np\n",
    "nltk.download('punkt')\n",
    "\n",
    "def compute_metrics(eval_pred):\n",
    "    predictions, labels = eval_pred\n",
    "    decoded_preds = tokenizer.batch_decode(predictions, skip_special_tokens=True)\n",
    "    # Replace -100 in the labels as we can't decode them.\n",
    "    labels = np.where(labels != -100, labels, tokenizer.pad_token_id)\n",
    "    decoded_labels = tokenizer.batch_decode(labels, skip_special_tokens=True)\n",
    "    \n",
    "    # Rouge expects a newline after each sentence\n",
    "    decoded_preds = [\"\\n\".join(nltk.sent_tokenize(pred.strip())) for pred in decoded_preds]\n",
    "    decoded_labels = [\"\\n\".join(nltk.sent_tokenize(label.strip())) for label in decoded_labels]\n",
    "    \n",
    "    # Note that other metrics may not have a `use_aggregator` parameter\n",
    "    # and thus will return a list, computing a metric for each sentence.\n",
    "    result = metric.compute(predictions=decoded_preds, references=decoded_labels, use_stemmer=True, use_aggregator=True)\n",
    "    # Extract a few results\n",
    "    result = {key: value * 100 for key, value in result.items()}\n",
    "    \n",
    "    # Add mean generated length\n",
    "    prediction_lens = [np.count_nonzero(pred != tokenizer.pad_token_id) for pred in predictions]\n",
    "    result[\"gen_len\"] = np.mean(prediction_lens)\n",
    "    \n",
    "    return {k: round(v, 4) for k, v in result.items()}"
   ]
  },
  {
   "cell_type": "code",
   "execution_count": 32,
   "id": "22b0af33-8759-469b-a5e5-ebe091665972",
   "metadata": {},
   "outputs": [],
   "source": [
    "trainer = Seq2SeqTrainer(\n",
    "    model, \n",
    "    args,\n",
    "    train_dataset=tokenize_data['train'],\n",
    "    eval_dataset=tokenize_data['validation'],\n",
    "    data_collator=data_collator,\n",
    "    tokenizer=tokenizer,\n",
    "    compute_metrics=compute_metrics\n",
    ")"
   ]
  },
  {
   "cell_type": "code",
   "execution_count": 33,
   "id": "d974e915-a86a-4b65-8036-288efebca837",
   "metadata": {},
   "outputs": [
    {
     "name": "stderr",
     "output_type": "stream",
     "text": [
      "/Users/andrew/opt/anaconda3/envs/instructsum/lib/python3.11/site-packages/transformers/optimization.py:411: FutureWarning: This implementation of AdamW is deprecated and will be removed in a future version. Use the PyTorch implementation torch.optim.AdamW instead, or set `no_deprecation_warning=True` to disable this warning\n",
      "  warnings.warn(\n"
     ]
    },
    {
     "data": {
      "text/html": [
       "\n",
       "    <div>\n",
       "      \n",
       "      <progress value='25' max='25' style='width:300px; height:20px; vertical-align: middle;'></progress>\n",
       "      [25/25 02:15, Epoch 1/1]\n",
       "    </div>\n",
       "    <table border=\"1\" class=\"dataframe\">\n",
       "  <thead>\n",
       " <tr style=\"text-align: left;\">\n",
       "      <th>Epoch</th>\n",
       "      <th>Training Loss</th>\n",
       "      <th>Validation Loss</th>\n",
       "      <th>Rouge1</th>\n",
       "      <th>Rouge2</th>\n",
       "      <th>Rougel</th>\n",
       "      <th>Rougelsum</th>\n",
       "      <th>Gen Len</th>\n",
       "    </tr>\n",
       "  </thead>\n",
       "  <tbody>\n",
       "    <tr>\n",
       "      <td>1</td>\n",
       "      <td>No log</td>\n",
       "      <td>2.978171</td>\n",
       "      <td>24.600800</td>\n",
       "      <td>3.120200</td>\n",
       "      <td>14.960100</td>\n",
       "      <td>22.537600</td>\n",
       "      <td>121.150000</td>\n",
       "    </tr>\n",
       "  </tbody>\n",
       "</table><p>"
      ],
      "text/plain": [
       "<IPython.core.display.HTML object>"
      ]
     },
     "metadata": {},
     "output_type": "display_data"
    },
    {
     "data": {
      "text/plain": [
       "TrainOutput(global_step=25, training_loss=2.907449951171875, metrics={'train_runtime': 142.8934, 'train_samples_per_second': 0.7, 'train_steps_per_second': 0.175, 'total_flos': 216710460211200.0, 'train_loss': 2.907449951171875, 'epoch': 1.0})"
      ]
     },
     "execution_count": 33,
     "metadata": {},
     "output_type": "execute_result"
    }
   ],
   "source": [
    "trainer.train()"
   ]
  },
  {
   "cell_type": "code",
   "execution_count": 34,
   "id": "ca2192ce-5188-43f3-bf04-9f124f822ebb",
   "metadata": {},
   "outputs": [
    {
     "data": {
      "text/html": [],
      "text/plain": [
       "<IPython.core.display.HTML object>"
      ]
     },
     "metadata": {},
     "output_type": "display_data"
    }
   ],
   "source": [
    "preds = trainer.predict(tokenize_data[\"test\"])"
   ]
  },
  {
   "cell_type": "code",
   "execution_count": 35,
   "id": "264d0988-d839-485c-b69f-a378ca659ac4",
   "metadata": {},
   "outputs": [
    {
     "name": "stdout",
     "output_type": "stream",
     "text": [
      "Example 1:\n",
      "Bias: left\n",
      "Input: Trump administration says Israel’s West Bank settlements do not violate international law\n",
      "Secretary of State Mike Pompeo said Monday that the Trump administration had determined that Israel’s West Bank settlements do not violate international law, a decision he said had “increased the likelihood” of a Middle East peace settlement.\n",
      "Pompeo said the Trump administration, as it did with recognition of Jerusalem as the Israeli capital and Israel’s sovereignty over the disputed Golan Heights, had simply “recognized the reality on the ground.”\n",
      "The move upends more than 40 years of U.S. policy that has declared Israeli expansion into territories occupied since the 1967 war a major obstacle to settling the Israeli-Palestinian conflict.\n",
      "In response to a question, Pompeo denied that the announcement was connected to turmoil in Israel in which Prime Minister Benjamin Netanyahu, who has supported the Israeli annexation of West Bank territory, is fighting for his political life.\n",
      "“The timing of this was not tied to anything that had to do with domestic politics anywhere,” he said. “We conducted our review, and this was the appropriate time to bring it forward.”\n",
      "More than 700,000 settlers have taken up residence in the West Bank and East Jerusalem since the 1967 war. Both areas are claimed by Palestinians for a future state.\n",
      "Since Israel first occupied the territories, only the Carter administration, based on a 1978 State Department legal opinion, has outright declared settlements illegal, although all administrations since then have described them as an impediment to peace and have called for freezing settlement expansion and new construction.\n",
      "A month before President Trump took office, Barack Obama — whose administration referred to settlements as “illegitimate” — became the first U.S. president to withhold a veto from one of countless U.N. resolutions that described them as illegal. In one of its final acts in office, that administration abstained from a U.N. vote that called settlements “a flagrant violation under international law,” allowing it to pass.\n",
      "Then-Secretary of State John F. Kerry, in a speech explaining the abstention, referred to “the proliferation of settlement outposts that are illegal under Israel’s own laws.”\n",
      "Pompeo said the administration was returning to policy under Ronald Reagan, pointing out that Reagan said in a 1981 interview that settlements were “not illegal.” Reagan went on in that interview, however, to say that settlements were “ill-advised.” His subsequent 1983 peace plan said that “the immediate adoption of a settlements freeze by Israel, more than any other action,” would enhance the prospects for peace.\n",
      "“The United States government is expressing no view on the legal status of any individual settlement,” Pompeo said. Such assessments, he said, were up to Israeli courts, and “we are not addressing or prejudging the ultimate status of the West Bank. This is for the Israelis and Palestinians to negotiate.”\n",
      "The announcement drew immediate criticism as ill-timed, and skepticism that it was unrelated to both Israeli and U.S. politics.\n",
      "“I’m mystified by the timing,” said Dennis Ross, who played a lead role in shaping Middle East policy under several administrations from Reagan to Obama. “If you were still interested in presenting the Trump peace plan, you wouldn’t want to do something that puts key Arab leaders . . . in a position where they would be much more moved to oppose it.”\n",
      "Introduction of the Middle East peace plan that Trump promised at the beginning of his administration has been delayed repeatedly.\n",
      "Aaron David Miller, a former Middle East peace negotiator under Republican and Democratic administrations, said that “in essence, this has validated and greenlighted the entire settlement enterprise . . . at a time when the peace process is all but comatose, and they know it probably won’t reemerge.”\n",
      "In Israel, both Netanyahu and former army chief Benny Gantz, who are each vying to form a government following deadlocked elections in September, hailed the shift.\n",
      "“The fate of the settlements and the residents of Judea and Samaria should be determined by agreements that meet security requirements and that can promote peace,” Gantz said in a statement, using the biblical names for the West Bank that have become the popular parlance among Israelis in recent years.\n",
      "Netanyahu, who has been a staunch supporter of settlements and proposed annexing the Jordan Valley into Israel proper, praised the move as reflecting “a historical truth — that the Jewish people are not foreign colonialists in Judea and Samaria. In fact, we are called Jews because we are the people of Judea.”\n",
      "But Pompeo’s announcement was met with dismay by Palestinian leaders as well as peace advocates who view the expansion of settlements as lessening the likelihood — and the size — of a possible future Palestinian state.\n",
      "“Israeli settlements steal Palestinian land, seize and exploit Palestinian natural resources, and divide, displace and restrict the movement of the people of Palestine,” Saeb Erekat, secretary general of the Palestine Liberation Organization, said in a statement. “Once again, with this announcement, the Trump administration is demonstrating the extent to which it’s threatening the international system with its unceasing attempts to replace international law with the ‘law of the jungle.’ ”\n",
      "Ayman Odeh, the leader of a faction of Israeli Arab members of the Knesset, Israel’s parliament, tweeted: “No foreign minister will change the fact that the settlements were built on occupied land where an independent Palestinian state should one day stand beside the State of Israel.”\n",
      "Softening the U.S. stance on settlements comes as a late-breaking boost to Netanyahu as he clings to power at a dicey political moment; his rival Gantz has less than two days left to form a government before the process opens to free-for-all negotiations by the entire parliament. Netanyahu is also widely expected to be indicted on corruption charges in coming weeks, if not days.\n",
      "“Israel is deeply grateful to President Trump, Secretary Pompeo and the entire US administration for their steadfast position supporting truth and justice,” Netanyahu said in his statement.\n",
      "Pompeo also announced the cancellation of a sanctions waiver that permitted companies from the European Union and Russia to work with Iran as it converted an underground uranium-enrichment facility into a “nuclear, physics, and technology center,” per the terms of the Obama administration’s 2015 nuclear deal with Iran.\n",
      "Pompeo said that waiver will be eliminated on Dec. 15, after Iran’s announcement that it will ramp up uranium enrichment at the facility. The decision exposes foreign companies that work with Iran on the facility to U.S. penalties.\n",
      "“The right amount of uranium enrichment for the world’s largest state sponsor of terror is zero,” Pompeo said.\n",
      "Critics have said that terminating the waivers is needlessly vindictive and risks an even more dangerous confrontation with Iran.\n",
      "In Iraq, where the government has unleashed a deadly clampdown on anti-corruption protesters, Pompeo said the United States was prepared to slap new sanctions on officials proven to be corrupt or who are involved in the violent clashes with peaceful demonstrators that have left 315 dead since last month.\n",
      "“We will not stand idle while the corrupt officials make the Iraqi people suffer,” Pompeo said. “We support the Iraqi people as they strive for a prosperous Iraq that’s free of corruption. . . . Iraq’s leaders must protect human rights.”\n",
      "Hendrix reported from Jerusalem.\n",
      "Target Summary: US Secretary of State Mike Pompeo has announced that the Trump administration does not believe Israel's West Bank settlements violate international law. This is a reversal of over 40 years of US policy and has been met with criticism and skepticism as it comes amid political upheaval in Israel. Palestinian leaders have expressed dismay, as expansion of the settlements could negatively impact the potential size of a future Palestinian state. Both Prime Minister Benjamin Netanyahu and rival Benny Gantz have praised the US decision. Pompeo stated that the status of West Bank is still to be determined through negotiations between Palestinians and Israelis.\n",
      "\n",
      "Predicted Summary:  by\n",
      "\n",
      "Example 2:\n",
      "Bias: right\n",
      "Input: Jerry Falwell's bizarre marital arrangement was only the least and latest of his sins\n",
      "If you took this pitch to a porn director, he would shun it as too trite even for the internet's lowest form of entertainment. And it's true. Everyone calling Falwell a hypocritical hoaxer is also right. But the true tragedy of this scenario isn't just the collateral damage among Liberty's truly faithful, besmirched by Falwell's failures. It's the simple fact that Falwell should have been out before reports of his cuckolding and \"throuple\" were made public.\n",
      "As a tax-exempt institution, Liberty is legally forbidden from making formal political endorsements, something Falwell jeopardized when he decided to sell out Ted Cruz, a faithful and practicing evangelical who would have materially advanced religious liberty as president, to back the thrice-married adulterer who now occupies the Oval Office. And now, there is the question of why precisely Falwell pulled the trigger for President Trump. Over at the American Conservative, Rod Dreher has an idea:\n",
      "It raises an important question too about whether or not the Trump campaign used knowledge of the Falwells' affair to pressure Jerry Jr. to endorse Trump. Former Trump legal fixer Michael Cohen told Tom Arnold that he handled a situation down in Florida in which somebody had some compromising boudoir shots of Becki Falwell that he (Cohen) had to obtain. Funnily enough, right after that, Jerry Jr., who was lined up to endorse Ted Cruz for president, flip-flopped to Trump. Amazing, eh?\n",
      "In a sane society, personal circles should care about moral behavior, and public communities ought to care about consensual behavior. Falwell's followers followed neither tenet here. While Falwell degraded Liberty's reputation to help Trump, the powers that be in his community stood by. And now that his personal preferences - none that involved coercion, manipulation, or any other sort of abuse of power - have apparently sprung to national news, the non-evangelical public has handed down its verdict. And why? Simply because the draconian and often overbearing moral policing of Liberty's community would dictate that what Falwell did was wrong.\n",
      "Falwell should have faced the thrust of his own community to leave Liberty long ago. Let this unnecessary personal humiliation of his be a lesson to those who forget the importance of confronting their own and holding them accountable.\n",
      "Target Summary: This summary refers to the scandal surrounding Jerry Falwell Jr., the former president of Liberty University, an evangelical Christian institution. The scandal includes bizarre marital arrangements, including a \"throuple\" and reports of Falwell being cuckolded. There are also allegations that Falwell jeopardized the university's tax-exempt status by making political endorsements, and suspiciously pulled support from Ted Cruz to endorse Trump, possibly due to blackmail over compromising photos. The author criticizes Falwell's community for not holding him accountable earlier and argues that their failure to confront these behaviors led to the scandal becoming national news. The story serves as a lesson in the importance of accountability within communities.\n",
      "Predicted Summary:  by\n",
      "\n",
      "Example 3:\n",
      "Bias: left\n",
      "Input: The America First president just announced he's escalating the Afghanistan war\n",
      "President Donald Trump has just unveiled his plan for turning around the 16-year war in Afghanistan that he and others in his administration admit the US is losing. And it turns out his new strategy looks a lot like President Barack Obama's old one.\n",
      "Obama had sent tens of thousands more American troops to Afghanistan in the hopes of hammering the Taliban hard enough that the militants would be open to negotiating a peace agreement. He also pressured Pakistan to help the US in the fight by cracking down on the terrorist safe havens inside its lawless border regions and doing more to prevent weapons and fighters from flowing into Afghanistan.\n",
      "Trump seems to be generally following the Obama blueprint, with one major exception. When Obama ordered reinforcements to Afghanistan in 2009, he said they'd start to be withdrawn within 18 months - a fixed deadline that infuriated critics from both parties. Trump, by contrast, repeatedly stressed in his Monday night address that there was no timetable for how long American troops would remain in Afghanistan. That effectively means the longest war in American history will extend into the indefinite future.\n",
      "\"Conditions on the ground, not arbitrary timetables, will guide our strategy from now on,\" Trump said in a speech heavy on harsh rhetoric but strikingly light on details.\n",
      "Trump didn't say how many more American troops, if any, would be sent to join the 8,400 already in Afghanistan. That was on purpose: The president said he wanted to keep the enemy guessing (some reports say he may send about 4,000 troops).\n",
      "Throughout his speech, Trump stressed that the US was in Afghanistan for counterterrorism, not nation-building, and that Washington didn't care whether or not the country remained a democracy. That's very much in keeping with Trump's broader embrace of foreign autocrats ranging from Turkish President Recep Tayyip Erdoğan to Egyptian strongman Abdel Fattah el-Sisi.\n",
      "Like Obama, Trump said Pakistan had to do more to help the US win in Afghanistan and blasted the country for sheltering terrorists. But Trump seemed to go further than his predecessor when he noted that the \"billions and billions\" the US pays to Pakistan may some day dry up.\n",
      "Should he actually cut aid to Pakistan, and label it a state sponsor of terrorism if it continues to harbor terrorists, as some reports indicated he might, Trump will have punished Pakistan more than Obama did. That said, it's worth noting that Obama witheld $300 million of military support to Pakistan last August.\n",
      "\"We have been paying Pakistan billions and billions of dollars, at the same time they are housing the same terrorists that we are fighting. But that will have to change. And that will change immediately,\" Trump said.\n",
      "Trump's speech was many months in the making, with top administration officials repeatedly trying, and failing, to get Trump to make a decision about the way forward in Afghanistan. The president - backed by advisers like former chief strategist Steve Bannon - was skeptical about spending more blood and treasure when the Taliban controls more than 40 percent of Afghanistan and is continuing to gain ground.\n",
      "In the end, though, President Trump abandoned candidate Trump's skepticism about Afghanistan and agreed to continue a war he'd long belittled. Trump announced the decision at Fort Myer, the military installation near Arlington Cemetery where some of the 2,258 US troops who died in Afghanistan were laid to rest. It was couched as part of a new and comprehensive strategy for stabilizing both Afghanistan and Pakistan.\n",
      "\"We will win,\" Trump declared Monday night.\n",
      "His predecessors had said the same thing, and were proven wrong. Now it's Trump's turn.\n",
      "Trump has long been skeptical of the war in Afghanistan. He just chose to keep it going.\n",
      "\"What are we doing there? These people hate us,\" Trump said in a 2012 Fox News appearance, as reported by my colleague Zack Beauchamp. \"We're spending hundreds of billions of dollars, trillions of dollars, on this nonsense - and the minute we leave, everything blows up, and the worst guy gets it. The one who hates this country the most will end up taking over Afghanistan.\"\n",
      "But after winning the election, Trump called Afghan President Ashraf Ghani in December and told him he would consider sending more troops to Afghanistan, the Wall Street Journal reported. After the conversation, an unnamed Afghan official stated that Trump \"would certainly continue to support Afghanistan security forces and will consider a proposal for more troops after an assessment.\"\n",
      "In office, Trump has more vocally asked why the US was doing so poorly in Afghanistan despite spending around $714 billion there over the past 15 years and losing a total of 2,264 troops and civilians.\n",
      "\"We aren't winning,\" he said in a July 19 meeting with his advisers. \"We are losing.\"\n",
      "He even threatened to replace Gen. John Nicholson, the top commander in Afghanistan, who warned Congress in February that the conflict was at a \"stalemate\" and could only be broken by putting thousands more US troops in the region.\n",
      "But the US intelligence community was less confident that America could soon improve conditions in Afghanistan, even if more troops were sent in.\n",
      "\"The intelligence community assesses that the political and security situation in Afghanistan will almost certainly deteriorate through 2018, even with a modest increase in military assistance by the United States and its partners,\" Dan Coats, the director of national intelligence, said to the Senate Intelligence Committee on May 11.\n",
      "Months of infighting split Trumpworld as it tried to agree on a strategy to deal with an Afghanistan in crisis.\n",
      "On one side, Vice President Mike Pence and National Security Adviser H.R. McMaster advocated sending in more troops to advise and train Afghans to fight the Taliban over the next four years. On the other side, Bannon argued against sending in additional US forces but was open to a proposal by private contractor Erik Prince to replace troops with mercenaries.\n",
      "Prince, the former head the infamous private security firm Blackwater, also proposed installing an American \"viceroy\" to run the country and oversee the mercenaries.\n",
      "Defense Secretary Jim Mattis didn't like the proposal and tried to shut it down. McMaster even blocked Prince from attending a meeting last Friday on Afghanistan at Camp David, the presidential retreat, where Trump said he had made his decision.\n",
      "Other plans were also put in front of Trump, including a gradual troop withdrawal and an ongoing counterterrorism-focused mission with fewer troops than there are now. Trump, however, didn't like those options. He didn't think they would stop the country from being overrun by terrorists, and he didn't want to be remembered for letting that happen on his watch, Axios reports.\n",
      "Despite multiple meetings, Trump continually sent proposals back to his national security team for more work. One meeting in July was described to Politico as a \"shitshow\" where heated \"words were exchanged.\" Over time, officials grew frustrated with one another. At one point, Bannon's camp labeled Afghanistan as \"McMaster's War\" because of his push to send troops.\n",
      "There was even a coordinated right-wing online attack on McMaster to discredit him as Afghanistan deliberations continued. The lead story Monday night on Breitbart, the right-wing website Bannon took over for the second time after being fired by Trump late last week, said Trump's speech was a \"flip-flop\" because it seemed to involve sending more troops.\n",
      "At some of the meetings, Trump openly lamented that NATO allies - many of which have been fighting in the war since its start - weren't doing their fair share to help. The administration has signaled that NATO and the US must increase their troop totals in Afghanistan at the same rate.\n",
      "All the deliberation led Trump to blow by two deadlines for unveiling the new strategy. He'd been expected to release the plan before a NATO summit on May 25, but he instead used the occasion to bash allies for not spending enough on defense. Then Mattis told the Senate Armed Services Committee on June 13 that a strategy would be completed by mid-July - but it didn't materialize.\n",
      "Afghanistan is full of problems, including a more powerful Taliban and a corrupt government. The solutions have evaded the past two White Houses. Even the Obama administration had trouble achieving a victory despite overseeing 100,000 troops in 2011, the highest level to date.\n",
      "Some believe a military-focused solution won't be enough to tackle Afghanistan's issues. \"We keep putting Band-Aids on, we keep giving the patient aspirin, but we never do enough to solve the core causes,\" David Sedney, a former top Pentagon official focusing on Afghanistan and Pakistan, said in an interview. He added that more troops \"won't be enough to stop the bleeding and save the patient.\"\n",
      "Afghanistan won't be easy to solve, even with a new plan\n",
      "There are two main issues facing Afghanistan: the growing strength of the Taliban and other terrorist groups and Pakistan's role in failing to curb the crisis.\n",
      "According to a recent Pentagon report, there are about 20 terrorist groups operating in the Afghanistan and Pakistan region, including the Taliban, an ISIS offshoot, and al-Qaeda. The US and its allies have been training, advising, and assisting Afghan troops to push back on those militants since Afghanistan took the lead in fighting them three years ago.\n",
      "The New York Times reports that Afghanistan has about 21,000 special operations forces that perform about 70 to 80 percent of the country's fighting, even though they make up only about 7 percent of the country's forces.\n",
      "The good news is the Taliban has not overtaken any provincial capitals or important cities this year, but there is still a lot of violence in the country. The Pentagon notes that from December 1, 2016, to May 31, 2017, enemies attacked 4,806 times.\n",
      "In the same time period, there were more than 3,600 civilian casualties, about a third of them fatal. The total is about a 33 percent increase compared with the same time frame a year earlier, the Defense Department reported. Getting the Taliban to sit down for some sort of negotiation will be a tough task because of the gains they've made.\n",
      "It's also not a new idea. In fact, it was the same thinking the Obama administration used to determine its own strategy for the war. And as much as Trump doesn't like to be compared to Obama, it might be hard for him to escape the parallels when it comes to Afghanistan.\n",
      "On December 2, 2009 - after a year of intense deliberation and review - Obama announced he was sending 30,000 more US troops into Afghanistan, even though he also announced troops would start to come home 18 months later. Critics inside and outside the military blasted the decision because they said it signaled to the Taliban that they simply had to wait Obama out. That may be part of the reason why Trump chose not to announce a timeline.\n",
      "\"We are there to make sure that we don't have another 9/11 originate in Afghanistan,\" Andrew Wilder, an Afghanistan expert at the US Institute of Peace, told me. He was referring to how al-Qaeda was able to plan the attacks in Afghanistan's ungoverned places. That's why he feels it is important to commit US troops to the region: to ensure al-Qaeda or other groups don't have the time and space to plan that kind of strike again. Trump alluded to 9/11 a few times in his speech, citing the same concerns.\n",
      "And then there's Pakistan. Over the years, it has been a strange bedfellow for the US, helping America with counterterrorism missions while serving as a safe haven for terrorists. In his speech, Trump is expected to put more pressure on Pakistan to help stop the crisis there.\n",
      "Sedney said Pakistan doesn't have much of an incentive to help stabilize Afghanistan because of its fears that other countries - especially India, its historical nemesis - may use Afghanistan as a base to attack it in the future. A destabilized Afghanistan with terrorists in control of key areas makes it an unsafe place for other countries to station their troops.\n",
      "That means Trump's new strategy has to contend with a growing terrorism problem and an ally that has at best a mixed record of helping the US stop the fighting in Afghanistan. Devising the plan was hard for the White House. Making it work will be even harder.\n",
      "Correction: The Pentagon says 2,264 Americans have died in Afghanistan since 2001. An earlier version of this article incorrectly said the death toll was closer to 1,800.\n",
      "Target Summary: US President Donald Trump has announced plans for ending the 16-year war in Afghanistan. Trump's approach is similar to that of his predecessor, Barack Obama, who sent additional troops to the country in hopes they would convince the Taliban, which currently controls over 40% of Afghanistan, to negotiate a peace agreement. Obama also pressured Pakistan to cut down on the supply of fighters and weapons moving into Afghanistan and assist in other ways with the fight against terrorism. This approach will be continued by Trump, however, there will be no fixed timetable for troops to withdraw. Reports suggest Trump may send an extra 4,000 troops, which would add to the 8,400 already in the country. Trump has also threatened to cut aid to Pakistan, which he accused of housing terrorists, unless it ceases support for such groups. Trump has further stated that the war in Afghanistan is focused on counterterrorism, not nation building.\n",
      "\n",
      "Predicted Summary:  by\n",
      "\n",
      "Example 4:\n",
      "Bias: right\n",
      "Input: Trump to deliver prime-time address on 'national security crisis' at the border\n",
      "Shortly before Trump's tweet, CNN r eported that he was considering giving a prime-time national address, but that it was unclear if TV networks would air it.\n",
      "Trump's address is likely to come as negotiators struggle to strike a deal that will end the funding fight, which is affecting roughly 800,000 federal workers. Weekend talks between a White House team led by Vice President Mike Pence and congressional Democrats did not result in a breakthrough.\n",
      "Trump will visit the Mexican border on Thursday, a day before federal workers risk missing their first paycheck of the shutdown.\n",
      "Last week, Senate Minority Leader Chuck Schumer, D-N.Y., said that Trump threatened to continue the standoff for \" months or even years\" if he did not get wall funds. Trump confirmed the remarks during a subsequent Rose Garden press conference, but described talks as \"very, very productive.\"\n",
      "Trump is seeking $5.7 billion in wall funds, but the White House has indicated it would accept less. Congressional Democrats, however, have said they will approve no wall funds, seeking to deny Trump a chance to fulfill a signature 2016 campaign pledge.\n",
      "Target Summary: President Donald Trump is planning to deliver a prime-time address regarding what he calls a 'national security crisis' at the Mexico-US border. This comes amid the ongoing funding dispute over the border wall, which has affected approximately 800,000 federal workers. While Trump is seeking $5.7 billion for the wall's construction, Democrats in Congress have stated they won't approve any such funding. Trump is scheduled to visit the Mexico border later this week.\n",
      "\n",
      "Predicted Summary:  by\n",
      "\n",
      "Example 5:\n",
      "Bias: right\n",
      "Input: COVID-19 relief negotiations stall as lawmakers fail to compromise\n",
      "Sign up for our special edition newsletter to get a daily update on the coronavirus pandemic.\n",
      "WASHINGTON - Coronavirus aid negotiations continue to stall between lawmakers in Washington as millions of Americans face a financial breaking point amid the pandemic - with Nancy Pelosi vowing \"we're not budging.\"\n",
      "A call between the powerful House Speaker and White House chief of staff Mark Meadows - their first communication in weeks - proved fruitless on Thursday with both sides far apart on how much should be spent.\n",
      "Democrats in the House in May passed a generous $3.4 trillion aid package but Republicans balked at the large price tag and have refused to budge from their much slimmer $1 trillion bill.\n",
      "Pelosi (D. Calif) told reporters that Democrats would be willing to make a $1 trillion concession but said GOP lawmakers were unwilling to meet them in the middle.\n",
      "\"We have said again and again that we are willing to come down, meet them in the middle - that would be $2.2 trillion,\" Pelosi said after a 25-minute call with Meadows, per a Politico report.\n",
      "\"When they're ready to do that, we'll be ready to discuss and negotiate,\" she continued. \"I did not get that impression on that call.\"\n",
      "\"That could be a very short conversation if they're not willing to meet in the middle,\" she said earlier Thursday. \"We're not budging. Understand this - they have to move.\"\n",
      "Negotiations between Pelosi, Meadows, Senate Minority Leader Chuck Schumer and Treasury Secretary Steven Mnuchin dragged on for weeks in early August but neither side was able to reach an agreement before the federal $600-per-week boost to unemployment insurance ran out.\n",
      "Frustrated by the impasse, President Trump signed an executive order ensuring jobless Americans would still receive a reduced $300 weekly bonus to the state unemployment benefits.\n",
      "Democrats and Republicans have been unable to see past their differences, with Democrats pushing for funding for states, schools, food stamps, the Postal Service and rental assistance as the GOP prioritizes help for small businesses and protection from COVID-19 insurance claims.\n",
      "Meanwhile, millions of Americans have been rendered jobless by the pandemic which has shuttered large swathes of the country for months on end and has killed 180,000 people in the US.\n",
      "More than 58 million Americans have filed unemployment claims during the pandemic as more large companies like American Airlines plan to lay off up to 19,000 staff.\n",
      "Target Summary: Lawmakers in Washington have failed to agree on the provisions of a coronavirus relief bill, leading to stalls in the negotiation process. The two sides, represented by House Speaker Nancy Pelosi and White House chief Mark Meadows, are at odds over the budget for the relief funds. Democrats in the House have suggested a $3.4 trillion aid package, a proposal that Republicans, who advocate for a $1 trillion bill, have refused. Speaker Pelosi indicated that the Democrats were willing to make a $1 trillion concession, on the condition that the GOP meet in the middle for a $2.2 trillion package.\n",
      "\n",
      "Predicted Summary:  by\n",
      "\n"
     ]
    }
   ],
   "source": [
    "predicted_token_ids = preds.predictions.argmax(-1)\n",
    "\n",
    "# Now let's convert these token ids to actual text\n",
    "# We will decode the token ids while skipping the special tokens\n",
    "predicted_texts = [tokenizer.decode(token_ids, skip_special_tokens=True) for token_ids in predicted_token_ids]\n",
    "\n",
    "test_dataset = sampled_datasets['test']\n",
    "# Show a few example outputs\n",
    "for i in range(5):  # Just show the first 5 examples\n",
    "    print(f\"Example {i+1}:\")\n",
    "    print(f\"Bias: {test_dataset[i]['bias']}\")\n",
    "    print(f\"Input: {test_dataset[i]['article']}\")\n",
    "    print(f\"Target Summary: {test_dataset[i]['summary']}\")\n",
    "    print(f\"Predicted Summary: {predicted_texts[i]}\\n\")"
   ]
  },
  {
   "cell_type": "code",
   "execution_count": null,
   "id": "1a21e283-b524-4178-b8ca-890a8f67ba58",
   "metadata": {},
   "outputs": [],
   "source": []
  }
 ],
 "metadata": {
  "kernelspec": {
   "display_name": "instructsum",
   "language": "python",
   "name": "instructsum"
  },
  "language_info": {
   "codemirror_mode": {
    "name": "ipython",
    "version": 3
   },
   "file_extension": ".py",
   "mimetype": "text/x-python",
   "name": "python",
   "nbconvert_exporter": "python",
   "pygments_lexer": "ipython3",
   "version": "3.11.5"
  }
 },
 "nbformat": 4,
 "nbformat_minor": 5
}
