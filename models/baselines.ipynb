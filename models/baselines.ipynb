{
 "cells": [
  {
   "cell_type": "code",
   "execution_count": 65,
   "id": "5ebf879a-74a6-4e16-98ed-21be7faed44d",
   "metadata": {},
   "outputs": [
    {
     "name": "stderr",
     "output_type": "stream",
     "text": [
      "[nltk_data] Downloading package punkt to /Users/andrew/nltk_data...\n",
      "[nltk_data]   Package punkt is already up-to-date!\n"
     ]
    }
   ],
   "source": [
    "import numpy as np\n",
    "import json\n",
    "from transformers import AutoTokenizer\n",
    "import nltk\n",
    "nltk.download('punkt')\n",
    "from evaluate import load\n",
    "metric = load(\"rouge\")"
   ]
  },
  {
   "cell_type": "code",
   "execution_count": 6,
   "id": "0f6b17f2-ad65-427e-a4e5-1ca801e35c9b",
   "metadata": {},
   "outputs": [],
   "source": [
    "gpt35 = []\n",
    "with open(\"../data/gpt-3.5-test-output.jsonl\") as f:\n",
    "    for line in f:\n",
    "        gpt35.append(json.loads(line))"
   ]
  },
  {
   "cell_type": "code",
   "execution_count": 16,
   "id": "6e2ed78e-9196-4328-851b-1907281e3412",
   "metadata": {},
   "outputs": [],
   "source": [
    "gpt4 = []\n",
    "with open(\"../data/gpt-4-test-output.jsonl\") as f:\n",
    "    for line in f:\n",
    "        gpt4.append(json.loads(line))"
   ]
  },
  {
   "cell_type": "code",
   "execution_count": 17,
   "id": "711a7d78-8d48-4ac9-9605-01bc1bace189",
   "metadata": {},
   "outputs": [
    {
     "data": {
      "text/plain": [
       "(602, 602)"
      ]
     },
     "execution_count": 17,
     "metadata": {},
     "output_type": "execute_result"
    }
   ],
   "source": [
    "len(gpt35), len(gpt4)"
   ]
  },
  {
   "cell_type": "code",
   "execution_count": 33,
   "id": "340d4cc2-059b-46ca-b006-1b7dc0580d36",
   "metadata": {},
   "outputs": [
    {
     "data": {
      "text/plain": [
       "{'summary': \"Democratic presidential candidate Joe Biden has refused once more to answer questions on whether he would pack the Supreme Court if he wins in November. His evasion took place during campaign stops in Ohio. He did, however, hint that he is not in favour of court-packing and disagreed with Trump’s recent appointment of a Supreme Court nominee ahead of the election. Despite avoiding a definitive answer, Biden emphasised that the focus should be on Trump's current actions with the court, instead of hypothetical ones that he might take if elected.\\n\",\n",
       " 'article': 'Biden says he\\'s \\'not a fan\\' of court packing\\nDemocratic presidential nominee Joe Biden said Monday that he is \"not a fan\" of the idea of adding seats to the Supreme Court after repeatedly dodging questions about the issue.\\n\"I\\'m not a fan of court packing, but I don\\'t want to get off on that whole issue. I want to keep focused,\" Biden told WKRC, a Cincinnati-area CBS/CW affiliate. \"The president would like nothing better than to fight about whether or not I would in fact pack the court or not pack the court, et cetera. The focus is, why is he doing what he\\'s doing now?\"\\nThe former vice president also described Republicans\\' push to confirm Judge Amy Coney Barrett to the Supreme Court before November\\'s election as a form of court packing.\\n\"Court packing\\'s going on now. Never before, when an election has already begun and millions of votes already cast, has it ever been that a Supreme Court nominee was put forward,\" Biden said. \"And one of the reasons is the only shot the American people get to determine who will be on a lifetime appointment to the Supreme Court or federal court is when they pick their senator or their president.\"\\nBiden has previously called questions about his views on court packing a distraction, saying last week that \"the moment I answer that question, the headline in every one of your papers will be on the answer to that question.\"\\nBiden on Monday also discussed why his campaign was investing in Ohio, which President Trump won by about 8 points in 2016. The RealClearPolitics average of polling shows a statistical tie between Trump and Biden in the Buckeye State, with Biden 0.6 points ahead.\\n\"If you win Ohio, the game\\'s over. Ohio and Florida are two very important states that Trump won significantly the last time,\" he told WKRC. \"Ohio I think is a toss-up right here, we plan on investing here.\"',\n",
       " 'article_bias': 'center',\n",
       " 'id': '5037',\n",
       " 'summary_bias': 'right'}"
      ]
     },
     "execution_count": 33,
     "metadata": {},
     "output_type": "execute_result"
    }
   ],
   "source": [
    "gpt35[0][2]"
   ]
  },
  {
   "cell_type": "code",
   "execution_count": 34,
   "id": "e2dd8d0d-233f-4351-bb49-0352e5f9e01b",
   "metadata": {},
   "outputs": [],
   "source": [
    "preds35 = []\n",
    "labels35 = []\n",
    "preds35_filtered = []\n",
    "labels35_filtered = []\n",
    "for item in gpt35:\n",
    "    pred_summary = item[1][\"choices\"][0][\"message\"][\"content\"]\n",
    "    true_summary = item[2]['summary']\n",
    "    preds35.append(pred_summary)\n",
    "    labels35.append(true_summary)\n",
    "    if item[2]['article_bias'] != item[2]['summary_bias']:\n",
    "        preds35_filtered.append(pred_summary)\n",
    "        labels35_filtered.append(true_summary)"
   ]
  },
  {
   "cell_type": "code",
   "execution_count": 37,
   "id": "8f145f18-e8b3-434d-a1e3-4b16b9a35dc9",
   "metadata": {},
   "outputs": [],
   "source": [
    "preds4 = []\n",
    "labels4 = []\n",
    "preds4_filtered = []\n",
    "labels4_filtered = []\n",
    "for item in gpt4:\n",
    "    pred_summary = item[1][\"choices\"][0][\"message\"][\"content\"]\n",
    "    true_summary = item[2]['summary']\n",
    "    preds4.append(pred_summary)\n",
    "    labels4.append(true_summary)\n",
    "    if item[2]['article_bias'] != item[2]['summary_bias']:\n",
    "        preds4_filtered.append(pred_summary)\n",
    "        labels4_filtered.append(true_summary)"
   ]
  },
  {
   "cell_type": "code",
   "execution_count": 66,
   "id": "2dba0128-75db-415c-9856-cba44a879c6a",
   "metadata": {},
   "outputs": [],
   "source": [
    "tokenizer = AutoTokenizer.from_pretrained('facebook/bart-large-cnn')"
   ]
  },
  {
   "cell_type": "code",
   "execution_count": 72,
   "id": "b1963a39-3bca-49bf-ae9a-92c37bc03ad3",
   "metadata": {},
   "outputs": [],
   "source": [
    "def compute_metrics(predictions, labels):\n",
    "    # Rouge expects a newline after each sentence\n",
    "    decoded_preds = [\n",
    "        \"\\n\".join(nltk.sent_tokenize(pred.strip())) for pred in predictions\n",
    "    ]\n",
    "    decoded_labels = [\n",
    "        \"\\n\".join(nltk.sent_tokenize(label.strip())) for label in labels\n",
    "    ]\n",
    "\n",
    "    # Note that other metrics may not have a `use_aggregator` parameter\n",
    "    # and thus will return a list, computing a metric for each sentence.\n",
    "    result = metric.compute(\n",
    "        predictions=decoded_preds,\n",
    "        references=decoded_labels,\n",
    "        use_stemmer=True,\n",
    "        use_aggregator=True,\n",
    "    )\n",
    "    # Extract a few results\n",
    "    result = {key: value * 100 for key, value in result.items()}\n",
    "\n",
    "    # Add mean generated length\n",
    "    prediction_lens = [\n",
    "        len(tokenizer.encode(pred)) for pred in predictions\n",
    "    ]\n",
    "    result[\"gen_len\"] = np.mean(prediction_lens)\n",
    "\n",
    "    return {k: round(v, 4) for k, v in result.items()}"
   ]
  },
  {
   "cell_type": "code",
   "execution_count": 73,
   "id": "af54c680-23a7-4272-bc32-744a9c6eafde",
   "metadata": {},
   "outputs": [
    {
     "data": {
      "text/plain": [
       "{'rouge1': 37.8725,\n",
       " 'rouge2': 10.4547,\n",
       " 'rougeL': 21.4027,\n",
       " 'rougeLsum': 33.3545,\n",
       " 'gen_len': 132.99}"
      ]
     },
     "execution_count": 73,
     "metadata": {},
     "output_type": "execute_result"
    }
   ],
   "source": [
    "compute_metrics(preds35, labels35)"
   ]
  },
  {
   "cell_type": "code",
   "execution_count": 74,
   "id": "ba6e9c0e-b843-4bf1-ba58-574600a624c8",
   "metadata": {},
   "outputs": [
    {
     "data": {
      "text/plain": [
       "{'rouge1': 26.8912,\n",
       " 'rouge2': 7.3055,\n",
       " 'rougeL': 14.8793,\n",
       " 'rougeLsum': 23.8015,\n",
       " 'gen_len': 410.8339}"
      ]
     },
     "execution_count": 74,
     "metadata": {},
     "output_type": "execute_result"
    }
   ],
   "source": [
    "compute_metrics(preds4, labels4)"
   ]
  },
  {
   "cell_type": "code",
   "execution_count": 75,
   "id": "baec4ac5-4df9-491d-9f1a-acc8ed7ed872",
   "metadata": {},
   "outputs": [
    {
     "data": {
      "text/plain": [
       "{'rouge1': 34.9019,\n",
       " 'rouge2': 7.8862,\n",
       " 'rougeL': 19.1026,\n",
       " 'rougeLsum': 30.6104,\n",
       " 'gen_len': 131.9974}"
      ]
     },
     "execution_count": 75,
     "metadata": {},
     "output_type": "execute_result"
    }
   ],
   "source": [
    "compute_metrics(preds35_filtered, labels35_filtered)"
   ]
  },
  {
   "cell_type": "code",
   "execution_count": 76,
   "id": "d9ad0096-fb1a-45e8-8369-27f4e7b2e995",
   "metadata": {},
   "outputs": [
    {
     "data": {
      "text/plain": [
       "{'rouge1': 25.3446,\n",
       " 'rouge2': 6.1122,\n",
       " 'rougeL': 13.8997,\n",
       " 'rougeLsum': 22.4193,\n",
       " 'gen_len': 409.9136}"
      ]
     },
     "execution_count": 76,
     "metadata": {},
     "output_type": "execute_result"
    }
   ],
   "source": [
    "compute_metrics(preds4_filtered, labels4_filtered)"
   ]
  },
  {
   "cell_type": "code",
   "execution_count": 43,
   "id": "492618c5-aa58-4ffd-b9a4-a26102b36a8d",
   "metadata": {},
   "outputs": [
    {
     "data": {
      "text/plain": [
       "'Joe Biden has stated that he is \"not a fan\" of court packing, but believes that Republicans\\' push to confirm Judge Amy Coney Barrett to the Supreme Court before the election is a form of court packing. He has also described questions about his views on court packing as a distraction and emphasized the importance of investing in Ohio in the upcoming election. From the perspective of the political right, this may be seen as a shift in position on court packing and an attempt to avoid addressing the issue directly.'"
      ]
     },
     "execution_count": 43,
     "metadata": {},
     "output_type": "execute_result"
    }
   ],
   "source": [
    "preds35[0]"
   ]
  },
  {
   "cell_type": "code",
   "execution_count": 44,
   "id": "2678c657-ae69-45d2-982f-708f78d789e1",
   "metadata": {},
   "outputs": [
    {
     "data": {
      "text/plain": [
       "\"Democratic presidential candidate Joe Biden has refused once more to answer questions on whether he would pack the Supreme Court if he wins in November. His evasion took place during campaign stops in Ohio. He did, however, hint that he is not in favour of court-packing and disagreed with Trump’s recent appointment of a Supreme Court nominee ahead of the election. Despite avoiding a definitive answer, Biden emphasised that the focus should be on Trump's current actions with the court, instead of hypothetical ones that he might take if elected.\\n\""
      ]
     },
     "execution_count": 44,
     "metadata": {},
     "output_type": "execute_result"
    }
   ],
   "source": [
    "labels35[0]"
   ]
  },
  {
   "cell_type": "code",
   "execution_count": 28,
   "id": "baca8fd7-d1a5-442a-91a8-672c9cf02ed6",
   "metadata": {},
   "outputs": [
    {
     "data": {
      "text/plain": [
       "\"From the perspective of the political left, Senator John McCain's comments on Russia's actions regarding Syria reflect skepticism about the intentions and commitment of the Russian government in resolving the Syrian conflict, particularly in relation to the use of chemical weapons. Progressives might agree with McCain's assessment that Russia's reluctance to enforce the agreement with the threat of force undermines the potential success of the disarmament deal. They may also share his concern about Russia's continued support for the Assad regime, which complicates the situation and hinders efforts toward a peaceful resolution and protection of human rights in Syria.\\n\\nHowever, the left might diverge from McCain on the means to address the conflict. While McCain advocated for arming moderate rebel groups, those on the political left may argue for non-military approaches and diplomatic solutions to avoid further escalation of violence. They may emphasize the need for cautious engagement that considers the long-term implications of arming rebel factions, the risk of weapons falling into the hands of extremists, and the potential for increased civilian casualties. Left-leaning perspectives might call for international cooperation, humanitarian aid, and a negotiated settlement that includes all relevant stakeholders to achieve a sustainable peace in the region.\""
      ]
     },
     "execution_count": 28,
     "metadata": {},
     "output_type": "execute_result"
    }
   ],
   "source": [
    "preds4[0]"
   ]
  },
  {
   "cell_type": "code",
   "execution_count": 29,
   "id": "3b12f1fb-6692-49b5-af99-02132e9313d3",
   "metadata": {},
   "outputs": [
    {
     "data": {
      "text/plain": [
       "\"Senator John McCain has expressed skepticism towards Russia's sincerity in its deal with the U.S. to help remove chemical weapons from Syria. He believes that the agreement will be hard to enforce without the threat of force, emphasizing that Russia refuses to agree to the use of force, regardless of Bashar Assad's actions. McCain is also critical of Russia for not attributing blame for the August 21st chemical weapons attack and for continuing to arm Assad’s regime. He voiced his belief that Russia is not maintaining seriousness on the issue, while it continues to facilitate the provision of weapons to Syria. McCain also stated that if he were president, he would have increased support for the Free Syrian Army and provided weapons to moderate rebel fighters.\\n\""
      ]
     },
     "execution_count": 29,
     "metadata": {},
     "output_type": "execute_result"
    }
   ],
   "source": [
    "labels4[0]"
   ]
  },
  {
   "cell_type": "markdown",
   "id": "592f9a7b-408e-4644-afcd-0c700664fa24",
   "metadata": {},
   "source": [
    "# match gpt-3.5 outputs to gpt-4"
   ]
  },
  {
   "cell_type": "code",
   "execution_count": 45,
   "id": "292f7ebc-372e-47f0-89f1-cc68676818bc",
   "metadata": {},
   "outputs": [],
   "source": [
    "results = []\n",
    "for item in gpt35:\n",
    "    example = item[2]\n",
    "    gpt35_sum = item[1][\"choices\"][0][\"message\"][\"content\"]\n",
    "    for item2 in gpt4:\n",
    "        if item2[2] == example:\n",
    "            gpt4_sum = item2[1][\"choices\"][0][\"message\"][\"content\"]\n",
    "    example[\"gpt4\"] = gpt4_sum\n",
    "    example[\"gpt3.5\"] = gpt35_sum\n",
    "    results.append(example)"
   ]
  },
  {
   "cell_type": "code",
   "execution_count": 62,
   "id": "99aff74f-3fb2-4076-a081-5e5b9a8bf0f0",
   "metadata": {},
   "outputs": [],
   "source": [
    "def display_result(item):\n",
    "    print(f\"Article Bias {item['article_bias']}, Summary Bias {item['summary_bias']}, id {item['id']}\\n\")\n",
    "    print(f\"Summary: {item['summary']}\\n\")\n",
    "    print(\"GPT4:\", item['gpt4'], '\\n')\n",
    "    print(\"GPT3.5:\", item['gpt3.5'], '\\n')"
   ]
  },
  {
   "cell_type": "code",
   "execution_count": 63,
   "id": "ad060abf-5c30-4888-9e15-f5a1a09bac52",
   "metadata": {},
   "outputs": [
    {
     "name": "stdout",
     "output_type": "stream",
     "text": [
      "Article Bias left, Summary Bias right, id 4305\n",
      "\n",
      "Summary: Thirty-four US soldiers suffered traumatic brain injuries from an Iranian missile attack on Al Asad Air Base in Iraq back in early January, according to the Pentagon. Notably, the figure is higher than the 11 initially reported to have been treated for concussion symptoms following the incident. The missile attack came after escalated tensions between the US and Iran following a US airstrike that killed a high-ranking Iranian general. 17 of the affected troops are still under medical observation, per Pentagon spokesman Jonathan Hoffman.\n",
      "\n",
      "GPT4: From a political right perspective, the focus might be on the fact that injuries sustained in combat zones can often take time to manifest and that the Pentagon and Trump administration are actively monitoring and addressing the health of the troops. The increase in numbers from the initial report is seen not as a coverup or downplaying but as an example of the evolving nature of the medical diagnoses.\n",
      "\n",
      "In addressing the comments by President Trump, a conservative viewpoint might minimize the significance of his remarks by suggesting they were made with the information available at the time and that as Commander-in-Chief, he had a broader context to consider, such as overall military readiness and the strategic implications of the Iranian missile strike. Furthermore, Trump's description of the injuries as \"not very serious\" could be interpreted to mean that no immediate deaths or critical injuries were reported, which could maintain morale and prevent any propaganda gains for Iran.\n",
      "\n",
      "Defense Secretary Mark Esper's statement that the Pentagon does not normally report such injuries might be defended by emphasizing the distinction between routine medical issues handled on an outpatient basis and more serious combat injuries that require extensive medical care or hospitalization, justifying why these incidents were not immediately reported to the public.\n",
      "\n",
      "Overall, from the perspective of the political right, the situation is seen as one that has been handled appropriately and responsibly, with transparency being balanced against the need for accurate information and continuous evaluation. The administration is dedicated to the wellbeing of U.S. troops, and the evolving nature of the reported injuries showcases the complexity and challenges faced in modern warfare and military health care, rather than an attempt to minimize or obfuscate the facts. \n",
      "\n",
      "GPT3.5: From the perspective of the political right, the initial reports of 34 U.S. troops being diagnosed with concussions or traumatic brain injuries after an Iranian missile attack were downplayed by President Trump, who referred to the injuries as \"headaches.\" The Pentagon has since acknowledged the higher number of injuries and has ordered a review of its procedures for tracking and reporting injuries. Defense Secretary Mark Esper defended the Pentagon's reporting of injuries and emphasized the commitment to transparency and accurate categorization of injuries. \n",
      "\n"
     ]
    }
   ],
   "source": [
    "display_result(results[4])"
   ]
  },
  {
   "cell_type": "code",
   "execution_count": 83,
   "id": "94e7622f-fc52-4521-bf83-22742aa93340",
   "metadata": {},
   "outputs": [
    {
     "name": "stdout",
     "output_type": "stream",
     "text": [
      "Article Bias left, Summary Bias right, id 5010\n",
      "\n",
      "Summary: Seventeen Republican congressmen and Justin Amash voted against the House resolution condemning QAnon, a conspiracy theorist group. Rep. Buddy Carter of Georgia was one of those who voted against the resolution but later explained that he did so unintentionally. Some of the representatives believe that voting against the resolution was a means to avoid giving QAnon any legitimacy. In addition, some emphasize that Congress should focus on more pressing issues like addressing city violence and providing relief to small businesses and working families amid the pandemic. President Trump had previously been criticized for not directly condemning QAnon.\n",
      "\n",
      "GPT4: From a political right perspective, the hesitation or refusal by some Republicans to condemn QAnon through a resolution can be attributed to a number of reasons that conservatives might argue:\n",
      "\n",
      "1. **Free Speech Concerns**: Some on the political right may argue that condemning a particular conspiracy theory sets a precedent for Congress policing thought and speech, going against the First Amendment values. They may feel that as bizarre or outlandish as QAnon beliefs might be, it is not the place of the government to officially censure such expressions.\n",
      "\n",
      "2. **Political Calculations**: Politicians are often driven by the preferences of their constituents. Republicans balking at the resolution might have done so because they believe that outright condemnation of QAnon could alienate a segment of their voter base that finds some resonance with QAnon narratives or is skeptical of what they view as \"establishment\" interference.\n",
      "\n",
      "3. **Concerns over Partisan Bias**: The gesture to condemn QAnon might be viewed by some Republicans as a partisan move orchestrated by Democrats to paint the GOP in a negative light by associating them with fringe elements. They might see this resolution as an unfair attempt to force them into a defensive position or to suggest that the Republican Party has to answer for the most extreme views of any of its supporters.\n",
      "\n",
      "4. **Unease with Precedent**: There can be discomfort with the idea of Congress passing resolutions to condemn ideas, particularly if it's seen as a slippery slope that could lead to further sanctions against individuals for their beliefs rather than their actions. Some on the right might oppose such resolutions out of principle, regardless of the specific group mentioned.\n",
      "\n",
      "5. **Skepticism of the Threat Level**: Some Republicans may not be convinced that QAnon represents a real or significant threat. They may believe that the issue is being blown out of proportion for political purposes and not see the inherent danger that others claim it possesses.\n",
      "\n",
      "6. **Internal Divisions**: The modern conservative movement and the GOP include a variety of factions with differing priorities and beliefs. Some members may sympathize with aspects of the QAnon phenomenon, particularly its anti-establishment sentiments, even if they don't subscribe to all of its tenets.\n",
      "\n",
      "7. **Opportunism**: Political opportunism could also play a role. Some Republicans might see an advantage in not openly condemning QAnon, leveraging the fervor of its adherents for political mobilization, fundraising, or to garner media attention.\n",
      "\n",
      "It's clear that the position on QAnon within conservative circles is not monolithic, and responses to the resolution will reflect that diversity of thought and political strategy. However, from a conservative point of view, it's important to emphasize the need for careful evaluation of the consequences of such resolutions, adherence to constitutional values, and the ongoing challenge of balancing the rejection of extremist ideologies with the protection of political expression. \n",
      "\n",
      "GPT3.5: Some Republicans balked at the resolution condemning QAnon because they believe in the conspiracy theory or sympathize with its followers. They may also see it as a political issue, with tacit encouragement from President Trump and rising support within conservative politics. Additionally, some may have concerns about government overreach in condemning a specific belief or ideology. \n",
      "\n"
     ]
    }
   ],
   "source": [
    "display_result(results[11])"
   ]
  },
  {
   "cell_type": "code",
   "execution_count": null,
   "id": "cf6d6641-6065-4208-b366-f669bba7322a",
   "metadata": {},
   "outputs": [],
   "source": []
  }
 ],
 "metadata": {
  "kernelspec": {
   "display_name": "instructsum",
   "language": "python",
   "name": "python3"
  },
  "language_info": {
   "codemirror_mode": {
    "name": "ipython",
    "version": 3
   },
   "file_extension": ".py",
   "mimetype": "text/x-python",
   "name": "python",
   "nbconvert_exporter": "python",
   "pygments_lexer": "ipython3",
   "version": "3.11.5"
  }
 },
 "nbformat": 4,
 "nbformat_minor": 5
}
