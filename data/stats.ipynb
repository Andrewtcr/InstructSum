{
 "cells": [
  {
   "cell_type": "code",
   "execution_count": 103,
   "id": "4e18094b-a96f-4d7f-a783-f180cff5c12b",
   "metadata": {},
   "outputs": [],
   "source": [
    "import os\n",
    "import json\n",
    "from collections import defaultdict\n",
    "import numpy as np\n",
    "import matplotlib.pyplot as plt"
   ]
  },
  {
   "cell_type": "code",
   "execution_count": 70,
   "id": "49473469-1162-4d77-8d98-20a0ae8bf88f",
   "metadata": {},
   "outputs": [],
   "source": [
    "import tiktoken\n",
    "# encoder = tiktoken.get_encoding(\"cl100k_base\") # openai encoder\n",
    "\n",
    "from transformers import AutoTokenizer\n",
    "encoder = AutoTokenizer.from_pretrained(\"facebook/bart-large-cnn\")"
   ]
  },
  {
   "cell_type": "code",
   "execution_count": 12,
   "id": "f3c23122-ddf0-4031-8fa2-013f16303262",
   "metadata": {},
   "outputs": [],
   "source": [
    "files = os.listdir(\"AllSidesArticles/\")"
   ]
  },
  {
   "cell_type": "code",
   "execution_count": 13,
   "id": "f172644a-56a8-465e-8871-84e67d211846",
   "metadata": {},
   "outputs": [],
   "source": [
    "with open(f\"AllSidesArticles/{files[0]}\") as f:\n",
    "        s = json.load(f)"
   ]
  },
  {
   "cell_type": "code",
   "execution_count": 14,
   "id": "af95d744-1a69-4956-acd6-90b4967abbbd",
   "metadata": {},
   "outputs": [],
   "source": [
    "articles = {}\n",
    "for path in files:\n",
    "    if path.endswith(\".json\"):\n",
    "        with open(f\"AllSidesArticles/{path}\") as f:\n",
    "            dic = json.load(f)\n",
    "            title = dic.get(\"newsTitle\")\n",
    "            body = dic.get(\"fullArticle\")\n",
    "            if not body:\n",
    "                continue\n",
    "            else:\n",
    "                body = \"\\n\".join(body)\n",
    "            articles[path[:-5]] = f\"{title}\\n{body}\""
   ]
  },
  {
   "cell_type": "markdown",
   "id": "def31710-0789-44cf-9a26-eb0b98bea44c",
   "metadata": {},
   "source": [
    "## Articles"
   ]
  },
  {
   "cell_type": "code",
   "execution_count": 71,
   "id": "c99bcc67-0c5b-4e25-a627-a478dc463022",
   "metadata": {},
   "outputs": [
    {
     "data": {
      "text/plain": [
       "2140"
      ]
     },
     "execution_count": 71,
     "metadata": {},
     "output_type": "execute_result"
    }
   ],
   "source": [
    "len(articles)"
   ]
  },
  {
   "cell_type": "code",
   "execution_count": 72,
   "id": "f078e45c-5f0c-435f-91b7-be2069ea934f",
   "metadata": {},
   "outputs": [],
   "source": [
    "ids = set()\n",
    "for key in articles.keys():\n",
    "    ids.add(int(key.split('_')[0]))"
   ]
  },
  {
   "cell_type": "code",
   "execution_count": 73,
   "id": "104ebb61-758c-47cc-a07f-3b0fe830f675",
   "metadata": {},
   "outputs": [
    {
     "data": {
      "text/plain": [
       "846"
      ]
     },
     "execution_count": 73,
     "metadata": {},
     "output_type": "execute_result"
    }
   ],
   "source": [
    "len(ids)"
   ]
  },
  {
   "cell_type": "code",
   "execution_count": 74,
   "id": "65a6dba1-d4b3-4c0b-80ee-145401698753",
   "metadata": {},
   "outputs": [
    {
     "name": "stderr",
     "output_type": "stream",
     "text": [
      "Token indices sequence length is longer than the specified maximum sequence length for this model (1535 > 1024). Running this sequence through the model will result in indexing errors\n"
     ]
    }
   ],
   "source": [
    "toklens = {key: len(encoder.encode(text)) for key, text in articles.items()}"
   ]
  },
  {
   "cell_type": "code",
   "execution_count": 75,
   "id": "ab0f2de6-0b3f-49e4-b2e7-c9b11c7fbf92",
   "metadata": {
    "tags": []
   },
   "outputs": [],
   "source": [
    "toklens = sorted(toklens.items(), key=lambda x: x[1], reverse=True)"
   ]
  },
  {
   "cell_type": "code",
   "execution_count": 76,
   "id": "8e4b003b-f2bb-478a-a62b-07682694dadc",
   "metadata": {},
   "outputs": [
    {
     "data": {
      "text/plain": [
       "[('4198_left', 9698),\n",
       " ('5188_left', 9549),\n",
       " ('2049_center', 8906),\n",
       " ('1831_left', 8292),\n",
       " ('5036_center', 7616),\n",
       " ('4440_center', 7277),\n",
       " ('4159_center', 6899),\n",
       " ('5142_center', 5742),\n",
       " ('4584_left', 5652),\n",
       " ('5177_left', 5640)]"
      ]
     },
     "execution_count": 76,
     "metadata": {},
     "output_type": "execute_result"
    }
   ],
   "source": [
    "toklens[:10] # 10 longest articles"
   ]
  },
  {
   "cell_type": "code",
   "execution_count": 77,
   "id": "6f95db9b-243a-4eb7-b6ea-cfbb98396215",
   "metadata": {},
   "outputs": [
    {
     "data": {
      "text/plain": [
       "[('2702_center', 107),\n",
       " ('1106_left', 104),\n",
       " ('4020_center', 97),\n",
       " ('2758_center', 93),\n",
       " ('2025_center', 88),\n",
       " ('2235_left', 82),\n",
       " ('4203_center', 80),\n",
       " ('2845_right', 61),\n",
       " ('3370_center', 50),\n",
       " ('4433_center', 31)]"
      ]
     },
     "execution_count": 77,
     "metadata": {},
     "output_type": "execute_result"
    }
   ],
   "source": [
    "toklens[-10:] # 10 shortest"
   ]
  },
  {
   "cell_type": "code",
   "execution_count": 78,
   "id": "2100ddb5-80eb-4638-b71b-8f2772224c13",
   "metadata": {},
   "outputs": [
    {
     "data": {
      "text/plain": [
       "'Trump declares national emergency to bolster funding for fighting virus outbreak\\nWASHINGTON (AP) — Trump declares national emergency to bolster funding for fighting virus outbreak.'"
      ]
     },
     "execution_count": 78,
     "metadata": {},
     "output_type": "execute_result"
    }
   ],
   "source": [
    "articles['4433_center']"
   ]
  },
  {
   "cell_type": "code",
   "execution_count": 79,
   "id": "021da238-6ab5-44bd-ac59-1e0cf2d7ac4a",
   "metadata": {},
   "outputs": [
    {
     "data": {
      "text/plain": [
       "'Republican Senator Collins says will vote to confirm Kavanaugh\\nWASHINGTON (Reuters) - Republican U.S. Senator Susan Collins said on Friday she will vote to confirm the nomination of Brett Kavanaugh to the Supreme Court, strongly increasing his chances of confirmation.'"
      ]
     },
     "execution_count": 79,
     "metadata": {},
     "output_type": "execute_result"
    }
   ],
   "source": [
    "articles['3370_center']"
   ]
  },
  {
   "cell_type": "markdown",
   "id": "86ce1b96-6566-480d-a083-489c1339fcde",
   "metadata": {},
   "source": [
    "## token analysis"
   ]
  },
  {
   "cell_type": "code",
   "execution_count": 81,
   "id": "8db50705-d45a-4992-aeaf-4ac88eeb8101",
   "metadata": {},
   "outputs": [],
   "source": [
    "tkl_list = [x[1] for x in toklens]"
   ]
  },
  {
   "cell_type": "code",
   "execution_count": 88,
   "id": "b659ef43-d63b-4e94-b768-972721664274",
   "metadata": {},
   "outputs": [
    {
     "data": {
      "text/plain": [
       "(18, 519, 278575)"
      ]
     },
     "execution_count": 88,
     "metadata": {},
     "output_type": "execute_result"
    }
   ],
   "source": [
    "min(sum_toks), max(sum_toks), sum(sum_toks)"
   ]
  },
  {
   "cell_type": "code",
   "execution_count": 83,
   "id": "228cabf5-cb6a-48c6-8496-98720d412558",
   "metadata": {},
   "outputs": [
    {
     "data": {
      "image/png": "[encoded data removed]",
      "text/plain": [
       "<Figure size 640x480 with 1 Axes>"
      ]
     },
     "metadata": {},
     "output_type": "display_data"
    }
   ],
   "source": [
    "plt.hist(tkl_list, bins=50)\n",
    "mean = np.mean(tkl_list)\n",
    "median = np.median(tkl_list)\n",
    "# plt.axvline(mean, label=f\"mean: {mean:.2f}\", color=\"yellow\")\n",
    "plt.axvline(median, label=f\"median: {median:.2f}\", color=\"green\")\n",
    "plt.axvline(1028, color=\"red\", label=\"1028\")\n",
    "plt.legend()\n",
    "plt.show()"
   ]
  },
  {
   "cell_type": "markdown",
   "id": "aa84b876-efe2-48a3-8654-fdb1daad9294",
   "metadata": {},
   "source": [
    "=> most articles fit within 1028 BART max seq len"
   ]
  },
  {
   "cell_type": "code",
   "execution_count": 41,
   "id": "5a0f7dff-8277-4555-9186-8f523bceef5d",
   "metadata": {},
   "outputs": [
    {
     "data": {
      "text/plain": [
       "0.4247663551401869"
      ]
     },
     "execution_count": 41,
     "metadata": {},
     "output_type": "execute_result"
    }
   ],
   "source": [
    "# 42% of articles with length > 1028\n",
    "len([l for l in tkl_list if l > 1028]) / len(tkl_list)"
   ]
  },
  {
   "cell_type": "markdown",
   "id": "94c6e667-d928-4034-b0b1-2ccfa6e2d6c9",
   "metadata": {},
   "source": [
    "## GPT-4 Generated Target Summaries"
   ]
  },
  {
   "cell_type": "code",
   "execution_count": 84,
   "id": "3b572d36-3f1f-4aa9-ba4c-db029a4a8061",
   "metadata": {},
   "outputs": [],
   "source": [
    "summs = {}\n",
    "fnames = os.listdir(\"Summaries\")\n",
    "for fn in fnames:\n",
    "    with open(f\"Summaries/{fn}\") as f:\n",
    "        summs[fn[:-4]] = f.read()"
   ]
  },
  {
   "cell_type": "code",
   "execution_count": 85,
   "id": "aad44f4a-6949-4e60-99a2-51be0a1596bd",
   "metadata": {},
   "outputs": [],
   "source": [
    "sum_toks = [len(encoder.encode(t)) for t in summs.values()]"
   ]
  },
  {
   "cell_type": "code",
   "execution_count": 88,
   "id": "4dd3939b",
   "metadata": {},
   "outputs": [
    {
     "data": {
      "text/plain": [
       "(18, 519, 278575)"
      ]
     },
     "execution_count": 88,
     "metadata": {},
     "output_type": "execute_result"
    }
   ],
   "source": [
    "min(sum_toks), max(sum_toks), sum(sum_toks)"
   ]
  },
  {
   "cell_type": "code",
   "execution_count": 89,
   "id": "9b801f46-6447-41e9-b44c-7d19b85ef107",
   "metadata": {},
   "outputs": [
    {
     "data": {
      "image/png": "[encoded data removed]",
      "text/plain": [
       "<Figure size 640x480 with 1 Axes>"
      ]
     },
     "metadata": {},
     "output_type": "display_data"
    }
   ],
   "source": [
    "plt.hist(sum_toks, bins=50)\n",
    "mean = np.mean(sum_toks)\n",
    "med = np.median(sum_toks)\n",
    "# plt.axvline(mean, label=f\"mean: {mean:.2f}\", color=\"yellow\")\n",
    "plt.axvline(med, label=f\"median: {med}\", color=\"green\")\n",
    "plt.axvline(128, label=\"128\", color=\"red\")\n",
    "plt.legend()\n",
    "plt.show()"
   ]
  },
  {
   "cell_type": "markdown",
   "id": "eb3bfb2a-2b0a-4a0c-b742-574361457c6a",
   "metadata": {},
   "source": [
    "=> most summaries fit within BART max target length (128)"
   ]
  },
  {
   "cell_type": "markdown",
   "id": "c4c0ecf8-4382-47bf-955e-b68384f99b7d",
   "metadata": {},
   "source": [
    "## bias"
   ]
  },
  {
   "cell_type": "code",
   "execution_count": 98,
   "id": "15879481-a120-40e5-896d-bfc476e0ab55",
   "metadata": {},
   "outputs": [],
   "source": [
    "left, center, right = 0,0,0\n",
    "for name in articles.keys():\n",
    "    id, bias = name.split(\"_\")\n",
    "    if bias == \"left\":\n",
    "        left += 1\n",
    "    elif bias == \"center\":\n",
    "        center += 1\n",
    "    elif bias == 'right':\n",
    "        right += 1"
   ]
  },
  {
   "cell_type": "code",
   "execution_count": 101,
   "id": "411bf7b3-3daf-41a8-bdb6-d0bace72adc6",
   "metadata": {},
   "outputs": [
    {
     "name": "stdout",
     "output_type": "stream",
     "text": [
      "[721, 713, 706]\n"
     ]
    },
    {
     "data": {
      "image/png": "[encoded data removed]",
      "text/plain": [
       "<Figure size 640x480 with 1 Axes>"
      ]
     },
     "metadata": {},
     "output_type": "display_data"
    }
   ],
   "source": [
    "data = [left, center, right]\n",
    "plt.bar([\"left\", 'center', 'right'], data)\n",
    "print(data)"
   ]
  },
  {
   "cell_type": "markdown",
   "id": "8f3edf3c-95b0-4baf-b564-cfe1d9048945",
   "metadata": {},
   "source": [
    "## pairs"
   ]
  },
  {
   "cell_type": "code",
   "execution_count": 108,
   "id": "b59e8caf-1ece-49c5-afe2-9b1fb70791f2",
   "metadata": {},
   "outputs": [],
   "source": [
    "pairs = defaultdict(set)\n",
    "for name in articles.keys():\n",
    "    id, bias = name.split('_')\n",
    "    pairs[id].add(bias)"
   ]
  },
  {
   "cell_type": "code",
   "execution_count": 110,
   "id": "67c66a98-4cab-4ca7-8219-b032ddec93d0",
   "metadata": {},
   "outputs": [],
   "source": [
    "num_pairs = defaultdict(int)\n",
    "for pair in pairs.values():\n",
    "    num_pairs[tuple(pair)] += 1"
   ]
  },
  {
   "cell_type": "code",
   "execution_count": 114,
   "id": "44bc1a0f-7461-48cf-b65f-c57a1920e99e",
   "metadata": {},
   "outputs": [
    {
     "data": {
      "text/plain": [
       "defaultdict(int,\n",
       "            {('center', 'left', 'right'): 540,\n",
       "             ('left', 'right'): 66,\n",
       "             ('center', 'left'): 80,\n",
       "             ('right',): 32,\n",
       "             ('center', 'right'): 68,\n",
       "             ('center',): 25,\n",
       "             ('left',): 35})"
      ]
     },
     "execution_count": 114,
     "metadata": {},
     "output_type": "execute_result"
    }
   ],
   "source": [
    "num_pairs"
   ]
  },
  {
   "cell_type": "code",
   "execution_count": null,
   "id": "b043bcd4-1014-4a19-ac50-a488703d088d",
   "metadata": {},
   "outputs": [],
   "source": []
  }
 ],
 "metadata": {
  "kernelspec": {
   "display_name": "instructsum",
   "language": "python",
   "name": "instructsum"
  },
  "language_info": {
   "codemirror_mode": {
    "name": "ipython",
    "version": 3
   },
   "file_extension": ".py",
   "mimetype": "text/x-python",
   "name": "python",
   "nbconvert_exporter": "python",
   "pygments_lexer": "ipython3",
   "version": "3.11.5"
  }
 },
 "nbformat": 4,
 "nbformat_minor": 5
}
