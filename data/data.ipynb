{
 "cells": [
  {
   "cell_type": "code",
   "execution_count": 1,
   "id": "5fd69a4e-e2c0-428d-934c-b90c90db0558",
   "metadata": {},
   "outputs": [
    {
     "name": "stderr",
     "output_type": "stream",
     "text": [
      "/Users/andrew/opt/anaconda3/envs/instructsum/lib/python3.11/site-packages/tqdm/auto.py:21: TqdmWarning: IProgress not found. Please update jupyter and ipywidgets. See https://ipywidgets.readthedocs.io/en/stable/user_install.html\n",
      "  from .autonotebook import tqdm as notebook_tqdm\n"
     ]
    },
    {
     "name": "stdout",
     "output_type": "stream",
     "text": [
      "Intel MKL WARNING: Support of Intel(R) Streaming SIMD Extensions 4.2 (Intel(R) SSE4.2) enabled only processors has been deprecated. Intel oneAPI Math Kernel Library 2025.0 will require Intel(R) Advanced Vector Extensions (Intel(R) AVX) instructions.\n",
      "Intel MKL WARNING: Support of Intel(R) Streaming SIMD Extensions 4.2 (Intel(R) SSE4.2) enabled only processors has been deprecated. Intel oneAPI Math Kernel Library 2025.0 will require Intel(R) Advanced Vector Extensions (Intel(R) AVX) instructions.\n"
     ]
    }
   ],
   "source": [
    "import os\n",
    "import json\n",
    "import random\n",
    "import time\n",
    "\n",
    "# from openai import OpenAI\n",
    "from tqdm.auto import tqdm\n",
    "import matplotlib.pyplot as plt\n",
    "import numpy as np"
   ]
  },
  {
   "cell_type": "code",
   "execution_count": 2,
   "id": "414538b8-1c7d-4499-8d94-61994d9abb9e",
   "metadata": {},
   "outputs": [],
   "source": [
    "import tiktoken"
   ]
  },
  {
   "cell_type": "code",
   "execution_count": 10,
   "id": "ced55115-ec1d-459a-a974-ac17bb35d1fe",
   "metadata": {},
   "outputs": [],
   "source": [
    "encoder = tiktoken.get_encoding(\"cl100k_base\")"
   ]
  },
  {
   "cell_type": "code",
   "execution_count": 4,
   "id": "dbd2785f-c848-479a-a3ec-25ae1869847e",
   "metadata": {},
   "outputs": [],
   "source": [
    "files = os.listdir(\"AllSidesArticles/\")"
   ]
  },
  {
   "cell_type": "code",
   "execution_count": 5,
   "id": "6fa19cd6-2b59-4356-8ece-d01daa5bb188",
   "metadata": {},
   "outputs": [],
   "source": [
    "with open(f\"AllSidesArticles/{files[0]}\") as f:\n",
    "        s = json.load(f)"
   ]
  },
  {
   "cell_type": "code",
   "execution_count": 6,
   "id": "346dcb8e-6e22-49ba-adb9-fd92cde880e2",
   "metadata": {},
   "outputs": [],
   "source": [
    "articles = {}\n",
    "for path in files:\n",
    "    if path.endswith(\".json\"):\n",
    "        with open(f\"AllSidesArticles/{path}\") as f:\n",
    "            dic = json.load(f)\n",
    "            title = dic.get(\"newsTitle\")\n",
    "            body = dic.get(\"fullArticle\")\n",
    "            if not body:\n",
    "                continue\n",
    "            else:\n",
    "                body = \"\\n\".join(body)\n",
    "            articles[path[:-5]] = f\"{title}\\n{body}\""
   ]
  },
  {
   "cell_type": "code",
   "execution_count": 7,
   "id": "179acf2e-72f1-420e-9ec2-36a5e5be44b3",
   "metadata": {},
   "outputs": [
    {
     "data": {
      "text/plain": [
       "2140"
      ]
     },
     "execution_count": 7,
     "metadata": {},
     "output_type": "execute_result"
    }
   ],
   "source": [
    "len(articles)"
   ]
  },
  {
   "cell_type": "code",
   "execution_count": 115,
   "id": "c2d9cdc5-7e73-4f6a-8037-b02914d906d5",
   "metadata": {},
   "outputs": [
    {
     "name": "stdout",
     "output_type": "stream",
     "text": [
      "5188_left\n",
      "2049_center\n",
      "4198_left\n"
     ]
    }
   ],
   "source": [
    "# parse articles into proper format for api_request_parallel_processor\n",
    "with open(\"articles.jsonl\", \"w+\") as f:\n",
    "    for key, text in articles.items():\n",
    "        prompt = \"Summarize the following:\\n\" + text\n",
    "        if len(encoder.encode(prompt)) > 8192:\n",
    "            print(key)\n",
    "            continue\n",
    "        d = dict(model=\"gpt-4\", messages=[{\"role\": \"user\", \"content\": prompt}])\n",
    "        json_record = json.dumps(d)\n",
    "        f.write(json_record + '\\n')"
   ]
  },
  {
   "cell_type": "markdown",
   "id": "dd3559b6-f9c2-48a7-aabd-540c9abaa0d7",
   "metadata": {},
   "source": [
    "=> put these manually into GPT-4 web interface"
   ]
  },
  {
   "cell_type": "markdown",
   "id": "131495e2-f989-47d8-b429-c324f5f42d9d",
   "metadata": {},
   "source": [
    "# Convert unindexed output summaries in jsonl to txt"
   ]
  },
  {
   "cell_type": "code",
   "execution_count": 10,
   "id": "9949fd57-7cd1-46cb-9c2a-f951c758001d",
   "metadata": {},
   "outputs": [],
   "source": [
    "summaries = []\n",
    "with open(\"summaries.jsonl\") as f:\n",
    "    for line in f:\n",
    "        summaries.append(json.loads(line))"
   ]
  },
  {
   "cell_type": "code",
   "execution_count": 21,
   "id": "1c143de9-dfe2-47e4-89f8-7d19dbbc4bf8",
   "metadata": {},
   "outputs": [],
   "source": [
    "def find_key_by_value(my_dict, search_value):\n",
    "    for key, value in my_dict.items():\n",
    "        if value == search_value:\n",
    "            return key\n",
    "    return None"
   ]
  },
  {
   "cell_type": "code",
   "execution_count": 166,
   "id": "a307ab54-a866-4c85-86d2-25bff808acc7",
   "metadata": {},
   "outputs": [],
   "source": [
    "for item in summaries:\n",
    "    name = find_key_by_value(articles, item[0][\"messages\"][0][\"content\"][25:])\n",
    "    with open(f\"Summaries/{name}.txt\", \"w+\") as f:\n",
    "        f.write(item[1][\"choices\"][0][\"message\"][\"content\"])"
   ]
  },
  {
   "cell_type": "markdown",
   "id": "feb1da93-d55c-453d-a1c5-3a8f582adeed",
   "metadata": {},
   "source": [
    "# Make dataset"
   ]
  },
  {
   "cell_type": "code",
   "execution_count": 83,
   "id": "7f31cb09-a0d0-4e79-bed4-0f4447b36676",
   "metadata": {},
   "outputs": [],
   "source": [
    "from collections import defaultdict"
   ]
  },
  {
   "cell_type": "code",
   "execution_count": 64,
   "id": "0f377d9e-37f3-44e6-9f31-5b54315219a8",
   "metadata": {},
   "outputs": [
    {
     "data": {
      "text/plain": [
       "True"
      ]
     },
     "execution_count": 64,
     "metadata": {},
     "output_type": "execute_result"
    }
   ],
   "source": [
    "summs.keys() == articles.keys()"
   ]
  },
  {
   "cell_type": "code",
   "execution_count": 65,
   "id": "797d8f6c-f660-4f60-b2f3-809dc3c26759",
   "metadata": {},
   "outputs": [],
   "source": [
    "biases = {\"left\", \"right\", \"center\"}"
   ]
  },
  {
   "cell_type": "code",
   "execution_count": 78,
   "id": "5d8c8d69-b155-4740-b299-5e76efda129b",
   "metadata": {},
   "outputs": [],
   "source": [
    "data = []\n",
    "for key, summ in summs.items():\n",
    "    topic_id, summ_bias = key.split('_')\n",
    "    for bias in biases:\n",
    "        article = articles.get(f\"{topic_id}_{bias}\")\n",
    "        if article:\n",
    "            data.append({\n",
    "                  \"id\": topic_id,\n",
    "                  \"article_bias\": bias,\n",
    "                  \"summary_bias\": summ_bias,\n",
    "                  \"article\": article,\n",
    "                  \"summary\": summ\n",
    "              })"
   ]
  },
  {
   "cell_type": "code",
   "execution_count": 79,
   "id": "a5ce3488-a9b0-4ac5-b000-49df2855dff8",
   "metadata": {
    "collapsed": true,
    "jupyter": {
     "outputs_hidden": true
    },
    "tags": []
   },
   "outputs": [
    {
     "data": {
      "text/plain": [
       "{'id': '93',\n",
       " 'article_bias': 'center',\n",
       " 'summary_bias': 'left',\n",
       " 'article': 'Lower-Key Ceremonies For This Year\\'s Sept. 11 Commemoration\\nHide caption Airline pilots Capt. Anthony Chapman (right) and Capt. Paul Evans salute with others as the U.S. flag is lowered to half staff at the 9/11 Flight Crew Memorial in Grapevine, Texas. Flight crews gathered at the memorial near Dallas-Fort Worth airport to remember the flight crews lost in the Sept. 11 attacks. Previous Next LM Otero/AP\\nHide caption Judy Parisio (right) and Linda Malbrba make a rubbing of their niece\\'s name, Frances Ann Cilente, who worked at the World Trade Center, during ceremonies marking the anniversary of the Sept. 11 attacks. Previous Next Chang W. Lee/Pool/Reuters/Landov\\nHide caption President Obama, first lady Michelle and members of the White House staff pause for a moment of silence to mark the anniversary on the South Lawn of the White House. Previous Next Carolyn Kaster/AP\\nHide caption New York City police bugler Gabe Perdomo warms up next to the South Pool at ground zero during Tuesday\\'s memorial ceremonies for the 11th anniversary of the Sept. 11 attacks. Previous Next Justin Lane/Pool/Getty Images\\nHide caption A U.S. soldier with the NATO-led International Security Assistance Force looks on during a Sept. 11 memorial ceremony Tuesday at Kaia airport in Kabul, Afghanistan. Previous Next Shah Marai/AFP/Getty Images\\nHide caption The Tribute in Light shines above the World Trade Center and the Statue of Liberty on Monday as seen from Bayonne, N.J. Tuesday marks the 11th anniversary of the attack that destroyed the twin towers. Previous Next Mark Lennihan/AP\\nHide caption Dominique Sanders walks Monday with her daughter Roux, 2, among flags flying at Pepperdine University in Malibu, Calif., in honor of the victims of the Sept. 11 attacks. One flag from the nationality of each person killed that day was erected at the school. Previous Next David McNew/AP\\nHide caption A woman looks at flowers at the Flight 93 National Memorial on Monday ahead of the anniversary of the Sept. 11 attacks in Shanksville, Pa. Previous Next Mandel Ngan/AFP/Getty Images 1 of 9 i View slideshow\\nUPDATE at 9:00 ET:\\nPresident Obama, First Lady Michelle Obama and White House staffers observed a moment of silence on the White House South Lawn to remember the nearly 3,000 people killed in terrorist attacks on Sept. 11, 2001.\\nAfter the silence, three bell tolls were struck and a bugler played taps.\\nHere\\'s our earlier post:\\nCeremonies to commemorate the nearly 3,000 people killed 11 years ago today in the worst-ever terrorist attacks on U.S. soil are decidedly lower key this time around.\\nAt the National September 11 Memorial plaza in New York, a moment of silence will be observed at 8:47 a.m. ET to mark the time when the first plane struck the north tower at the World Trade Center, but The Wall Street Journal notes: \"no elected official will speak. Family members will read the names of the dead, accompanied by music, on the 9/11 memorial plaza between the waterfalls now marking footprints of the two towers.\"\\nPresident Obama, the first lady and the White House staff will observe the moment of silence on the South Lawn. The president will later speak at the National 9/11 Pentagon Memorial and Vice President Joe Biden will attend a ceremony in Shanksville, Pa., where hijacked Flight 93 crashed.\\nThe Associated Press reports:\\n\"The neighborhood around ground zero seemed more normal than in previous years, with fewer police barricades and commuters rushing out of the subway.\"\\nLast year\\'s 10th anniversary saw the opening of the 9/11 Memorial. This year\\'s ceremonies were to include the unveiling of the 9/11 Museum, but the project has been held up by a dispute between New York Mayor Michael Bloomberg and Gov. Andrew Cuomo.\\nThe New York Times says: \"With work on the museum at a standstill for nearly a year, fundraising and donations have fallen, and exhibits are gathering dust in fabrication shops in Buffalo and Santa Fe, N.M., according to museum executives.\"\\nHowever, Cuomo on Monday announced that an agreement that paves the way for finishing the $700 million project \"as soon as practicable,\" according to the AP.\\nPolitics will take a pause. The president and Republican presidential nominee Mitt Romney will suspend their campaign for a day.\\nRomney will be in Reno, Nev., where he will speak to a conference of the National Guard Association of the United States.',\n",
       " 'summary': \"The 11th anniversary of the 9/11 terrorist attacks was marked with somber ceremonies across the US. President Obama and first lady Michelle Obama observed a moment of silence at the White House, laid a wreath at the Pentagon and visited Arlington National Cemetery. In Manhattan, families read out the names of the victims and traders at the New York Stock Exchange stood silent. Vice President Biden spoke at the crash site of United Airlines Flight 93 in Pennsylvania, while troops in Kabul, Afghanistan reflected on the event that started America's longest war.\\n\"}"
      ]
     },
     "metadata": {},
     "output_type": "display_data"
    },
    {
     "name": "stdout",
     "output_type": "stream",
     "text": [
      "\n"
     ]
    },
    {
     "data": {
      "text/plain": [
       "{'id': '93',\n",
       " 'article_bias': 'left',\n",
       " 'summary_bias': 'left',\n",
       " 'article': 'Nation marks 9/11 anniversary with somber ceremonies\\nAcross the country, Americans marked the 11th anniversary of the Sept. 11, 2001, terrorist attacks, tolling church bells, pausing in silence to reflect and mourning the loss of the nearly 3,000 people who died.\\nOn the White House South Lawn, President Obama and first lady Michelle Obama bowed their heads at 8:46 a.m., the moment the first plane struck the North Tower of the World Trade Center. They later laid a wreath at the Pentagon, where the third plane struck. A flag was draped over the building to mark the day.\\n“Eleven times we have marked another September 11th come and gone. Eleven times, we have paused in remembrance, in reflection, in unity and in purpose,” Obama said to families and military brass who gathered at the Pentagon, where 184 were killed. “This is never an easy day.”\\nAt Arlington National Cemetery, the Obamas visited the graves in Section 60, one of the sections where those killed in Afghanistan and Iraq are buried under white marble markers.\\nThey placed a “challenge coin” on a collective memorial to the victims of an Oct. 29, 2009, helicopter crash in Afghanistan.\\nAt a ceremony in Manhattan, where One World Trade Center is under construction, the families of victims read the names of loved ones killed in the attacks, and traders on the floor of the New York Stock Exchange stood silent.\\nIn Shanksville, Pa., where United Airlines Flight 93 crashed in an open field after being hijacked by four terrorists, Vice President Biden spoke of the sacred, hallowed ground, weaving in his own experience of loss to comfort the families of the 40 passengers and crew members who died there.\\n“For no matter how many anniversaries you experience, for at least an instant, the terror of that moment returns; the lingering echo of that phone call; that sense of total disbelief that envelops you, where you feel like you’re being sucked into a black hole in the middle of your chest,” said Biden, whose first wife and baby daughter were killed in a car accident 40 years ago. “My hope for you all is that as every year passes, the depth of your pain recedes and you find comfort, as I have, genuine comfort in recalling his smile, her laugh, their touch.”\\nThousands of miles away, in Kabul, troops prayed and reflected on the event that triggered America’s longest war.\\nIn Reno, Nev., where he delivered a speech on foreign policy, Republican presidential hopeful Mitt Romney shared his own memories from Sept. 11, 2001, when he was in Washington as the head of the Winter Olympic Games, meeting with members of Congress about security preparations for the Salt Lake City Games.\\nHe said he watched the second plane hit the World Trade Center on a small television on his desk. Later, he recalled, he left Washington and passed by the Pentagon just after he crossed the Potomac River.\\n“Cars had stopped where they were and people had gotten out, watching in horror,” Romney said. “I could smell burning fuel and concrete and steel. It was the smell of war, something I never imagined I would smell in America.”\\nRomney, who was criticized for his failure to mention U.S. troops or the war in Afghanistan in his nomination acceptance speech at the recent Republican National Convention in Tampa, said that he would help steer a century that began with terror, war and economic calamity onto the path of freedom, peace and prosperity.\\n“America must lead the free world, and the free world must lead the entire world,” Romney said. “In our dealings with other nations, we must demonstrate confidence in our cause, clarity in our purpose and resolve in the application of our military might.”\\nAlthough national security and foreign policy have taken a back seat to economic issues this election season, some conservatives were urging Romney to take a strong stance in the speech.\\nAccording to a Washington Post/ABC News poll, Obama has a clear advantage over Romney on foreign policy and national security. Four in 10 voters say the country is safer since Obama took office; only one in eight sees the country as less secure. And 51 percent of all voters polled said they trust Obama to handle terrorism; 40 percent said they trust Romney to do so.\\nOn the steps of the U.S. Capitol, lawmakers put aside partisan bickering and gathered in prayer, remembering the day that changed the country and took so many lives.\\n“Every generation has endured hard sacrifice to preserve the blessings of freedom. If we ever falter, it will be because we forget what we learned in hardship,” said House Speaker John A. Boehner (R-Ohio), fighting back tears. “Today we listen, and vow to never forget. To celebrate the greater good that comes from serving one another and standing shoulder-to-shoulder. And to carry on, come what may, to meet the unmet challenges and complete the unfinished work.”\\nAt Prince George’s Community College, faculty and students, of different countries and faiths, heeded the call to service.\\nAs she placed index cards written by students on the wall of remembrance, Paulette McIntosh, a native of Jamaica, reflected.\\n“For me, seeing people of all different faiths and backgrounds coming together for a day of service is encouraging.”\\nBoth presidential campaigns pulled their negative ads from television and radio out of respect for the day. Obama is expected to visit patients at Walter Reed National Military Medical Center later Tuesday.\\n“So as painful as this day is and always will be, it leaves us with a lesson that no single event can ever destroy who we are,” Obama said. “No act of terrorism can ever change what we stand for. Instead, we recommit ourselves to the values that we believe in, holding firmly, without wavering, to the hope that we confess.”\\nPhilip Rucker in Reno, Peyton Craighill in Washington and Hamil R. Harris in Maryland contributed to this report.',\n",
       " 'summary': \"The 11th anniversary of the 9/11 terrorist attacks was marked with somber ceremonies across the US. President Obama and first lady Michelle Obama observed a moment of silence at the White House, laid a wreath at the Pentagon and visited Arlington National Cemetery. In Manhattan, families read out the names of the victims and traders at the New York Stock Exchange stood silent. Vice President Biden spoke at the crash site of United Airlines Flight 93 in Pennsylvania, while troops in Kabul, Afghanistan reflected on the event that started America's longest war.\\n\"}"
      ]
     },
     "metadata": {},
     "output_type": "display_data"
    },
    {
     "name": "stdout",
     "output_type": "stream",
     "text": [
      "\n"
     ]
    },
    {
     "data": {
      "text/plain": [
       "{'id': '93',\n",
       " 'article_bias': 'right',\n",
       " 'summary_bias': 'left',\n",
       " 'article': '11th anniversary ceremony of 9/11 begins in N.Y.\\nNEW YORK - Americans paused again Tuesday to mark the 11th anniversary of the Sept. 11, 2001, terror attacks with familiar ceremony, but also a sense that it\\'s time to move forward after a decade of remembrance.\\nAs in past years, thousands gathered at the World Trade Center site in New York, the Pentagon and Shanksville, Pa., to read the names of nearly 3,000 victims killed in the worst terror attack in U.S. history. President Barack Obama was to attend the Pentagon memorial, and Vice President Joe Biden was to speak in Pennsylvania.\\nBut many felt that last year\\'s 10th anniversary was an emotional turning point for public mourning of the attacks. For the first time, elected officials weren\\'t speaking at the ceremony, which often allowed them a solemn turn in the spotlight, but raised questions about the public and private Sept. 11. Fewer families attended the ceremonies this year, and some cities canceled their remembrances altogether.\\n\"I feel much more relaxed\" this year, said Jane Pollicino, who came to ground zero Tuesday morning to remember her husband, who was killed at the trade center. \"After the ninth anniversary, that next day, you started building up to the 10th year. This feels a lot different, in that regard. It\\'s another anniversary that we can commemorate in a calmer way, without that 10-year pressure.\"\\nAs bagpipes played at the year-old Sept. 11 memorial in New York, family clutching balloons, flowers and photos of their loved ones bowed their heads in silence at 8:46 a.m., the moment that the first hijacked jetliner crashed into the trade center\\'s north tower, and again to mark the crashes into the second tower, the Pentagon and a Pennsylvania field.\\nPresident Barack Obama and first lady Michelle Obama observed the moment in a ceremony on the White House\\'s south lawn, and then laid a white floral wreath at the Pentagon, above a concrete slab that said \"Sept. 11, 2001 - 937 am.\"\\nVictims\\' families in New York began the solemn, familiar ritual of tearfully reading the names of nearly 3,000 killed, with personal messages to their lost loved ones.\\n\"Rick, can you hear your name as the roll is called again? On this sacred ground where your dust settled?\" said Richard Blood, whose son, Richard Middleton Blood, Jr., died in the trade center\\'s south tower. \"If only those who hear your name could know what a loving son and beautiful person you grew to be. I love you, son, and miss you terribly.\"\\nThousands had attended the ceremony in New York in previous years, including last year\\'s milestone 10th anniversary. About 1,000 gathered by Tuesday morning, making paper rubbings of their loved ones\\' names etched onto the Sept. 11 memorial.\\nCommuters rushed out of the subway and fewer police barricades were in place than in past years in the lower Manhattan neighborhood surrounding ground zero. More than 4 million people have visited the memorial in the past year, becoming more of a public space than a closed-off construction site. On Tuesday, much of downtown Manhattan bustled like a regular weekday, except for clusters of police and emergency vehicles on the borders of the site.\\nFamilies had a mixed reaction to the changing ceremony, which kept politicians away from the microphone in New York for the first time. Charles G. Wolf, whose wife, Katherine, was killed at the trade center, said: \"We\\'ve gone past that deep, collective public grief.\" But Pollicino said it\\'s important that politicians still attend the ceremony.\\n\"There\\'s something missing if they\\'re not here at all,\" she said. \"Now, all of a sudden, it\\'s \\'for the families.\\' This happened to our country - it didn\\'t happen only to me.\"\\nAnd Joe Torres, who put in 16-hour days in ground zero\\'s \"pit\" in the days after the attacks, cleaning up tons of debris, said another year has changed nothing for him.\\n\"The 11th year, for me, it\\'s the same as if it happened yesterday. It could be 50 years from now, and to me, it\\'ll be just as important as year one, or year five or year ten.\"\\nPolitical leaders still are welcome to attend the ground zero ceremony, and they are expected at the other commemorations, as well.\\nThe Obamas planned later to visit wounded soldiers at Walter Reed Army Medical Center. The U.S. terror attacks were followed by wars in Afghanistan and Iraq, where the U.S. military death toll years ago surpassed the 9/11 victim count. At least 1,987 U.S. troops have died in Afghanistan and 4,475 in Iraq, according to the Pentagon.\\nAllied military forces marked the anniversary at a short ceremony at NATO\\'s headquarters in Kabul, Afghanistan with a tribute to more than 3,000 foreign troops killed in the decade-long war.\\n\"Eleven years on from that day there should be no doubt that our dedication to this commitment, that commitment that was seared into our souls that day so long ago, remains strong and unshaken,\" said Marine Gen. John Allen, the top commander of U.S. and coalition troops.\\nScores gathered at the Flight 93 National Memorial in western Pennsylvania, where the fourth hijacked plane crashed into a Pennsylvania field. Biden and Secretary of the Interior Ken Salazar were to speak at the ceremony for the flight\\'s 40 victims.\\nOther ceremonies were held across the country - from New York\\'s Long Island, where hundreds wrote messages to their loved ones on a memorial, to Boston, where more than 200 people with ties to Massachusetts were remembered. But some cities scaled back - the suburb of Glen Rock, N.J., where 11 people were killed, did not hold a memorial this year for the first time. Past events often ran for several hours, with speeches, music and the laying of roses in front of a granite memorial built with remnants of trade center steel.\\n\"It was appropriate for this year - not that the losses will ever be forgotten,\" said Brad Jordan, chairman of a community group that helps victims\\' families. \"But we felt it was right to shift the balance a bit from the observance of loss to a commemoration of how the community came together to heal.\"\\nThe anniversary led to a brief pause in the presidential campaign as Obama and Republican challenger Mitt Romney pulled their negative ads and avoided campaign rallies. Romney shook hands with firefighters at Chicago\\'s O\\'Hare Airport and was flying to Nevada to address the National Guard, whose members deployed after the attacks. His running mate, Rep. Paul Ryan of Wisconsin, had no scheduled public events.\\nThe memorial foundation announced this summer that politicians wouldn\\'t be included this year, to separate politics from the ceremony. But others said keeping elected officials off the rostrum smacked of ... politics. And several said they were unwilling to let go.\\n\"Coming here, it\\'s like ripping off a Band-Aid,\" said Yasmin Leon, whose sister was killed at the trade center. \"You rip it off and the wound is opened again. But you keep coming back anyway.\"\\nAnd at ground zero, family members reading their loved ones\\' names said the passage of time did not change their grief.\\n\"Mark, they say time heals all wounds. It\\'s not true, Mark,\" said Joanne Hindy, whose nephew died in the north tower. \"There\\'s a void in all our lives because this that will never ever be filled or healed.\"\\n• Associated Press writers Verena Dobnik, Meghan Barr and Alex Katz in New York, Wayne Parry in Atlantic City, N.J., and Amir Shah in Afghanistan contributed to this report.',\n",
       " 'summary': \"The 11th anniversary of the 9/11 terrorist attacks was marked with somber ceremonies across the US. President Obama and first lady Michelle Obama observed a moment of silence at the White House, laid a wreath at the Pentagon and visited Arlington National Cemetery. In Manhattan, families read out the names of the victims and traders at the New York Stock Exchange stood silent. Vice President Biden spoke at the crash site of United Airlines Flight 93 in Pennsylvania, while troops in Kabul, Afghanistan reflected on the event that started America's longest war.\\n\"}"
      ]
     },
     "metadata": {},
     "output_type": "display_data"
    },
    {
     "name": "stdout",
     "output_type": "stream",
     "text": [
      "\n"
     ]
    },
    {
     "data": {
      "text/plain": [
       "{'id': '93',\n",
       " 'article_bias': 'center',\n",
       " 'summary_bias': 'center',\n",
       " 'article': 'Lower-Key Ceremonies For This Year\\'s Sept. 11 Commemoration\\nHide caption Airline pilots Capt. Anthony Chapman (right) and Capt. Paul Evans salute with others as the U.S. flag is lowered to half staff at the 9/11 Flight Crew Memorial in Grapevine, Texas. Flight crews gathered at the memorial near Dallas-Fort Worth airport to remember the flight crews lost in the Sept. 11 attacks. Previous Next LM Otero/AP\\nHide caption Judy Parisio (right) and Linda Malbrba make a rubbing of their niece\\'s name, Frances Ann Cilente, who worked at the World Trade Center, during ceremonies marking the anniversary of the Sept. 11 attacks. Previous Next Chang W. Lee/Pool/Reuters/Landov\\nHide caption President Obama, first lady Michelle and members of the White House staff pause for a moment of silence to mark the anniversary on the South Lawn of the White House. Previous Next Carolyn Kaster/AP\\nHide caption New York City police bugler Gabe Perdomo warms up next to the South Pool at ground zero during Tuesday\\'s memorial ceremonies for the 11th anniversary of the Sept. 11 attacks. Previous Next Justin Lane/Pool/Getty Images\\nHide caption A U.S. soldier with the NATO-led International Security Assistance Force looks on during a Sept. 11 memorial ceremony Tuesday at Kaia airport in Kabul, Afghanistan. Previous Next Shah Marai/AFP/Getty Images\\nHide caption The Tribute in Light shines above the World Trade Center and the Statue of Liberty on Monday as seen from Bayonne, N.J. Tuesday marks the 11th anniversary of the attack that destroyed the twin towers. Previous Next Mark Lennihan/AP\\nHide caption Dominique Sanders walks Monday with her daughter Roux, 2, among flags flying at Pepperdine University in Malibu, Calif., in honor of the victims of the Sept. 11 attacks. One flag from the nationality of each person killed that day was erected at the school. Previous Next David McNew/AP\\nHide caption A woman looks at flowers at the Flight 93 National Memorial on Monday ahead of the anniversary of the Sept. 11 attacks in Shanksville, Pa. Previous Next Mandel Ngan/AFP/Getty Images 1 of 9 i View slideshow\\nUPDATE at 9:00 ET:\\nPresident Obama, First Lady Michelle Obama and White House staffers observed a moment of silence on the White House South Lawn to remember the nearly 3,000 people killed in terrorist attacks on Sept. 11, 2001.\\nAfter the silence, three bell tolls were struck and a bugler played taps.\\nHere\\'s our earlier post:\\nCeremonies to commemorate the nearly 3,000 people killed 11 years ago today in the worst-ever terrorist attacks on U.S. soil are decidedly lower key this time around.\\nAt the National September 11 Memorial plaza in New York, a moment of silence will be observed at 8:47 a.m. ET to mark the time when the first plane struck the north tower at the World Trade Center, but The Wall Street Journal notes: \"no elected official will speak. Family members will read the names of the dead, accompanied by music, on the 9/11 memorial plaza between the waterfalls now marking footprints of the two towers.\"\\nPresident Obama, the first lady and the White House staff will observe the moment of silence on the South Lawn. The president will later speak at the National 9/11 Pentagon Memorial and Vice President Joe Biden will attend a ceremony in Shanksville, Pa., where hijacked Flight 93 crashed.\\nThe Associated Press reports:\\n\"The neighborhood around ground zero seemed more normal than in previous years, with fewer police barricades and commuters rushing out of the subway.\"\\nLast year\\'s 10th anniversary saw the opening of the 9/11 Memorial. This year\\'s ceremonies were to include the unveiling of the 9/11 Museum, but the project has been held up by a dispute between New York Mayor Michael Bloomberg and Gov. Andrew Cuomo.\\nThe New York Times says: \"With work on the museum at a standstill for nearly a year, fundraising and donations have fallen, and exhibits are gathering dust in fabrication shops in Buffalo and Santa Fe, N.M., according to museum executives.\"\\nHowever, Cuomo on Monday announced that an agreement that paves the way for finishing the $700 million project \"as soon as practicable,\" according to the AP.\\nPolitics will take a pause. The president and Republican presidential nominee Mitt Romney will suspend their campaign for a day.\\nRomney will be in Reno, Nev., where he will speak to a conference of the National Guard Association of the United States.',\n",
       " 'summary': 'The 2012 commemoration of the September 11 attacks observed a moment of silence on the south lawn of the White House with President Obama, First Lady Michelle Obama and other staff members. The ceremonies of each location were lower key compared to the previous years. The ceremony at the National September 11 Memorial Plaza held no speeches by elected officials but had family members read off the names of the deceased. During the day, the President spoke at the National 9/11 Pentagon Memorial and Vice President Joe Biden attended a ceremony in Shanksville, Pennsylvania where hijacked Flight 93 crashed. Both President Obama and Republican presidential nominee Mitt Romney suspended their campaign for the day.\\n'}"
      ]
     },
     "metadata": {},
     "output_type": "display_data"
    },
    {
     "name": "stdout",
     "output_type": "stream",
     "text": [
      "\n"
     ]
    },
    {
     "data": {
      "text/plain": [
       "{'id': '93',\n",
       " 'article_bias': 'left',\n",
       " 'summary_bias': 'center',\n",
       " 'article': 'Nation marks 9/11 anniversary with somber ceremonies\\nAcross the country, Americans marked the 11th anniversary of the Sept. 11, 2001, terrorist attacks, tolling church bells, pausing in silence to reflect and mourning the loss of the nearly 3,000 people who died.\\nOn the White House South Lawn, President Obama and first lady Michelle Obama bowed their heads at 8:46 a.m., the moment the first plane struck the North Tower of the World Trade Center. They later laid a wreath at the Pentagon, where the third plane struck. A flag was draped over the building to mark the day.\\n“Eleven times we have marked another September 11th come and gone. Eleven times, we have paused in remembrance, in reflection, in unity and in purpose,” Obama said to families and military brass who gathered at the Pentagon, where 184 were killed. “This is never an easy day.”\\nAt Arlington National Cemetery, the Obamas visited the graves in Section 60, one of the sections where those killed in Afghanistan and Iraq are buried under white marble markers.\\nThey placed a “challenge coin” on a collective memorial to the victims of an Oct. 29, 2009, helicopter crash in Afghanistan.\\nAt a ceremony in Manhattan, where One World Trade Center is under construction, the families of victims read the names of loved ones killed in the attacks, and traders on the floor of the New York Stock Exchange stood silent.\\nIn Shanksville, Pa., where United Airlines Flight 93 crashed in an open field after being hijacked by four terrorists, Vice President Biden spoke of the sacred, hallowed ground, weaving in his own experience of loss to comfort the families of the 40 passengers and crew members who died there.\\n“For no matter how many anniversaries you experience, for at least an instant, the terror of that moment returns; the lingering echo of that phone call; that sense of total disbelief that envelops you, where you feel like you’re being sucked into a black hole in the middle of your chest,” said Biden, whose first wife and baby daughter were killed in a car accident 40 years ago. “My hope for you all is that as every year passes, the depth of your pain recedes and you find comfort, as I have, genuine comfort in recalling his smile, her laugh, their touch.”\\nThousands of miles away, in Kabul, troops prayed and reflected on the event that triggered America’s longest war.\\nIn Reno, Nev., where he delivered a speech on foreign policy, Republican presidential hopeful Mitt Romney shared his own memories from Sept. 11, 2001, when he was in Washington as the head of the Winter Olympic Games, meeting with members of Congress about security preparations for the Salt Lake City Games.\\nHe said he watched the second plane hit the World Trade Center on a small television on his desk. Later, he recalled, he left Washington and passed by the Pentagon just after he crossed the Potomac River.\\n“Cars had stopped where they were and people had gotten out, watching in horror,” Romney said. “I could smell burning fuel and concrete and steel. It was the smell of war, something I never imagined I would smell in America.”\\nRomney, who was criticized for his failure to mention U.S. troops or the war in Afghanistan in his nomination acceptance speech at the recent Republican National Convention in Tampa, said that he would help steer a century that began with terror, war and economic calamity onto the path of freedom, peace and prosperity.\\n“America must lead the free world, and the free world must lead the entire world,” Romney said. “In our dealings with other nations, we must demonstrate confidence in our cause, clarity in our purpose and resolve in the application of our military might.”\\nAlthough national security and foreign policy have taken a back seat to economic issues this election season, some conservatives were urging Romney to take a strong stance in the speech.\\nAccording to a Washington Post/ABC News poll, Obama has a clear advantage over Romney on foreign policy and national security. Four in 10 voters say the country is safer since Obama took office; only one in eight sees the country as less secure. And 51 percent of all voters polled said they trust Obama to handle terrorism; 40 percent said they trust Romney to do so.\\nOn the steps of the U.S. Capitol, lawmakers put aside partisan bickering and gathered in prayer, remembering the day that changed the country and took so many lives.\\n“Every generation has endured hard sacrifice to preserve the blessings of freedom. If we ever falter, it will be because we forget what we learned in hardship,” said House Speaker John A. Boehner (R-Ohio), fighting back tears. “Today we listen, and vow to never forget. To celebrate the greater good that comes from serving one another and standing shoulder-to-shoulder. And to carry on, come what may, to meet the unmet challenges and complete the unfinished work.”\\nAt Prince George’s Community College, faculty and students, of different countries and faiths, heeded the call to service.\\nAs she placed index cards written by students on the wall of remembrance, Paulette McIntosh, a native of Jamaica, reflected.\\n“For me, seeing people of all different faiths and backgrounds coming together for a day of service is encouraging.”\\nBoth presidential campaigns pulled their negative ads from television and radio out of respect for the day. Obama is expected to visit patients at Walter Reed National Military Medical Center later Tuesday.\\n“So as painful as this day is and always will be, it leaves us with a lesson that no single event can ever destroy who we are,” Obama said. “No act of terrorism can ever change what we stand for. Instead, we recommit ourselves to the values that we believe in, holding firmly, without wavering, to the hope that we confess.”\\nPhilip Rucker in Reno, Peyton Craighill in Washington and Hamil R. Harris in Maryland contributed to this report.',\n",
       " 'summary': 'The 2012 commemoration of the September 11 attacks observed a moment of silence on the south lawn of the White House with President Obama, First Lady Michelle Obama and other staff members. The ceremonies of each location were lower key compared to the previous years. The ceremony at the National September 11 Memorial Plaza held no speeches by elected officials but had family members read off the names of the deceased. During the day, the President spoke at the National 9/11 Pentagon Memorial and Vice President Joe Biden attended a ceremony in Shanksville, Pennsylvania where hijacked Flight 93 crashed. Both President Obama and Republican presidential nominee Mitt Romney suspended their campaign for the day.\\n'}"
      ]
     },
     "metadata": {},
     "output_type": "display_data"
    },
    {
     "name": "stdout",
     "output_type": "stream",
     "text": [
      "\n"
     ]
    },
    {
     "data": {
      "text/plain": [
       "{'id': '93',\n",
       " 'article_bias': 'right',\n",
       " 'summary_bias': 'center',\n",
       " 'article': '11th anniversary ceremony of 9/11 begins in N.Y.\\nNEW YORK - Americans paused again Tuesday to mark the 11th anniversary of the Sept. 11, 2001, terror attacks with familiar ceremony, but also a sense that it\\'s time to move forward after a decade of remembrance.\\nAs in past years, thousands gathered at the World Trade Center site in New York, the Pentagon and Shanksville, Pa., to read the names of nearly 3,000 victims killed in the worst terror attack in U.S. history. President Barack Obama was to attend the Pentagon memorial, and Vice President Joe Biden was to speak in Pennsylvania.\\nBut many felt that last year\\'s 10th anniversary was an emotional turning point for public mourning of the attacks. For the first time, elected officials weren\\'t speaking at the ceremony, which often allowed them a solemn turn in the spotlight, but raised questions about the public and private Sept. 11. Fewer families attended the ceremonies this year, and some cities canceled their remembrances altogether.\\n\"I feel much more relaxed\" this year, said Jane Pollicino, who came to ground zero Tuesday morning to remember her husband, who was killed at the trade center. \"After the ninth anniversary, that next day, you started building up to the 10th year. This feels a lot different, in that regard. It\\'s another anniversary that we can commemorate in a calmer way, without that 10-year pressure.\"\\nAs bagpipes played at the year-old Sept. 11 memorial in New York, family clutching balloons, flowers and photos of their loved ones bowed their heads in silence at 8:46 a.m., the moment that the first hijacked jetliner crashed into the trade center\\'s north tower, and again to mark the crashes into the second tower, the Pentagon and a Pennsylvania field.\\nPresident Barack Obama and first lady Michelle Obama observed the moment in a ceremony on the White House\\'s south lawn, and then laid a white floral wreath at the Pentagon, above a concrete slab that said \"Sept. 11, 2001 - 937 am.\"\\nVictims\\' families in New York began the solemn, familiar ritual of tearfully reading the names of nearly 3,000 killed, with personal messages to their lost loved ones.\\n\"Rick, can you hear your name as the roll is called again? On this sacred ground where your dust settled?\" said Richard Blood, whose son, Richard Middleton Blood, Jr., died in the trade center\\'s south tower. \"If only those who hear your name could know what a loving son and beautiful person you grew to be. I love you, son, and miss you terribly.\"\\nThousands had attended the ceremony in New York in previous years, including last year\\'s milestone 10th anniversary. About 1,000 gathered by Tuesday morning, making paper rubbings of their loved ones\\' names etched onto the Sept. 11 memorial.\\nCommuters rushed out of the subway and fewer police barricades were in place than in past years in the lower Manhattan neighborhood surrounding ground zero. More than 4 million people have visited the memorial in the past year, becoming more of a public space than a closed-off construction site. On Tuesday, much of downtown Manhattan bustled like a regular weekday, except for clusters of police and emergency vehicles on the borders of the site.\\nFamilies had a mixed reaction to the changing ceremony, which kept politicians away from the microphone in New York for the first time. Charles G. Wolf, whose wife, Katherine, was killed at the trade center, said: \"We\\'ve gone past that deep, collective public grief.\" But Pollicino said it\\'s important that politicians still attend the ceremony.\\n\"There\\'s something missing if they\\'re not here at all,\" she said. \"Now, all of a sudden, it\\'s \\'for the families.\\' This happened to our country - it didn\\'t happen only to me.\"\\nAnd Joe Torres, who put in 16-hour days in ground zero\\'s \"pit\" in the days after the attacks, cleaning up tons of debris, said another year has changed nothing for him.\\n\"The 11th year, for me, it\\'s the same as if it happened yesterday. It could be 50 years from now, and to me, it\\'ll be just as important as year one, or year five or year ten.\"\\nPolitical leaders still are welcome to attend the ground zero ceremony, and they are expected at the other commemorations, as well.\\nThe Obamas planned later to visit wounded soldiers at Walter Reed Army Medical Center. The U.S. terror attacks were followed by wars in Afghanistan and Iraq, where the U.S. military death toll years ago surpassed the 9/11 victim count. At least 1,987 U.S. troops have died in Afghanistan and 4,475 in Iraq, according to the Pentagon.\\nAllied military forces marked the anniversary at a short ceremony at NATO\\'s headquarters in Kabul, Afghanistan with a tribute to more than 3,000 foreign troops killed in the decade-long war.\\n\"Eleven years on from that day there should be no doubt that our dedication to this commitment, that commitment that was seared into our souls that day so long ago, remains strong and unshaken,\" said Marine Gen. John Allen, the top commander of U.S. and coalition troops.\\nScores gathered at the Flight 93 National Memorial in western Pennsylvania, where the fourth hijacked plane crashed into a Pennsylvania field. Biden and Secretary of the Interior Ken Salazar were to speak at the ceremony for the flight\\'s 40 victims.\\nOther ceremonies were held across the country - from New York\\'s Long Island, where hundreds wrote messages to their loved ones on a memorial, to Boston, where more than 200 people with ties to Massachusetts were remembered. But some cities scaled back - the suburb of Glen Rock, N.J., where 11 people were killed, did not hold a memorial this year for the first time. Past events often ran for several hours, with speeches, music and the laying of roses in front of a granite memorial built with remnants of trade center steel.\\n\"It was appropriate for this year - not that the losses will ever be forgotten,\" said Brad Jordan, chairman of a community group that helps victims\\' families. \"But we felt it was right to shift the balance a bit from the observance of loss to a commemoration of how the community came together to heal.\"\\nThe anniversary led to a brief pause in the presidential campaign as Obama and Republican challenger Mitt Romney pulled their negative ads and avoided campaign rallies. Romney shook hands with firefighters at Chicago\\'s O\\'Hare Airport and was flying to Nevada to address the National Guard, whose members deployed after the attacks. His running mate, Rep. Paul Ryan of Wisconsin, had no scheduled public events.\\nThe memorial foundation announced this summer that politicians wouldn\\'t be included this year, to separate politics from the ceremony. But others said keeping elected officials off the rostrum smacked of ... politics. And several said they were unwilling to let go.\\n\"Coming here, it\\'s like ripping off a Band-Aid,\" said Yasmin Leon, whose sister was killed at the trade center. \"You rip it off and the wound is opened again. But you keep coming back anyway.\"\\nAnd at ground zero, family members reading their loved ones\\' names said the passage of time did not change their grief.\\n\"Mark, they say time heals all wounds. It\\'s not true, Mark,\" said Joanne Hindy, whose nephew died in the north tower. \"There\\'s a void in all our lives because this that will never ever be filled or healed.\"\\n• Associated Press writers Verena Dobnik, Meghan Barr and Alex Katz in New York, Wayne Parry in Atlantic City, N.J., and Amir Shah in Afghanistan contributed to this report.',\n",
       " 'summary': 'The 2012 commemoration of the September 11 attacks observed a moment of silence on the south lawn of the White House with President Obama, First Lady Michelle Obama and other staff members. The ceremonies of each location were lower key compared to the previous years. The ceremony at the National September 11 Memorial Plaza held no speeches by elected officials but had family members read off the names of the deceased. During the day, the President spoke at the National 9/11 Pentagon Memorial and Vice President Joe Biden attended a ceremony in Shanksville, Pennsylvania where hijacked Flight 93 crashed. Both President Obama and Republican presidential nominee Mitt Romney suspended their campaign for the day.\\n'}"
      ]
     },
     "metadata": {},
     "output_type": "display_data"
    },
    {
     "name": "stdout",
     "output_type": "stream",
     "text": [
      "\n"
     ]
    },
    {
     "data": {
      "text/plain": [
       "{'id': '93',\n",
       " 'article_bias': 'center',\n",
       " 'summary_bias': 'right',\n",
       " 'article': 'Lower-Key Ceremonies For This Year\\'s Sept. 11 Commemoration\\nHide caption Airline pilots Capt. Anthony Chapman (right) and Capt. Paul Evans salute with others as the U.S. flag is lowered to half staff at the 9/11 Flight Crew Memorial in Grapevine, Texas. Flight crews gathered at the memorial near Dallas-Fort Worth airport to remember the flight crews lost in the Sept. 11 attacks. Previous Next LM Otero/AP\\nHide caption Judy Parisio (right) and Linda Malbrba make a rubbing of their niece\\'s name, Frances Ann Cilente, who worked at the World Trade Center, during ceremonies marking the anniversary of the Sept. 11 attacks. Previous Next Chang W. Lee/Pool/Reuters/Landov\\nHide caption President Obama, first lady Michelle and members of the White House staff pause for a moment of silence to mark the anniversary on the South Lawn of the White House. Previous Next Carolyn Kaster/AP\\nHide caption New York City police bugler Gabe Perdomo warms up next to the South Pool at ground zero during Tuesday\\'s memorial ceremonies for the 11th anniversary of the Sept. 11 attacks. Previous Next Justin Lane/Pool/Getty Images\\nHide caption A U.S. soldier with the NATO-led International Security Assistance Force looks on during a Sept. 11 memorial ceremony Tuesday at Kaia airport in Kabul, Afghanistan. Previous Next Shah Marai/AFP/Getty Images\\nHide caption The Tribute in Light shines above the World Trade Center and the Statue of Liberty on Monday as seen from Bayonne, N.J. Tuesday marks the 11th anniversary of the attack that destroyed the twin towers. Previous Next Mark Lennihan/AP\\nHide caption Dominique Sanders walks Monday with her daughter Roux, 2, among flags flying at Pepperdine University in Malibu, Calif., in honor of the victims of the Sept. 11 attacks. One flag from the nationality of each person killed that day was erected at the school. Previous Next David McNew/AP\\nHide caption A woman looks at flowers at the Flight 93 National Memorial on Monday ahead of the anniversary of the Sept. 11 attacks in Shanksville, Pa. Previous Next Mandel Ngan/AFP/Getty Images 1 of 9 i View slideshow\\nUPDATE at 9:00 ET:\\nPresident Obama, First Lady Michelle Obama and White House staffers observed a moment of silence on the White House South Lawn to remember the nearly 3,000 people killed in terrorist attacks on Sept. 11, 2001.\\nAfter the silence, three bell tolls were struck and a bugler played taps.\\nHere\\'s our earlier post:\\nCeremonies to commemorate the nearly 3,000 people killed 11 years ago today in the worst-ever terrorist attacks on U.S. soil are decidedly lower key this time around.\\nAt the National September 11 Memorial plaza in New York, a moment of silence will be observed at 8:47 a.m. ET to mark the time when the first plane struck the north tower at the World Trade Center, but The Wall Street Journal notes: \"no elected official will speak. Family members will read the names of the dead, accompanied by music, on the 9/11 memorial plaza between the waterfalls now marking footprints of the two towers.\"\\nPresident Obama, the first lady and the White House staff will observe the moment of silence on the South Lawn. The president will later speak at the National 9/11 Pentagon Memorial and Vice President Joe Biden will attend a ceremony in Shanksville, Pa., where hijacked Flight 93 crashed.\\nThe Associated Press reports:\\n\"The neighborhood around ground zero seemed more normal than in previous years, with fewer police barricades and commuters rushing out of the subway.\"\\nLast year\\'s 10th anniversary saw the opening of the 9/11 Memorial. This year\\'s ceremonies were to include the unveiling of the 9/11 Museum, but the project has been held up by a dispute between New York Mayor Michael Bloomberg and Gov. Andrew Cuomo.\\nThe New York Times says: \"With work on the museum at a standstill for nearly a year, fundraising and donations have fallen, and exhibits are gathering dust in fabrication shops in Buffalo and Santa Fe, N.M., according to museum executives.\"\\nHowever, Cuomo on Monday announced that an agreement that paves the way for finishing the $700 million project \"as soon as practicable,\" according to the AP.\\nPolitics will take a pause. The president and Republican presidential nominee Mitt Romney will suspend their campaign for a day.\\nRomney will be in Reno, Nev., where he will speak to a conference of the National Guard Association of the United States.',\n",
       " 'summary': \"The 11th anniversary of the 9/11 terror attacks was marked with familiar ceremony in New York and across America. Thousands gathered at the World Trade Center site, the Pentagon, and Shanksville, PA, where the names of nearly 3,000 victims were read. Many believed the previous year's 10th anniversary was a turning point in public mourning, and this year saw less attendance at ceremonies and a few cancellations. Still, the memory of the attacks remained poignant for many. President Barack Obama attended the Pentagon memorial, Vice President Joe Biden spoke in Pennsylvania, and the Obamas later visited wounded soldiers. Families of victims in New York read names and personal messages to their lost loved ones.\\n\"}"
      ]
     },
     "metadata": {},
     "output_type": "display_data"
    },
    {
     "name": "stdout",
     "output_type": "stream",
     "text": [
      "\n"
     ]
    },
    {
     "data": {
      "text/plain": [
       "{'id': '93',\n",
       " 'article_bias': 'left',\n",
       " 'summary_bias': 'right',\n",
       " 'article': 'Nation marks 9/11 anniversary with somber ceremonies\\nAcross the country, Americans marked the 11th anniversary of the Sept. 11, 2001, terrorist attacks, tolling church bells, pausing in silence to reflect and mourning the loss of the nearly 3,000 people who died.\\nOn the White House South Lawn, President Obama and first lady Michelle Obama bowed their heads at 8:46 a.m., the moment the first plane struck the North Tower of the World Trade Center. They later laid a wreath at the Pentagon, where the third plane struck. A flag was draped over the building to mark the day.\\n“Eleven times we have marked another September 11th come and gone. Eleven times, we have paused in remembrance, in reflection, in unity and in purpose,” Obama said to families and military brass who gathered at the Pentagon, where 184 were killed. “This is never an easy day.”\\nAt Arlington National Cemetery, the Obamas visited the graves in Section 60, one of the sections where those killed in Afghanistan and Iraq are buried under white marble markers.\\nThey placed a “challenge coin” on a collective memorial to the victims of an Oct. 29, 2009, helicopter crash in Afghanistan.\\nAt a ceremony in Manhattan, where One World Trade Center is under construction, the families of victims read the names of loved ones killed in the attacks, and traders on the floor of the New York Stock Exchange stood silent.\\nIn Shanksville, Pa., where United Airlines Flight 93 crashed in an open field after being hijacked by four terrorists, Vice President Biden spoke of the sacred, hallowed ground, weaving in his own experience of loss to comfort the families of the 40 passengers and crew members who died there.\\n“For no matter how many anniversaries you experience, for at least an instant, the terror of that moment returns; the lingering echo of that phone call; that sense of total disbelief that envelops you, where you feel like you’re being sucked into a black hole in the middle of your chest,” said Biden, whose first wife and baby daughter were killed in a car accident 40 years ago. “My hope for you all is that as every year passes, the depth of your pain recedes and you find comfort, as I have, genuine comfort in recalling his smile, her laugh, their touch.”\\nThousands of miles away, in Kabul, troops prayed and reflected on the event that triggered America’s longest war.\\nIn Reno, Nev., where he delivered a speech on foreign policy, Republican presidential hopeful Mitt Romney shared his own memories from Sept. 11, 2001, when he was in Washington as the head of the Winter Olympic Games, meeting with members of Congress about security preparations for the Salt Lake City Games.\\nHe said he watched the second plane hit the World Trade Center on a small television on his desk. Later, he recalled, he left Washington and passed by the Pentagon just after he crossed the Potomac River.\\n“Cars had stopped where they were and people had gotten out, watching in horror,” Romney said. “I could smell burning fuel and concrete and steel. It was the smell of war, something I never imagined I would smell in America.”\\nRomney, who was criticized for his failure to mention U.S. troops or the war in Afghanistan in his nomination acceptance speech at the recent Republican National Convention in Tampa, said that he would help steer a century that began with terror, war and economic calamity onto the path of freedom, peace and prosperity.\\n“America must lead the free world, and the free world must lead the entire world,” Romney said. “In our dealings with other nations, we must demonstrate confidence in our cause, clarity in our purpose and resolve in the application of our military might.”\\nAlthough national security and foreign policy have taken a back seat to economic issues this election season, some conservatives were urging Romney to take a strong stance in the speech.\\nAccording to a Washington Post/ABC News poll, Obama has a clear advantage over Romney on foreign policy and national security. Four in 10 voters say the country is safer since Obama took office; only one in eight sees the country as less secure. And 51 percent of all voters polled said they trust Obama to handle terrorism; 40 percent said they trust Romney to do so.\\nOn the steps of the U.S. Capitol, lawmakers put aside partisan bickering and gathered in prayer, remembering the day that changed the country and took so many lives.\\n“Every generation has endured hard sacrifice to preserve the blessings of freedom. If we ever falter, it will be because we forget what we learned in hardship,” said House Speaker John A. Boehner (R-Ohio), fighting back tears. “Today we listen, and vow to never forget. To celebrate the greater good that comes from serving one another and standing shoulder-to-shoulder. And to carry on, come what may, to meet the unmet challenges and complete the unfinished work.”\\nAt Prince George’s Community College, faculty and students, of different countries and faiths, heeded the call to service.\\nAs she placed index cards written by students on the wall of remembrance, Paulette McIntosh, a native of Jamaica, reflected.\\n“For me, seeing people of all different faiths and backgrounds coming together for a day of service is encouraging.”\\nBoth presidential campaigns pulled their negative ads from television and radio out of respect for the day. Obama is expected to visit patients at Walter Reed National Military Medical Center later Tuesday.\\n“So as painful as this day is and always will be, it leaves us with a lesson that no single event can ever destroy who we are,” Obama said. “No act of terrorism can ever change what we stand for. Instead, we recommit ourselves to the values that we believe in, holding firmly, without wavering, to the hope that we confess.”\\nPhilip Rucker in Reno, Peyton Craighill in Washington and Hamil R. Harris in Maryland contributed to this report.',\n",
       " 'summary': \"The 11th anniversary of the 9/11 terror attacks was marked with familiar ceremony in New York and across America. Thousands gathered at the World Trade Center site, the Pentagon, and Shanksville, PA, where the names of nearly 3,000 victims were read. Many believed the previous year's 10th anniversary was a turning point in public mourning, and this year saw less attendance at ceremonies and a few cancellations. Still, the memory of the attacks remained poignant for many. President Barack Obama attended the Pentagon memorial, Vice President Joe Biden spoke in Pennsylvania, and the Obamas later visited wounded soldiers. Families of victims in New York read names and personal messages to their lost loved ones.\\n\"}"
      ]
     },
     "metadata": {},
     "output_type": "display_data"
    },
    {
     "name": "stdout",
     "output_type": "stream",
     "text": [
      "\n"
     ]
    },
    {
     "data": {
      "text/plain": [
       "{'id': '93',\n",
       " 'article_bias': 'right',\n",
       " 'summary_bias': 'right',\n",
       " 'article': '11th anniversary ceremony of 9/11 begins in N.Y.\\nNEW YORK - Americans paused again Tuesday to mark the 11th anniversary of the Sept. 11, 2001, terror attacks with familiar ceremony, but also a sense that it\\'s time to move forward after a decade of remembrance.\\nAs in past years, thousands gathered at the World Trade Center site in New York, the Pentagon and Shanksville, Pa., to read the names of nearly 3,000 victims killed in the worst terror attack in U.S. history. President Barack Obama was to attend the Pentagon memorial, and Vice President Joe Biden was to speak in Pennsylvania.\\nBut many felt that last year\\'s 10th anniversary was an emotional turning point for public mourning of the attacks. For the first time, elected officials weren\\'t speaking at the ceremony, which often allowed them a solemn turn in the spotlight, but raised questions about the public and private Sept. 11. Fewer families attended the ceremonies this year, and some cities canceled their remembrances altogether.\\n\"I feel much more relaxed\" this year, said Jane Pollicino, who came to ground zero Tuesday morning to remember her husband, who was killed at the trade center. \"After the ninth anniversary, that next day, you started building up to the 10th year. This feels a lot different, in that regard. It\\'s another anniversary that we can commemorate in a calmer way, without that 10-year pressure.\"\\nAs bagpipes played at the year-old Sept. 11 memorial in New York, family clutching balloons, flowers and photos of their loved ones bowed their heads in silence at 8:46 a.m., the moment that the first hijacked jetliner crashed into the trade center\\'s north tower, and again to mark the crashes into the second tower, the Pentagon and a Pennsylvania field.\\nPresident Barack Obama and first lady Michelle Obama observed the moment in a ceremony on the White House\\'s south lawn, and then laid a white floral wreath at the Pentagon, above a concrete slab that said \"Sept. 11, 2001 - 937 am.\"\\nVictims\\' families in New York began the solemn, familiar ritual of tearfully reading the names of nearly 3,000 killed, with personal messages to their lost loved ones.\\n\"Rick, can you hear your name as the roll is called again? On this sacred ground where your dust settled?\" said Richard Blood, whose son, Richard Middleton Blood, Jr., died in the trade center\\'s south tower. \"If only those who hear your name could know what a loving son and beautiful person you grew to be. I love you, son, and miss you terribly.\"\\nThousands had attended the ceremony in New York in previous years, including last year\\'s milestone 10th anniversary. About 1,000 gathered by Tuesday morning, making paper rubbings of their loved ones\\' names etched onto the Sept. 11 memorial.\\nCommuters rushed out of the subway and fewer police barricades were in place than in past years in the lower Manhattan neighborhood surrounding ground zero. More than 4 million people have visited the memorial in the past year, becoming more of a public space than a closed-off construction site. On Tuesday, much of downtown Manhattan bustled like a regular weekday, except for clusters of police and emergency vehicles on the borders of the site.\\nFamilies had a mixed reaction to the changing ceremony, which kept politicians away from the microphone in New York for the first time. Charles G. Wolf, whose wife, Katherine, was killed at the trade center, said: \"We\\'ve gone past that deep, collective public grief.\" But Pollicino said it\\'s important that politicians still attend the ceremony.\\n\"There\\'s something missing if they\\'re not here at all,\" she said. \"Now, all of a sudden, it\\'s \\'for the families.\\' This happened to our country - it didn\\'t happen only to me.\"\\nAnd Joe Torres, who put in 16-hour days in ground zero\\'s \"pit\" in the days after the attacks, cleaning up tons of debris, said another year has changed nothing for him.\\n\"The 11th year, for me, it\\'s the same as if it happened yesterday. It could be 50 years from now, and to me, it\\'ll be just as important as year one, or year five or year ten.\"\\nPolitical leaders still are welcome to attend the ground zero ceremony, and they are expected at the other commemorations, as well.\\nThe Obamas planned later to visit wounded soldiers at Walter Reed Army Medical Center. The U.S. terror attacks were followed by wars in Afghanistan and Iraq, where the U.S. military death toll years ago surpassed the 9/11 victim count. At least 1,987 U.S. troops have died in Afghanistan and 4,475 in Iraq, according to the Pentagon.\\nAllied military forces marked the anniversary at a short ceremony at NATO\\'s headquarters in Kabul, Afghanistan with a tribute to more than 3,000 foreign troops killed in the decade-long war.\\n\"Eleven years on from that day there should be no doubt that our dedication to this commitment, that commitment that was seared into our souls that day so long ago, remains strong and unshaken,\" said Marine Gen. John Allen, the top commander of U.S. and coalition troops.\\nScores gathered at the Flight 93 National Memorial in western Pennsylvania, where the fourth hijacked plane crashed into a Pennsylvania field. Biden and Secretary of the Interior Ken Salazar were to speak at the ceremony for the flight\\'s 40 victims.\\nOther ceremonies were held across the country - from New York\\'s Long Island, where hundreds wrote messages to their loved ones on a memorial, to Boston, where more than 200 people with ties to Massachusetts were remembered. But some cities scaled back - the suburb of Glen Rock, N.J., where 11 people were killed, did not hold a memorial this year for the first time. Past events often ran for several hours, with speeches, music and the laying of roses in front of a granite memorial built with remnants of trade center steel.\\n\"It was appropriate for this year - not that the losses will ever be forgotten,\" said Brad Jordan, chairman of a community group that helps victims\\' families. \"But we felt it was right to shift the balance a bit from the observance of loss to a commemoration of how the community came together to heal.\"\\nThe anniversary led to a brief pause in the presidential campaign as Obama and Republican challenger Mitt Romney pulled their negative ads and avoided campaign rallies. Romney shook hands with firefighters at Chicago\\'s O\\'Hare Airport and was flying to Nevada to address the National Guard, whose members deployed after the attacks. His running mate, Rep. Paul Ryan of Wisconsin, had no scheduled public events.\\nThe memorial foundation announced this summer that politicians wouldn\\'t be included this year, to separate politics from the ceremony. But others said keeping elected officials off the rostrum smacked of ... politics. And several said they were unwilling to let go.\\n\"Coming here, it\\'s like ripping off a Band-Aid,\" said Yasmin Leon, whose sister was killed at the trade center. \"You rip it off and the wound is opened again. But you keep coming back anyway.\"\\nAnd at ground zero, family members reading their loved ones\\' names said the passage of time did not change their grief.\\n\"Mark, they say time heals all wounds. It\\'s not true, Mark,\" said Joanne Hindy, whose nephew died in the north tower. \"There\\'s a void in all our lives because this that will never ever be filled or healed.\"\\n• Associated Press writers Verena Dobnik, Meghan Barr and Alex Katz in New York, Wayne Parry in Atlantic City, N.J., and Amir Shah in Afghanistan contributed to this report.',\n",
       " 'summary': \"The 11th anniversary of the 9/11 terror attacks was marked with familiar ceremony in New York and across America. Thousands gathered at the World Trade Center site, the Pentagon, and Shanksville, PA, where the names of nearly 3,000 victims were read. Many believed the previous year's 10th anniversary was a turning point in public mourning, and this year saw less attendance at ceremonies and a few cancellations. Still, the memory of the attacks remained poignant for many. President Barack Obama attended the Pentagon memorial, Vice President Joe Biden spoke in Pennsylvania, and the Obamas later visited wounded soldiers. Families of victims in New York read names and personal messages to their lost loved ones.\\n\"}"
      ]
     },
     "metadata": {},
     "output_type": "display_data"
    },
    {
     "name": "stdout",
     "output_type": "stream",
     "text": [
      "\n"
     ]
    }
   ],
   "source": [
    "for d in data:\n",
    "    if d['id'] == '93':\n",
    "        display(d)\n",
    "        print()"
   ]
  },
  {
   "cell_type": "code",
   "execution_count": 80,
   "id": "19d20a9f-01b5-4fc4-85f5-0a31c023a3e4",
   "metadata": {},
   "outputs": [
    {
     "data": {
      "text/plain": [
       "5808"
      ]
     },
     "execution_count": 80,
     "metadata": {},
     "output_type": "execute_result"
    }
   ],
   "source": [
    "len(data)"
   ]
  },
  {
   "cell_type": "code",
   "execution_count": 81,
   "id": "5b4800a2-4548-429e-abd0-d0fcf1a2d177",
   "metadata": {},
   "outputs": [],
   "source": [
    "with open(\"data_final.json\", \"w+\") as f:\n",
    "    json.dump(data, f)"
   ]
  },
  {
   "cell_type": "markdown",
   "id": "fc62c6fe-8a41-4d6e-b8a1-f326b81cce92",
   "metadata": {},
   "source": [
    "## train/val/test split based on topic id"
   ]
  },
  {
   "cell_type": "code",
   "execution_count": 82,
   "id": "90883b34-6072-4513-8da4-418de36c4205",
   "metadata": {},
   "outputs": [],
   "source": [
    "import json"
   ]
  },
  {
   "cell_type": "code",
   "execution_count": 83,
   "id": "af710209-aefb-41da-8bc7-75f8823e9f64",
   "metadata": {},
   "outputs": [],
   "source": [
    "from sklearn.model_selection import train_test_split"
   ]
  },
  {
   "cell_type": "code",
   "execution_count": 84,
   "id": "9d60d1b4-9b3c-486f-b3d8-2593f27abbe2",
   "metadata": {},
   "outputs": [],
   "source": [
    "with open(\"data_final.json\") as f:\n",
    "    data = json.load(f)"
   ]
  },
  {
   "cell_type": "code",
   "execution_count": 86,
   "id": "f8ab3c21-9ec6-4c38-93a0-11c681096124",
   "metadata": {},
   "outputs": [],
   "source": [
    "# split based on topic ids\n",
    "topic_ids = set()\n",
    "for key, summ in summs.items():\n",
    "    topic_id, summ_bias = key.split('_')\n",
    "    topic_ids.add(topic_id)"
   ]
  },
  {
   "cell_type": "code",
   "execution_count": 87,
   "id": "1fc8a453-462d-4749-8319-06a54672534b",
   "metadata": {},
   "outputs": [
    {
     "data": {
      "text/plain": [
       "846"
      ]
     },
     "execution_count": 87,
     "metadata": {},
     "output_type": "execute_result"
    }
   ],
   "source": [
    "len(topic_ids)"
   ]
  },
  {
   "cell_type": "code",
   "execution_count": 112,
   "id": "9f4d2421-f1d2-4197-b1dd-be15dd955bca",
   "metadata": {},
   "outputs": [],
   "source": [
    "tids_train, tids_test = train_test_split(topic_ids, test_size=0.1, random_state=42)"
   ]
  },
  {
   "cell_type": "code",
   "execution_count": 113,
   "id": "cc295648-a062-4119-b73e-67c06f848e96",
   "metadata": {},
   "outputs": [],
   "source": [
    "tids_train, tids_val = train_test_split(tids_train, test_size=0.1, random_state=42)"
   ]
  },
  {
   "cell_type": "code",
   "execution_count": 114,
   "id": "257c2805-2715-43a6-b2c4-49905f25a7c2",
   "metadata": {},
   "outputs": [
    {
     "data": {
      "text/plain": [
       "(684, 77, 85)"
      ]
     },
     "execution_count": 114,
     "metadata": {},
     "output_type": "execute_result"
    }
   ],
   "source": [
    "len(tids_train), len(tids_val), len(tids_test)"
   ]
  },
  {
   "cell_type": "code",
   "execution_count": 116,
   "id": "ca00d9ba-b898-4d35-afd9-22015d84c773",
   "metadata": {},
   "outputs": [],
   "source": [
    "train, val, test = [], [], []\n",
    "for d in data:\n",
    "    if d['id'] in tids_train:\n",
    "        train.append(d)\n",
    "    elif d['id'] in tids_val:\n",
    "        val.append(d)\n",
    "    else:\n",
    "        test.append(d)"
   ]
  },
  {
   "cell_type": "code",
   "execution_count": 117,
   "id": "2b7f45c1-fdb6-4ae5-95ad-50f4cc9a3e24",
   "metadata": {},
   "outputs": [
    {
     "data": {
      "text/plain": [
       "(4664, 542, 602)"
      ]
     },
     "execution_count": 117,
     "metadata": {},
     "output_type": "execute_result"
    }
   ],
   "source": [
    "len(train), len(val), len(test)"
   ]
  },
  {
   "cell_type": "code",
   "execution_count": 119,
   "id": "1e9f0ba0-9732-4e76-b70e-b02c628d159f",
   "metadata": {},
   "outputs": [],
   "source": [
    "with open(\"train.json\", \"w+\") as f:\n",
    "    json.dump(train, f)"
   ]
  },
  {
   "cell_type": "code",
   "execution_count": 120,
   "id": "322093c2-569f-4cd9-b1a8-1ddb86a6d922",
   "metadata": {},
   "outputs": [],
   "source": [
    "with open(\"val.json\", \"w+\") as f:\n",
    "    json.dump(val, f)"
   ]
  },
  {
   "cell_type": "code",
   "execution_count": 121,
   "id": "72bad14f-7780-4122-8630-165cbae8a31e",
   "metadata": {},
   "outputs": [],
   "source": [
    "with open(\"test.json\", \"w+\") as f:\n",
    "    json.dump(test, f)"
   ]
  },
  {
   "cell_type": "markdown",
   "id": "59f962b9",
   "metadata": {},
   "source": [
    "## make hf dataset"
   ]
  },
  {
   "cell_type": "code",
   "execution_count": 4,
   "id": "fab3b845-609f-4436-aca3-edcb9b38a057",
   "metadata": {},
   "outputs": [],
   "source": [
    "from datasets import load_dataset, DatasetDict, load_from_disk"
   ]
  },
  {
   "cell_type": "code",
   "execution_count": 123,
   "id": "604e1405-f5aa-4f5f-a7ef-fdf3421adafd",
   "metadata": {},
   "outputs": [
    {
     "name": "stderr",
     "output_type": "stream",
     "text": [
      "Downloading data files: 100%|████████████████████████████████████████████████████████| 3/3 [00:00<00:00, 17142.93it/s]\n",
      "Extracting data files: 100%|███████████████████████████████████████████████████████████| 3/3 [00:00<00:00, 706.71it/s]\n",
      "Generating train split: 4664 examples [00:00, 15201.35 examples/s]\n",
      "Generating validation split: 542 examples [00:00, 24784.81 examples/s]\n",
      "Generating test split: 602 examples [00:00, 26205.97 examples/s]\n"
     ]
    }
   ],
   "source": [
    "dataset = load_dataset(\"json\", data_files={\n",
    "    \"train\": \"train.json\", \"validation\": \"val.json\", \"test\": \"test.json\"\n",
    "})"
   ]
  },
  {
   "cell_type": "code",
   "execution_count": 124,
   "id": "606fb34a-cd3b-459e-b824-b5f5cf2ddb57",
   "metadata": {},
   "outputs": [
    {
     "data": {
      "text/plain": [
       "DatasetDict({\n",
       "    train: Dataset({\n",
       "        features: ['summary', 'article', 'article_bias', 'id', 'summary_bias'],\n",
       "        num_rows: 4664\n",
       "    })\n",
       "    validation: Dataset({\n",
       "        features: ['summary', 'article', 'article_bias', 'id', 'summary_bias'],\n",
       "        num_rows: 542\n",
       "    })\n",
       "    test: Dataset({\n",
       "        features: ['summary', 'article', 'article_bias', 'id', 'summary_bias'],\n",
       "        num_rows: 602\n",
       "    })\n",
       "})"
      ]
     },
     "execution_count": 124,
     "metadata": {},
     "output_type": "execute_result"
    }
   ],
   "source": [
    "dataset"
   ]
  },
  {
   "cell_type": "code",
   "execution_count": 125,
   "id": "a6dc3bb5-238c-4706-a21a-7a4c1993f5cc",
   "metadata": {},
   "outputs": [
    {
     "name": "stderr",
     "output_type": "stream",
     "text": [
      "Saving the dataset (1/1 shards): 100%|██████████████████████████████████| 4664/4664 [00:00<00:00, 56738.31 examples/s]\n",
      "Saving the dataset (1/1 shards): 100%|████████████████████████████████████| 542/542 [00:00<00:00, 45971.02 examples/s]\n",
      "Saving the dataset (1/1 shards): 100%|████████████████████████████████████| 602/602 [00:00<00:00, 63271.38 examples/s]\n"
     ]
    }
   ],
   "source": [
    "dataset.save_to_disk(\"hf_dataset\")"
   ]
  },
  {
   "cell_type": "markdown",
   "id": "303c2bb6-0516-4d0e-806c-6f7fd2c45bd1",
   "metadata": {},
   "source": [
    "# Make gpt-4/3.5 test prompts"
   ]
  },
  {
   "cell_type": "code",
   "execution_count": 5,
   "id": "52f999c3-b096-4a42-b73b-ef2e8318403d",
   "metadata": {},
   "outputs": [],
   "source": [
    "dataset = load_from_disk(\"hf_dataset\")"
   ]
  },
  {
   "cell_type": "code",
   "execution_count": 6,
   "id": "0093dd54-9563-41de-ab61-9298a4241d0e",
   "metadata": {},
   "outputs": [
    {
     "data": {
      "text/plain": [
       "DatasetDict({\n",
       "    train: Dataset({\n",
       "        features: ['summary', 'article', 'article_bias', 'id', 'summary_bias'],\n",
       "        num_rows: 4664\n",
       "    })\n",
       "    validation: Dataset({\n",
       "        features: ['summary', 'article', 'article_bias', 'id', 'summary_bias'],\n",
       "        num_rows: 542\n",
       "    })\n",
       "    test: Dataset({\n",
       "        features: ['summary', 'article', 'article_bias', 'id', 'summary_bias'],\n",
       "        num_rows: 602\n",
       "    })\n",
       "})"
      ]
     },
     "execution_count": 6,
     "metadata": {},
     "output_type": "execute_result"
    }
   ],
   "source": [
    "dataset"
   ]
  },
  {
   "cell_type": "code",
   "execution_count": 11,
   "id": "dc8f93f2-846e-4322-a072-480d03d5cae9",
   "metadata": {},
   "outputs": [],
   "source": [
    "with open(\"gpt-3.5-test-prompts.jsonl\", \"w+\") as f:\n",
    "    for item in dataset[\"test\"]:\n",
    "        prompt = f\"Summarize from the perspective of the political {item['summary_bias']}:\\n{item['article']}\"\n",
    "        if len(encoder.encode(prompt)) > 16385: # no articles exceed this\n",
    "            print(f\"{item['id']}_{item['article_bias']}\")\n",
    "            continue\n",
    "        d = dict(model=\"gpt-3.5-turbo-1106\", messages=[{\"role\": \"user\", \"content\": prompt}], metadata=item)\n",
    "        json_record = json.dumps(d)\n",
    "        f.write(json_record + '\\n')"
   ]
  },
  {
   "cell_type": "code",
   "execution_count": 12,
   "id": "9fa346af-f1a3-409f-bc2a-89fdb4388633",
   "metadata": {},
   "outputs": [],
   "source": [
    "with open(\"gpt-4-test-prompts.jsonl\", \"w+\") as f: # 128k context, none are too big\n",
    "    for item in dataset[\"test\"]:\n",
    "        prompt = f\"Summarize from the perspective of the political {item['summary_bias']}:\\n{item['article']}\"\n",
    "        # if len(encoder.encode(prompt)) > 16385:\n",
    "        #     print(f\"{item['id']}_{item['article_bias']}\")\n",
    "        #     continue\n",
    "        d = dict(model=\"gpt-4-1106-preview\", messages=[{\"role\": \"user\", \"content\": prompt}], metadata=item)\n",
    "        json_record = json.dumps(d)\n",
    "        f.write(json_record + '\\n')"
   ]
  },
  {
   "cell_type": "code",
   "execution_count": null,
   "id": "5033af9c-8ab6-4c68-8dc1-0f0428d01518",
   "metadata": {},
   "outputs": [],
   "source": []
  }
 ],
 "metadata": {
  "kernelspec": {
   "display_name": "instructsum",
   "language": "python",
   "name": "instructsum"
  },
  "language_info": {
   "codemirror_mode": {
    "name": "ipython",
    "version": 3
   },
   "file_extension": ".py",
   "mimetype": "text/x-python",
   "name": "python",
   "nbconvert_exporter": "python",
   "pygments_lexer": "ipython3",
   "version": "3.11.5"
  }
 },
 "nbformat": 4,
 "nbformat_minor": 5
}
