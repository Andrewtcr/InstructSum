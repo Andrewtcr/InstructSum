{
 "cells": [
  {
   "cell_type": "code",
   "execution_count": 1,
   "id": "5fd69a4e-e2c0-428d-934c-b90c90db0558",
   "metadata": {},
   "outputs": [
    {
     "name": "stderr",
     "output_type": "stream",
     "text": [
      "/Users/andrew/opt/anaconda3/envs/instructsum/lib/python3.11/site-packages/tqdm/auto.py:21: TqdmWarning: IProgress not found. Please update jupyter and ipywidgets. See https://ipywidgets.readthedocs.io/en/stable/user_install.html\n",
      "  from .autonotebook import tqdm as notebook_tqdm\n"
     ]
    },
    {
     "name": "stdout",
     "output_type": "stream",
     "text": [
      "Intel MKL WARNING: Support of Intel(R) Streaming SIMD Extensions 4.2 (Intel(R) SSE4.2) enabled only processors has been deprecated. Intel oneAPI Math Kernel Library 2025.0 will require Intel(R) Advanced Vector Extensions (Intel(R) AVX) instructions.\n",
      "Intel MKL WARNING: Support of Intel(R) Streaming SIMD Extensions 4.2 (Intel(R) SSE4.2) enabled only processors has been deprecated. Intel oneAPI Math Kernel Library 2025.0 will require Intel(R) Advanced Vector Extensions (Intel(R) AVX) instructions.\n"
     ]
    }
   ],
   "source": [
    "import os\n",
    "import json\n",
    "import random\n",
    "import time\n",
    "\n",
    "# from openai import OpenAI\n",
    "from tqdm.auto import tqdm\n",
    "import matplotlib.pyplot as plt\n",
    "import numpy as np"
   ]
  },
  {
   "cell_type": "code",
   "execution_count": 2,
   "id": "414538b8-1c7d-4499-8d94-61994d9abb9e",
   "metadata": {},
   "outputs": [],
   "source": [
    "import tiktoken"
   ]
  },
  {
   "cell_type": "code",
   "execution_count": 10,
   "id": "ced55115-ec1d-459a-a974-ac17bb35d1fe",
   "metadata": {},
   "outputs": [],
   "source": [
    "encoder = tiktoken.get_encoding(\"cl100k_base\")"
   ]
  },
  {
   "cell_type": "code",
   "execution_count": 4,
   "id": "dbd2785f-c848-479a-a3ec-25ae1869847e",
   "metadata": {},
   "outputs": [],
   "source": [
    "files = os.listdir(\"AllSidesArticles/\")"
   ]
  },
  {
   "cell_type": "code",
   "execution_count": 5,
   "id": "6fa19cd6-2b59-4356-8ece-d01daa5bb188",
   "metadata": {},
   "outputs": [],
   "source": [
    "with open(f\"AllSidesArticles/{files[0]}\") as f:\n",
    "        s = json.load(f)"
   ]
  },
  {
   "cell_type": "code",
   "execution_count": 6,
   "id": "346dcb8e-6e22-49ba-adb9-fd92cde880e2",
   "metadata": {},
   "outputs": [],
   "source": [
    "articles = {}\n",
    "for path in files:\n",
    "    if path.endswith(\".json\"):\n",
    "        with open(f\"AllSidesArticles/{path}\") as f:\n",
    "            dic = json.load(f)\n",
    "            title = dic.get(\"newsTitle\")\n",
    "            body = dic.get(\"fullArticle\")\n",
    "            if not body:\n",
    "                continue\n",
    "            else:\n",
    "                body = \"\\n\".join(body)\n",
    "            articles[path[:-5]] = f\"{title}\\n{body}\""
   ]
  },
  {
   "cell_type": "code",
   "execution_count": 7,
   "id": "179acf2e-72f1-420e-9ec2-36a5e5be44b3",
   "metadata": {},
   "outputs": [
    {
     "data": {
      "text/plain": [
       "2140"
      ]
     },
     "execution_count": 7,
     "metadata": {},
     "output_type": "execute_result"
    }
   ],
   "source": [
    "len(articles)"
   ]
  },
  {
   "cell_type": "code",
   "execution_count": 115,
   "id": "c2d9cdc5-7e73-4f6a-8037-b02914d906d5",
   "metadata": {},
   "outputs": [
    {
     "name": "stdout",
     "output_type": "stream",
     "text": [
      "5188_left\n",
      "2049_center\n",
      "4198_left\n"
     ]
    }
   ],
   "source": [
    "# parse articles into proper format for api_request_parallel_processor\n",
    "with open(\"articles.jsonl\", \"w+\") as f:\n",
    "    for key, text in articles.items():\n",
    "        prompt = \"Summarize the following:\\n\" + text\n",
    "        if len(encoder.encode(prompt)) > 8192:\n",
    "            print(key)\n",
    "            continue\n",
    "        d = dict(model=\"gpt-4\", messages=[{\"role\": \"user\", \"content\": prompt}])\n",
    "        json_record = json.dumps(d)\n",
    "        f.write(json_record + '\\n')"
   ]
  },
  {
   "cell_type": "markdown",
   "id": "dd3559b6-f9c2-48a7-aabd-540c9abaa0d7",
   "metadata": {},
   "source": [
    "=> put these manually into GPT-4 web interface"
   ]
  },
  {
   "cell_type": "code",
   "execution_count": 200,
   "id": "6a44f9c5-cd1c-403b-8bff-a4a9d84a0e27",
   "metadata": {
    "collapsed": true,
    "jupyter": {
     "outputs_hidden": true
    },
    "tags": []
   },
   "outputs": [
    {
     "data": {
      "text/plain": [
       "'Summarize the following:\\nAt War With The Truth\\nIn the interviews, more than 400 insiders offered unrestrained criticism of what went wrong in Afghanistan and how the United States became mired in nearly two decades of warfare.\\nWith a bluntness rarely expressed in public, the interviews lay bare pent-up complaints, frustrations and confessions, along with second-guessing and backbiting.\\nClick any underlined text in the story to see the statement in the original document\\n“We were devoid of a fundamental understanding of Afghanistan — we didn’t know what we were doing,”Douglas Lute | Lessons Learned interview | 2/20/2015Tap to view full document  Douglas Lute, a three-star Army general who served as the White House’s Afghan war czar during the Bush and Obama administrations, told government interviewers in 2015. He added: “What are we trying to do here? We didn’t have the foggiest notion of what we were undertaking.”Douglas Lute | Lessons Learned interview | 2/20/2015Tap to view full document\\n“If the American people knew the magnitude of this dysfunction .\\u2009.\\u2009. 2,400 lives lost,”Douglas Lute | Lessons Learned interview | 2/20/2015Tap to view full document  Lute added, blaming the deaths of U.S. military personnel on bureaucratic breakdowns among Congress, the Pentagon and the State Department. “Who will say this was in vain?”Douglas Lute | Lessons Learned interview | 2/20/2015Tap to view full document\\nSince 2001, more than 775,000 U.S. troops have deployed to Afghanistan, many repeatedly. Of those, 2,300 died there and 20,589 were wounded in action, according to Defense Department figures.\\nThe interviews, through an extensive array of voices, bring into sharp relief the core failings of the war that persist to this day. They underscore how three presidents — George W. Bush, Barack Obama and Donald Trump — and their military commanders have been unable to deliver on their promises to prevail in Afghanistan.\\nSee the documents More than 2,000 pages of interviews and memos reveal a secret history of the war.\\nPart 2: Stranded without a strategy Conflicting objectives dogged the war from the start.\\nResponses to The Post from people named in The Afghanistan Papers\\nWith most speaking on the assumption that their remarks would not become public, U.S. officials acknowledged that their warfighting strategies were fatally flawed and that Washington wasted enormous sums of money trying to remake Afghanistan into a modern nation.\\nThe interviews also highlight the U.S. government’s botched attempts to curtail runaway corruption, build a competent Afghan army and police force, and put a dent in Afghanistan’s thriving opium trade.\\nThe U.S. government has not carried out a comprehensive accounting of how much it has spent on the war in Afghanistan, but the costs are staggering.\\nSince 2001, the Defense Department, State Department and U.S. Agency for International Development have spent or appropriated between $934\\xa0billion and $978\\xa0billion, according to an inflation-adjusted estimate calculated by Neta Crawford, a political science professor and co-director of the Costs of War Project at Brown University.\\nThose figures do not include money spent by other agencies such as the CIA and the Department of Veterans Affairs, which is responsible for medical care for wounded veterans.\\n“What did we get for this $1\\xa0trillion effort? Was it worth $1\\xa0trillion?”Jeffrey Eggers | Lessons Learned interview | 8/25/2015Tap to view full document  Jeffrey Eggers, a retired Navy SEAL and White House staffer for Bush and Obama, told government interviewers. He added, “After the killing of Osama bin Laden, I said that Osama was probably laughing in his watery grave considering how much we have spent on Afghanistan.”Jeffrey Eggers | Lessons Learned interview | 8/25/2015Tap to view full document\\nThe documents also contradict a long chorus of public statements from U.S. presidents, military commanders and diplomats who assured Americans year after year that they were making progress in Afghanistan and the war was worth fighting.\\n(Video by Joyce Lee/The Washington Post)\\nSeveral of those interviewed described explicit and sustained efforts by the U.S. government to deliberately mislead the public. They said it was common at military headquarters in Kabul — and at the White House — to distort statistics to make it appear the United States was winning the war when that was not the case.\\nUZBEK.\\nTURKMEN.\\nTAJIK.\\nKabul\\nAFGHANISTAN\\nKandahar\\nHELMAND\\nPROV.\\nPAKISTAN\\nIRAN\\nINDIA\\n200 MILES\\nUZBEK.\\nTURKMENISTAN\\nTAJIK.\\nKabul\\nAFGHANISTAN\\nKandahar\\nHELMAND\\nPROV.\\nPAKISTAN\\nIRAN\\nINDIA\\n200 MILES\\n“Every data point was altered to present the best picture possible,”Bob Crowley | Lessons Learned interview | 8/3/2016Tap to view full document  Bob Crowley, an Army colonel who served as a senior counterinsurgency adviser to U.S. military commanders in 2013 and 2014, told government interviewers. “Surveys, for instance, were totally unreliable but reinforced thatBob Crowley | Lessons Learned interview | 8/3/2016Tap to view full document everything we were doing was right and we became a self-licking ice cream cone.”Bob Crowley | Lessons Learned interview | 8/3/2016Tap to view full document\\nJohn Sopko, the head of the federal agency that conducted the interviews, acknowledged to The Post that the documents show “the American people have constantly been lied to.”\\nThe interviews are the byproduct of a project led by Sopko’s agency, the Office of the Special Inspector General for Afghanistan Reconstruction. Known as SIGAR, the agency was created by Congress in 2008 to investigate waste and fraud in the war zone.\\nIn 2014, at Sopko’s direction, SIGAR departed from its usual mission of performing audits and launched a side venture. Titled “Lessons Learned,” the $11\\xa0million project was meant to diagnose policy failures in Afghanistan so the United States would not repeat the mistakes the next time it invaded a country or tried to rebuild a shattered one.\\nThe Lessons Learned staff interviewed more than 600 people with firsthand experience in the war. Most were Americans, but SIGAR analysts also traveled to London, Brussels and Berlin to interview NATO allies. In addition, they interviewed about 20 Afghan officials, discussing reconstruction and development programs.\\nDrawing partly on the interviews, as well as other government records and statistics, SIGAR has published seven Lessons Learned reports since 2016 that highlight problems in Afghanistan and recommend changes to stabilize the country.\\nBut the reports, written in dense bureaucratic prose and focused on an alphabet soup of government initiatives, left out the harshest and most frank criticisms from the interviews.\\n“We found the stabilization strategy and the programs used to achieve it were not properly tailored to the Afghan context, and successes in stabilizing Afghan districts rarely lasted longer than the physical presence of coalition troops and civilians,” read the introduction to one report released in May 2018.\\nThe reports also omitted the names of more than 90\\xa0percent of the people who were interviewed for the project. While a few officials agreed to speak on the record to SIGAR, the agency said it promised anonymity to everyone else it interviewed to avoid controversy over politically sensitive matters.\\nUnder the Freedom of Information Act, The Post began seeking Lessons Learned interview records in August 2016. SIGAR refused, arguing that the documents were privileged and that the public had no right to see them.\\nThe Post had to sue SIGAR in federal court — twice — to compel it to release the documents.\\n— James Dobbins, former U.S. diplomat      Listen\\nThe agency eventually disclosed more than 2,000 pages of unpublished notes and transcripts from 428 of the interviews, as well as several audio recordings.\\nThe documents identify 62 of the people who were interviewed, but SIGAR blacked out the names of 366 others. In legal briefs, the agency contended that those individuals should be seen as whistleblowers and informants who might face humiliation, harassment, retaliation or physical harm if their names became public.\\nBy cross-referencing dates and other details from the documents, The Post independently identified 33 other people who were interviewed, including several former ambassadors, generals and White House officials.\\nThe Post has asked a federal judge to force SIGAR to disclose the names of everyone else interviewed, arguing that the public has a right to know which officials criticized the war and asserted that the government had misled the American people. The Post also argued the officials were not whistleblowers or informants, because they were not interviewed as part of an investigation.\\nA decision by Judge Amy Berman Jackson of the U.S. District Court in Washington has been pending since late September.\\nThe Post is publishing the documents now, instead of waiting for a final ruling, to inform the public while the Trump administration is negotiating with the Taliban and considering whether to withdraw the 13,000 U.S. troops who remain in Afghanistan.\\nThe Post attempted to contact for comment everyone whom it was able to identify as having given an interview to SIGAR. Their responses are compiled in a separate article.\\nSopko, the inspector general, told The Post that he did not suppress the blistering criticisms and doubts about the war that officials raised in the Lessons Learned interviews. He said it took his office three years to release the records because he has a small staff and because other federal agencies had to review the documents to prevent government secrets from being disclosed.\\n“We didn’t sit on it,” he said. “We’re firm believers in openness and transparency, but we’ve got to follow the law. .\\u2009.\\u2009. I think of any inspector general, I’ve probably been the most forthcoming on information.”\\nThe interview records are raw and unedited, and SIGAR’s Lessons Learned staff did not stitch them into a unified narrative. But they are packed with tough judgments from people who shaped or carried out U.S. policy in Afghanistan.\\n“We don’t invade poor countries to make them rich,”James Dobbins | Lessons Learned interview | 1/11/2016Tap to view full document  James Dobbins, a former senior U.S. diplomat who served as a special envoy to Afghanistan under Bush and Obama, told government interviewers. “We don’t invade authoritarian countries to make them democratic. We invade violent countries to make them peaceful and we clearly failed in Afghanistan.”James Dobbins | Lessons Learned interview | 1/11/2016Tap to view full document\\nFrom left, Gen. David H. Petraeus, Joint Chiefs Chairman Michael Mullen, Veterans Affairs Secretary Eric Shinseki and Defense Secretary Robert Gates at the U.S. Military Academy in West Point, N.Y., in 2009 as President Barack Obama publicly outlined his plans for a troop surge in Afghanistan. (Christopher Morris/VII/Redux)\\nTo augment the Lessons Learned interviews, The Post obtained hundreds of pages of previously classified memos about the Afghan war that were dictated by Defense Secretary Donald H. Rumsfeld between 2001 and 2006.\\nDubbed “snowflakes” by Rumsfeld and his staff, the memos are brief instructions or comments that the Pentagon boss dictated to his underlings, often several times a day.\\nRumsfeld made a select number of his snowflakes public in 2011, posting them online in conjunction with his memoir, “Known and Unknown.” But most of his snowflake collection — an estimated 59,000 pages — remained secret.\\nIn 2017, in response to a FOIA lawsuit filed by the National Security Archive, a nonprofit research institute based at George Washington University, the Defense Department began reviewing and releasing the remainder of Rumsfeld’s snowflakes on a rolling basis. The Archive shared them with The Post.\\nTogether, the SIGAR interviews and the Rumsfeld memos pertaining to Afghanistan constitute a secret history of the war and an unsparing appraisal of 18 years of conflict.\\nWorded in Rumsfeld’s brusque style, many of the snowflakes foreshadow problems that continue to haunt the U.S. military more than a decade later.\\n“I may be impatient. In fact I know I’m a bit impatient,”Donald Rumsfeld | Rumsfeld memoTap to view full document  Rumsfeld wrote in one memo to several generals and senior aides. “We are never going to get the U.S. military out of Afghanistan unless we take care to see that there is something going on that will provide the stability that will be necessary for us to leave.”Donald Rumsfeld | Rumsfeld memoTap to view full document\\n“Help!”Donald Rumsfeld | Rumsfeld memoTap to view full document  he wrote.\\nThe memo was dated April 17, 2002 — six months after the war started.\\n“The history of military conflict in Afghanistan [has] been one of initial success, followed by long years of floundering and ultimate failure. We’re not going to repeat that mistake.”\\n— President George W. Bush, in a speech at the Virginia Military Institute\\nWith their forthright descriptions of how the United States became stuck in a faraway war, as well as the government\\'s determination to conceal them from the public, the Lessons Learned interviews broadly resemble the Pentagon Papers, the Defense Department\\'s top-secret history of the Vietnam War.\\nWhen they were leaked in 1971, the Pentagon Papers caused a sensation by revealing the government had long misled the public about how the United States came to be embroiled in Vietnam.\\nBound into 47 volumes, the 7,000-page study was based entirely on internal government documents — diplomatic cables, decision-making memos, intelligence reports. To preserve secrecy, Defense Secretary Robert McNamara issued an order prohibiting the authors from interviewing anyone.\\nSIGAR’s Lessons Learned project faced no such restrictions. Staffers carried out the interviews between 2014 and 2018, mostly with officials who served during the Bush and Obama years.\\nAbout 30 of the interview records are transcribed, word-for-word accounts. The rest are typed summaries of conversations: pages of notes and quotes from people with different vantage points in the conflict, from provincial outposts to the highest circles of power.\\nSome of the interviews are inexplicably short. The interview record with John Allen, the Marine general who commanded U.S. and NATO forces in Afghanistan from 2011 to 2013, consists of five paragraphs.\\nIn contrast, records of interviews with other influential figures are much more extensive. Former U.S. ambassador Ryan Crocker sat for two interviews that yielded 95 transcribed pages.\\nUnlike the Pentagon Papers, none of the Lessons Learned documents were originally classified as a government secret. Once The Post pushed to make them public, however, other federal agencies intervened and classified some material after the fact.\\nThe State Department, for instance, asserted that releasing portions of certain interviews could jeopardize negotiations with the Taliban to end the war. The Defense Department and Drug Enforcement Administration also classified some interview excerpts.\\nThe Lessons Learned interviews contain few revelations about military operations. But running throughout are torrents of criticism that refute the official narrative of the war, from its earliest days through the start of the Trump administration.\\nAt the outset, for instance, the U.S. invasion of Afghanistan had a clear, stated objective — to retaliate against al-Qaeda and prevent a repeat of the Sept. 11, 2001, attacks.\\nA joint artillery training session at a combat outpost in Jaghatu, in Wardak province, in 2012. (Lorenzo Tugnoli for The Washington Post)\\nYet the interviews show that as the war dragged on, the goals and mission kept changing and a lack of faith in the U.S. strategy took root inside the Pentagon, the White House and the State Department.\\nFundamental disagreements went unresolved. Some U.S. officials wanted to use the war to turn Afghanistan into a democracy. Others wanted to transform Afghan culture and elevate women’s rights. Still others wanted to reshape the regional balance of power among Pakistan, India, Iran and Russia.\\n“With the AfPak strategy there was a present under the Christmas tree for everyone,”Lessons Learned interview | 5/18/2015Tap to view full document  an unidentified U.S. official told government interviewers in 2015. “By the time you were finished you had so many priorities and aspirations it was like no strategy at all.”Lessons Learned interview | 5/18/2015Tap to view full document\\nThe Lessons Learned interviews also reveal how U.S. military commanders struggled to articulate who they were fighting, let alone why.\\nWas al-Qaeda the enemy, or the Taliban? Was Pakistan a friend or an adversary? What about the Islamic State and the bewildering array of foreign jihadists, let alone the warlords on the CIA’s payroll? According to the documents, the U.S. government never settled on an answer.\\nAs a result, in the field, U.S. troops often couldn’t tell friend from foe.\\n“They thought I was going to come to them with a map to show them where the good guys and bad guys live,”Lessons Learned interview | 12/15/2017Tap to view full document  an unnamed former adviser to an Army Special Forces team told government interviewers in 2017. “It took several conversations for them to understand that I did not have that information in my hands. At first, they just kept asking: ‘But who are the bad guys, where are they?’\\u2009”Lessons Learned interview | 12/15/2017Tap to view full document\\nThe view wasn’t any clearer from the Pentagon.\\n“I have no visibility into who the bad guys are,”Donald Rumsfeld | Rumsfeld memoTap to view full document  Rumsfeld complained in a Sept. 8, 2003, snowflake. “We are woefully deficient in human intelligence.”Donald Rumsfeld | Rumsfeld memoTap to view full document\\n“The days of providing a blank check are over. .\\u2009.\\u2009. It must be clear that Afghans will have to take responsibility for their security and that America has no interest in fighting an endless war in Afghanistan.”\\n— President Barack Obama, in a speech at the U.S. Military Academy at West Point, N.Y.\\nAs commanders in chief, Bush, Obama and Trump all promised the public the same thing. They would avoid falling into the trap of \"nation-building\" in Afghanistan.\\nOn that score, the presidents failed miserably. The United States has allocated more than $133\\xa0billion to build up Afghanistan — more than it spent, adjusted for inflation, to revive the whole of Western Europe with the Marshall Plan after World War II.\\nThe Lessons Learned interviews show the grandiose nation-building project was marred from the start.\\nU.S. officials tried to create — from scratch — a democratic government in Kabul modeled after their own in Washington. It was a foreign concept to the Afghans, who were accustomed to tribalism, monarchism, communism and Islamic law.\\n“Our policy was to create a strong central government which was idiotic because Afghanistan does not have a history of a strong central government,”Former State Department official | Lessons Learned interview | 7/10/2015Tap to view full document  an unidentified former State Department official told government interviewers in 2015. “The timeframe for creating a strong central government is 100 years, which we didn’t have.”Former State Department official | Lessons Learned interview | 7/10/2015Tap to view full document\\nMeanwhile, the United States flooded the fragile country with far more aid than it could possibly absorb.\\nDuring the peak of the fighting, from 2009 to 2012, U.S. lawmakers and military commanders believed the more they spent on schools, bridges, canals and other civil-works projects, the faster security would improve. Aid workers told government interviewers it was a colossal misjudgment, akin to pumping kerosene on a dying campfire just to keep the flame alive.\\nU.S. soldiers wounded by an IED are transported by medevac in Kandahar province in 2010. (Linda Davidson/The Washington Post)\\nOne unnamed executive with the U.S. Agency for International Development (USAID) guessed that 90\\xa0percent of what they spent was overkill: “We lost objectivity. We were given money, told to spend it and we did, without reason.”Lessons Learned interview | 10/7/2016Tap to view full document\\nMany aid workers blamed Congress for what they saw as a mindless rush to spend.\\nOne unidentified contractor told government interviewers he was expected to dole out $3\\xa0million daily for projects in a single Afghan district roughly the size of a U.S. county. He once asked a visiting congressman whether the lawmaker could responsibly spend that kind of money back home: “He said hell no. ‘Well, sir, that’s what you just obligated us to spend and I’m doing it for communities that live in mud huts with no windows.’\\u2009”Senior USAID official | Lessons Learned interview | 8/15/2016Tap to view full document\\nThe gusher of aid that Washington spent on Afghanistan also gave rise to historic levels of corruption.\\nIn public, U.S. officials insisted they had no tolerance for graft. But in the Lessons Learned interviews, they admitted the U.S. government looked the other way while Afghan power brokers — allies of Washington — plundered with impunity.\\nChristopher Kolenda, an Army colonel who deployed to Afghanistan several times and advised three U.S. generals in charge of the war, said that the Afghan government led by President Hamid Karzai had “self-organized into a kleptocracy”Christopher Kolenda | Lessons Learned interview | 4/5/2016Tap to view full document  by 2006 — and that U.S. officials failed to recognize the lethal threat it posed to their strategy.\\n“I like to use a cancer analogy,”Christopher Kolenda | Lessons Learned interview | 4/5/2016Tap to view full document  Kolenda told government interviewers. “Petty corruption is like skin cancer; there are ways to deal with it and you’ll probably be just fine. Corruption within the ministries, higher level, is like colon cancer; it’s worse, but if you catch it in time, you’re probably ok. Kleptocracy, however, is like brain cancer; it’s fatal.”Christopher Kolenda | Lessons Learned interview | 4/5/2016Tap to view full document\\nA banner depicting President Hamid Karzai in Kabul shortly after the country’s 2004 election. (Emilio Morenatti/AP)\\nBy allowing corruption to fester, U.S. officials told interviewers, they helped destroy the popular legitimacy of the wobbly Afghan government they were fighting to prop up. With judges and police chiefs and bureaucrats extorting bribes, many Afghans soured on democracy and turned to the Taliban to enforce order.\\n“Our biggest single project, sadly and inadvertently, of course, may have been the development of mass corruption,”Ryan Crocker | Lessons Learned interview | 1/11/2016Tap to view full document  Crocker, who served as the top U.S. diplomat in Kabul in 2002 and again from 2011 to 2012, told government interviewers. He added, “Once it gets to the level I saw, when I was out there, it’s somewhere between unbelievably hard and outright impossible to fix it.”Ryan Crocker | Lessons Learned interview | 1/11/2016Tap to view full document\\n“This army and this police force have been very, very effective in combat against the insurgents every single day. And I think that’s an important story to be told across the board.”\\n— Then-Army Lt. Gen. Mark A. Milley, praising the Afghan security forces during a press briefing from Kabul. Milley is now a four-star general and chairman of the Joint Chiefs of Staff.\\nYear after year, U.S. generals have said in public they are making steady progress on the central plank of their strategy: to train a robust Afghan army and national police force that can defend the country without foreign help.\\nIn the Lessons Learned interviews, however, U.S. military trainers described the Afghan security forces as incompetent, unmotivated and rife with deserters. They also accused Afghan commanders of pocketing salaries — paid by U.S. taxpayers — for tens of thousands of “ghost soldiers.”\\nNone expressed confidence that the Afghan army and police could ever fend off, much less defeat, the Taliban on their own. More than 60,000 members of Afghan security forces have been killed, a casualty rate that U.S. commanders have called unsustainable.\\nAfghan army recruits in Kabul in 2009. (Emilio Morenatti/AP)\\nOne unidentified U.S. soldier said Special Forces teams “hated”U.S. Special Forces officer | Lessons Learned interview | 9/7/2016Tap to view full document  the Afghan police whom they trained and worked with, calling them “awful — the bottom of the barrel in the country that is already at the bottom of the barrel.”U.S. Special Forces officer | Lessons Learned interview | 9/7/2016Tap to view full document\\nA U.S. military officer estimated that one-third of police recruits were “drug addicts or Taliban.”U.S. military officer | Lessons Learned interview | 10/20/2016Tap to view full document  Yet another called them “stealing fools”Victor Glaviano | Lessons Learned interview | 4/11/2017Tap to view full document  who looted so much fuel from U.S. bases that they perpetually smelled of gasoline.\\n“Thinking we could build the military that fast and that well was insane,”Senior USAID official | Lessons Learned interview | 8/15/2016Tap to view full document  an unnamed senior USAID official told government interviewers.\\nMeanwhile, as U.S. hopes for the Afghan security forces failed to materialize, Afghanistan became the world’s leading source of a growing scourge: opium.\\nThe United States has spent about $9\\xa0billion to fight the problem over the past 18 years, but Afghan farmers are cultivating more opium poppies than ever. Last year, Afghanistan was responsible for 82 percent of global opium production, according to the United Nations Office on Drugs and Crime.\\nIn the Lessons Learned interviews, former officials said almost everything they did to constrain opium farming backfired.\\n“We stated that our goal is to establish a ‘flourishing market economy,’\\u2009”Douglas Lute | Lessons Learned interview | 2/20/2015Tap to view full document  said Douglas Lute, the White House’s Afghan war czar from 2007 to 2013. “I thought we should have specified a flourishing drug trade — this is the only part of the market that’s working.”Douglas Lute | Lessons Learned interview | 2/20/2015Tap to view full document\\nDefense Secretary Chuck Hagel speaks to U.S. troops in 2013 at Camp Bastion, in Helmand province. (Mark Wilson/Getty Images)\\nFrom the beginning, Washington never really figured out how to incorporate a war on drugs into its war against al-Qaeda. By 2006, U.S. officials feared that narco-traffickers had become stronger than the Afghan government and that money from the drug trade was powering the insurgency.\\nNo single agency or country was in charge of the Afghan drug strategy for the entirety of the war, so the State Department, the DEA, the U.S. military, NATO allies and the Afghan government butted heads constantly.\\n“It was a dog’s breakfast with no chance of working,”Former senior British official | Lessons Learned interview | 9/21/2016Tap to view full document  an unnamed former senior British official told government interviewers.\\nThe agencies and allies made things worse by embracing a dysfunctional muddle of programs, according to the interviews.\\nAt first, Afghan poppy farmers were paid by the British to destroy their crops — which only encouraged them to grow more the next season. Later, the U.S. government eradicated poppy fields without compensation — which only infuriated farmers and encouraged them to side with the Taliban.\\n“It was sad to see so many people behave so stupidly,”U.S. official | Lessons Learned interview | 5/11/2016Tap to view full document  one U.S. official told government interviewers.\\n“Are we losing this war? Absolutely no way. Can the enemy win it? Absolutely no way.”\\n— Army Maj. Gen. Jeffrey Schloesser, commander of the 101st Airborne Division, in a news briefing from Afghanistan\\nThe specter of Vietnam has hovered over Afghanistan from the start.\\nOn Oct. 11, 2001, a few days after the United States started bombing the Taliban, a reporter asked Bush: “Can you avoid being drawn into a Vietnam-like quagmire in Afghanistan?”\\n“We learned some very important lessons in Vietnam,” Bush replied confidently. “People often ask me, ‘How long will this last?’ This particular battlefront will last as long as it takes to bring al-Qaeda to justice. It may happen tomorrow, it may happen a month from now, it may take a year or two. But we will prevail.”\\nIn those early days, other U.S. leaders mocked the notion that the nightmare of Vietnam might repeat itself in Afghanistan.\\n“All together now — quagmire!” Rumsfeld joked at a news conference on Nov.\\xa027, 2001.\\nBut throughout the Afghan war, documents show that U.S. military officials have resorted to an old tactic from Vietnam — manipulating public opinion.\\nIn news conferences and other public appearances, those in charge of the war have followed the same talking points for 18 years. No matter how the war is going — and especially when it is going badly — they emphasize how they are making progress.\\nFor example, some snowflakes that Rumsfeld released with his memoir show he had received a string of unusually dire warnings from the war zone in 2006.\\nAfter returning from a fact-finding mission to Afghanistan, Barry McCaffrey, a retired Army general, reported the Taliban had made an impressive comeback and predicted that “we will encounter some very unpleasant surprises in the coming 24 months.”\\n“The Afghan national leadership are collectively terrified that we will tip-toe out of Afghanistan in the coming few years — leaving NATO holding the bag — and the whole thing will collapse again into mayhem,” McCaffrey wrote in June 2006.\\nTwo months later, Marin Strmecki, a civilian adviser to Rumsfeld, gave the Pentagon chief a classified, 40-page report loaded with more bad news. It said “enormous popular discontent is building” against the Afghan government because of its corruption and incompetence. It also said that the Taliban was growing stronger, thanks to support from Pakistan, a U.S. ally.\\nYet with Rumsfeld’s personal blessing, the Pentagon buried the bleak warnings and told the public a very different story.\\nAir Force Gen. Richard B. Myers, left, chairman of the Joint Chiefs of Staff, and Defense Secretary Donald H. Rumsfeld in March 2002. (Robert A. Reeder/The Washington Post)\\nIn October 2006, Rumsfeld’s speechwriters delivered a paper titled “Afghanistan: Five Years Later.” Brimming with optimism, it highlighted more than 50 promising facts and figures, from the number of Afghan women trained in “improved poultry management” (more than 19,000) to the “average speed on most roads” (up 300\\xa0percent).\\n“Five years on, there is a multitude of good news,” it read. “While it has become fashionable in some circles to call Afghanistan a forgotten war, or to say the United States has lost its focus, the facts belie the myths.”\\nRumsfeld thought it was brilliant.\\n“This paper,” he wrote in a memo, “is an excellent piece. How do we use it? Should it be an article? An Op-ed piece? A handout? A press briefing? All of the above? I think it ought to get it to a lot of people.”\\nHis staffers made sure it did. They circulated a version to reporters and posted it on Pentagon websites.\\nSince then, U.S. generals have almost always preached that the war is progressing well, no matter the reality on the battlefield.\\n“We’re making some steady progress,” Maj. Gen. Jeffrey Schloesser, commander of the 101st Airborne Division, told reporters in September 2008, even as he and other U.S. commanders in Kabul were urgently requesting reinforcements to cope with a rising tide of Taliban fighters.\\nTwo years later, as the casualty rate among U.S. and NATO troops climbed to another high, Army Lt. Gen. David Rodriguez held a news conference in Kabul.\\n“First, we are steadily making deliberate progress,” he said.\\n— Michael Flynn, a retired three-star Army general      Listen\\nIn March 2011, during congressional hearings, skeptical lawmakers pelted Army Gen. David H. Petraeus, the commander of U.S. and NATO forces in Afghanistan, with doubts that the U.S. strategy was working.\\n“The past eight months have seen important but hard-fought progress,” Petraeus responded.\\nOne year later, during a visit to Afghanistan, Defense Secretary Leon Panetta stuck to the same script — even though he had just personally dodged a suicide attack.\\n“The campaign, as I’ve pointed out before, I think has made significant progress,” Panetta told reporters.\\nIn July 2016, after a surge in Taliban attacks on major cities, Army Gen. John W. Nicholson Jr., the commander of U.S. forces in Afghanistan at the time, repeated the refrain.\\n“We are seeing some progress,” he told reporters.\\n“Going forward, we will not blindly stay the course. Instead, we will set clear metrics to measure progress and hold ourselves accountable.”\\n— Obama, in remarks from the White House\\nDuring Vietnam, U.S. military commanders relied on dubious measurements to persuade Americans that they were winning.\\nMost notoriously, the Pentagon highlighted “body counts,” or the number of enemy fighters killed, and inflated the figures as a measurement of success.\\nIn Afghanistan, with occasional exceptions, the U.S. military has generally avoided publicizing body counts. But the Lessons Learned interviews contain numerous admissions that the government routinely touted statistics that officials knew were distorted, spurious or downright false.\\nThe toll of war\\nSince 2001, an estimated 157,000 people have been killed in the war in Afghanistan.\\n64,124*\\nAfghan security forces\\n43,074*\\nAfghan civilians\\n42,100*\\nTaliban fighters and other insurgents\\n3,814\\nU.S. contractors\\n2,300\\nU.S. military personnel\\n1,145\\nNATO and coalition troops\\n424\\nHumanitarian aid workers\\n67\\nJournalists and media workers\\n*estimated\\nNote: U.S. military number is current through November 2019. The other figures and estimates are current as of October 2019.\\nSources: Defense Department; Costs of War Project, Brown University; U.N. Assistance Mission in Afghanistan; Committee to Protect Journalists\\nThe toll of war\\nSince 2001, an estimated 157,000 people have been killed in the war in Afghanistan.\\nAfghan civilians\\n43,074*\\nAfghan security forces\\n64,124*\\nU.S. contractors\\nTaliban fighters and other insurgents\\n3,814\\n42,100*\\nU.S. military personnel\\n2,300\\n67\\nJournalists and media\\n1,145\\nNATO and coalition troops\\n424\\nHumanitarian aid workers\\n*estimated\\nNote: U.S. military number is current through November 2019.\\nThe other figures and estimates are current as of October 2019.\\nSources: Defense Department; Costs of War Project, Brown University; U.N. Assistance Mission in Afghanistan; Committee to Protect Journalists\\nThe toll of war\\nSince 2001, an estimated 157,000 people have been killed in the war in Afghanistan.\\nAfghan civilians\\n43,074*\\nAfghan security forces\\n64,124*\\n424\\nHumanitarian aid workers\\n3,814\\n67\\nTaliban fighters and other insurgents\\nJournalists and media workers\\nU.S. contractors\\n2,300\\n42,100*\\n1,145\\nNATO and coalition troops\\nU.S. military personnel\\n*estimated\\nNote: U.S. military number is current through November 2019. The other figures and\\nestimates are current as of October 2019.\\nSources: Defense Department; Costs of War Project, Brown University; U.N. Assistance Mission in Afghanistan; Committee to Protect Journalists\\nThe toll of war\\nSince 2001, an estimated 157,000 people have been killed in the war in Afghanistan.\\nAfghan civilians\\n43,074*\\nAfghan security forces\\n64,124*\\n424\\nHumanitarian aid workers\\n3,814\\nTaliban fighters and other insurgents\\nU.S. contractors\\n67\\nJournalists and media workers\\n2,300\\n42,100*\\nU.S. military personnel\\n1,145\\nNATO and coalition troops\\n*estimated\\nNote: U.S. military number is current through November 2019. The other figures and estimates are current\\nas of October 2019.\\nSources: Defense Department; Costs of War Project, Brown University; U.N. Assistance Mission in Afghanistan; Committee to Protect Journalists\\nA person identified only as a senior National Security Council official said there was constant pressure from the Obama White House and Pentagon to produce figures to show the troop surge of 2009 to 2011 was working, despite hard evidence to the contrary.\\n“It was impossible to create good metrics. We tried using troop numbers trained, violence levels, control of territory and none of it painted an accurate picture,”Senior National Security Council official | Lessons Learned interview | 9/16/2016Tap to view full document  the senior NSC official told government interviewers in 2016. “The metrics were always manipulated for the duration of the war.”\\nEven when casualty counts and other figures looked bad, the senior NSC official said, the White House and Pentagon would spin them to the point of absurdity. Suicide bombings in Kabul were portrayed as a sign of the Taliban’s desperation, that the insurgents were too weak to engage in direct combat. Meanwhile, a rise in U.S. troop deaths was cited as proof that American forces were taking the fight to the enemy.\\nThe remains of Army Maj. Gen. Harold J. Greene, 55, arrive at Dover Air Force Base in Delaware in August 2014. Greene was the first U.S. general killed in Iraq or Afghanistan. (Linda Davidson/The Washington Post)\\n“It was their explanations,” the senior NSC official said. “For example, attacks are getting worse? ‘That’s because there are more targets for them to fire at, so more attacks are a false indicator of instability.’ Then, three months later, attacks are still getting worse? ‘It’s because the Taliban are getting desperate, so it’s actually an indicator that we’re winning.’\\u2009”\\n“And this went on and on for two reasons'"
      ]
     },
     "execution_count": 200,
     "metadata": {},
     "output_type": "execute_result"
    }
   ],
   "source": [
    "prompt = \"Summarize the following:\\n\" + text # example prompt\n",
    "enc = encoder.encode(prompt)\n",
    "dec = encoder.decode(enc[:8192])"
   ]
  },
  {
   "cell_type": "markdown",
   "id": "131495e2-f989-47d8-b429-c324f5f42d9d",
   "metadata": {},
   "source": [
    "# Convert unindexed output summaries in jsonl to txt"
   ]
  },
  {
   "cell_type": "code",
   "execution_count": 10,
   "id": "9949fd57-7cd1-46cb-9c2a-f951c758001d",
   "metadata": {},
   "outputs": [],
   "source": [
    "summaries = []\n",
    "with open(\"summaries.jsonl\") as f:\n",
    "    for line in f:\n",
    "        summaries.append(json.loads(line))"
   ]
  },
  {
   "cell_type": "code",
   "execution_count": 21,
   "id": "1c143de9-dfe2-47e4-89f8-7d19dbbc4bf8",
   "metadata": {},
   "outputs": [],
   "source": [
    "def find_key_by_value(my_dict, search_value):\n",
    "    for key, value in my_dict.items():\n",
    "        if value == search_value:\n",
    "            return key\n",
    "    return None"
   ]
  },
  {
   "cell_type": "code",
   "execution_count": 166,
   "id": "a307ab54-a866-4c85-86d2-25bff808acc7",
   "metadata": {},
   "outputs": [],
   "source": [
    "for item in summaries:\n",
    "    name = find_key_by_value(articles, item[0][\"messages\"][0][\"content\"][25:])\n",
    "    with open(f\"Summaries/{name}.txt\", \"w+\") as f:\n",
    "        f.write(item[1][\"choices\"][0][\"message\"][\"content\"])"
   ]
  },
  {
   "cell_type": "markdown",
   "id": "feb1da93-d55c-453d-a1c5-3a8f582adeed",
   "metadata": {},
   "source": [
    "# Make dataset"
   ]
  },
  {
   "cell_type": "code",
   "execution_count": 83,
   "id": "7f31cb09-a0d0-4e79-bed4-0f4447b36676",
   "metadata": {},
   "outputs": [],
   "source": [
    "from collections import defaultdict"
   ]
  },
  {
   "cell_type": "code",
   "execution_count": 64,
   "id": "0f377d9e-37f3-44e6-9f31-5b54315219a8",
   "metadata": {},
   "outputs": [
    {
     "data": {
      "text/plain": [
       "True"
      ]
     },
     "execution_count": 64,
     "metadata": {},
     "output_type": "execute_result"
    }
   ],
   "source": [
    "summs.keys() == articles.keys()"
   ]
  },
  {
   "cell_type": "code",
   "execution_count": 65,
   "id": "797d8f6c-f660-4f60-b2f3-809dc3c26759",
   "metadata": {},
   "outputs": [],
   "source": [
    "biases = {\"left\", \"right\", \"center\"}"
   ]
  },
  {
   "cell_type": "code",
   "execution_count": 78,
   "id": "5d8c8d69-b155-4740-b299-5e76efda129b",
   "metadata": {},
   "outputs": [],
   "source": [
    "data = []\n",
    "for key, summ in summs.items():\n",
    "    topic_id, summ_bias = key.split('_')\n",
    "    for bias in biases:\n",
    "        article = articles.get(f\"{topic_id}_{bias}\")\n",
    "        if article:\n",
    "            data.append({\n",
    "                  \"id\": topic_id,\n",
    "                  \"article_bias\": bias,\n",
    "                  \"summary_bias\": summ_bias,\n",
    "                  \"article\": article,\n",
    "                  \"summary\": summ\n",
    "              })"
   ]
  },
  {
   "cell_type": "code",
   "execution_count": 79,
   "id": "a5ce3488-a9b0-4ac5-b000-49df2855dff8",
   "metadata": {
    "collapsed": true,
    "jupyter": {
     "outputs_hidden": true
    },
    "tags": []
   },
   "outputs": [
    {
     "data": {
      "text/plain": [
       "{'id': '93',\n",
       " 'article_bias': 'center',\n",
       " 'summary_bias': 'left',\n",
       " 'article': 'Lower-Key Ceremonies For This Year\\'s Sept. 11 Commemoration\\nHide caption Airline pilots Capt. Anthony Chapman (right) and Capt. Paul Evans salute with others as the U.S. flag is lowered to half staff at the 9/11 Flight Crew Memorial in Grapevine, Texas. Flight crews gathered at the memorial near Dallas-Fort Worth airport to remember the flight crews lost in the Sept. 11 attacks. Previous Next LM Otero/AP\\nHide caption Judy Parisio (right) and Linda Malbrba make a rubbing of their niece\\'s name, Frances Ann Cilente, who worked at the World Trade Center, during ceremonies marking the anniversary of the Sept. 11 attacks. Previous Next Chang W. Lee/Pool/Reuters/Landov\\nHide caption President Obama, first lady Michelle and members of the White House staff pause for a moment of silence to mark the anniversary on the South Lawn of the White House. Previous Next Carolyn Kaster/AP\\nHide caption New York City police bugler Gabe Perdomo warms up next to the South Pool at ground zero during Tuesday\\'s memorial ceremonies for the 11th anniversary of the Sept. 11 attacks. Previous Next Justin Lane/Pool/Getty Images\\nHide caption A U.S. soldier with the NATO-led International Security Assistance Force looks on during a Sept. 11 memorial ceremony Tuesday at Kaia airport in Kabul, Afghanistan. Previous Next Shah Marai/AFP/Getty Images\\nHide caption The Tribute in Light shines above the World Trade Center and the Statue of Liberty on Monday as seen from Bayonne, N.J. Tuesday marks the 11th anniversary of the attack that destroyed the twin towers. Previous Next Mark Lennihan/AP\\nHide caption Dominique Sanders walks Monday with her daughter Roux, 2, among flags flying at Pepperdine University in Malibu, Calif., in honor of the victims of the Sept. 11 attacks. One flag from the nationality of each person killed that day was erected at the school. Previous Next David McNew/AP\\nHide caption A woman looks at flowers at the Flight 93 National Memorial on Monday ahead of the anniversary of the Sept. 11 attacks in Shanksville, Pa. Previous Next Mandel Ngan/AFP/Getty Images 1 of 9 i View slideshow\\nUPDATE at 9:00 ET:\\nPresident Obama, First Lady Michelle Obama and White House staffers observed a moment of silence on the White House South Lawn to remember the nearly 3,000 people killed in terrorist attacks on Sept. 11, 2001.\\nAfter the silence, three bell tolls were struck and a bugler played taps.\\nHere\\'s our earlier post:\\nCeremonies to commemorate the nearly 3,000 people killed 11 years ago today in the worst-ever terrorist attacks on U.S. soil are decidedly lower key this time around.\\nAt the National September 11 Memorial plaza in New York, a moment of silence will be observed at 8:47 a.m. ET to mark the time when the first plane struck the north tower at the World Trade Center, but The Wall Street Journal notes: \"no elected official will speak. Family members will read the names of the dead, accompanied by music, on the 9/11 memorial plaza between the waterfalls now marking footprints of the two towers.\"\\nPresident Obama, the first lady and the White House staff will observe the moment of silence on the South Lawn. The president will later speak at the National 9/11 Pentagon Memorial and Vice President Joe Biden will attend a ceremony in Shanksville, Pa., where hijacked Flight 93 crashed.\\nThe Associated Press reports:\\n\"The neighborhood around ground zero seemed more normal than in previous years, with fewer police barricades and commuters rushing out of the subway.\"\\nLast year\\'s 10th anniversary saw the opening of the 9/11 Memorial. This year\\'s ceremonies were to include the unveiling of the 9/11 Museum, but the project has been held up by a dispute between New York Mayor Michael Bloomberg and Gov. Andrew Cuomo.\\nThe New York Times says: \"With work on the museum at a standstill for nearly a year, fundraising and donations have fallen, and exhibits are gathering dust in fabrication shops in Buffalo and Santa Fe, N.M., according to museum executives.\"\\nHowever, Cuomo on Monday announced that an agreement that paves the way for finishing the $700 million project \"as soon as practicable,\" according to the AP.\\nPolitics will take a pause. The president and Republican presidential nominee Mitt Romney will suspend their campaign for a day.\\nRomney will be in Reno, Nev., where he will speak to a conference of the National Guard Association of the United States.',\n",
       " 'summary': \"The 11th anniversary of the 9/11 terrorist attacks was marked with somber ceremonies across the US. President Obama and first lady Michelle Obama observed a moment of silence at the White House, laid a wreath at the Pentagon and visited Arlington National Cemetery. In Manhattan, families read out the names of the victims and traders at the New York Stock Exchange stood silent. Vice President Biden spoke at the crash site of United Airlines Flight 93 in Pennsylvania, while troops in Kabul, Afghanistan reflected on the event that started America's longest war.\\n\"}"
      ]
     },
     "metadata": {},
     "output_type": "display_data"
    },
    {
     "name": "stdout",
     "output_type": "stream",
     "text": [
      "\n"
     ]
    },
    {
     "data": {
      "text/plain": [
       "{'id': '93',\n",
       " 'article_bias': 'left',\n",
       " 'summary_bias': 'left',\n",
       " 'article': 'Nation marks 9/11 anniversary with somber ceremonies\\nAcross the country, Americans marked the 11th anniversary of the Sept. 11, 2001, terrorist attacks, tolling church bells, pausing in silence to reflect and mourning the loss of the nearly 3,000 people who died.\\nOn the White House South Lawn, President Obama and first lady Michelle Obama bowed their heads at 8:46 a.m., the moment the first plane struck the North Tower of the World Trade Center. They later laid a wreath at the Pentagon, where the third plane struck. A flag was draped over the building to mark the day.\\n“Eleven times we have marked another September 11th come and gone. Eleven times, we have paused in remembrance, in reflection, in unity and in purpose,” Obama said to families and military brass who gathered at the Pentagon, where 184 were killed. “This is never an easy day.”\\nAt Arlington National Cemetery, the Obamas visited the graves in Section 60, one of the sections where those killed in Afghanistan and Iraq are buried under white marble markers.\\nThey placed a “challenge coin” on a collective memorial to the victims of an Oct. 29, 2009, helicopter crash in Afghanistan.\\nAt a ceremony in Manhattan, where One World Trade Center is under construction, the families of victims read the names of loved ones killed in the attacks, and traders on the floor of the New York Stock Exchange stood silent.\\nIn Shanksville, Pa., where United Airlines Flight 93 crashed in an open field after being hijacked by four terrorists, Vice President Biden spoke of the sacred, hallowed ground, weaving in his own experience of loss to comfort the families of the 40 passengers and crew members who died there.\\n“For no matter how many anniversaries you experience, for at least an instant, the terror of that moment returns; the lingering echo of that phone call; that sense of total disbelief that envelops you, where you feel like you’re being sucked into a black hole in the middle of your chest,” said Biden, whose first wife and baby daughter were killed in a car accident 40 years ago. “My hope for you all is that as every year passes, the depth of your pain recedes and you find comfort, as I have, genuine comfort in recalling his smile, her laugh, their touch.”\\nThousands of miles away, in Kabul, troops prayed and reflected on the event that triggered America’s longest war.\\nIn Reno, Nev., where he delivered a speech on foreign policy, Republican presidential hopeful Mitt Romney shared his own memories from Sept. 11, 2001, when he was in Washington as the head of the Winter Olympic Games, meeting with members of Congress about security preparations for the Salt Lake City Games.\\nHe said he watched the second plane hit the World Trade Center on a small television on his desk. Later, he recalled, he left Washington and passed by the Pentagon just after he crossed the Potomac River.\\n“Cars had stopped where they were and people had gotten out, watching in horror,” Romney said. “I could smell burning fuel and concrete and steel. It was the smell of war, something I never imagined I would smell in America.”\\nRomney, who was criticized for his failure to mention U.S. troops or the war in Afghanistan in his nomination acceptance speech at the recent Republican National Convention in Tampa, said that he would help steer a century that began with terror, war and economic calamity onto the path of freedom, peace and prosperity.\\n“America must lead the free world, and the free world must lead the entire world,” Romney said. “In our dealings with other nations, we must demonstrate confidence in our cause, clarity in our purpose and resolve in the application of our military might.”\\nAlthough national security and foreign policy have taken a back seat to economic issues this election season, some conservatives were urging Romney to take a strong stance in the speech.\\nAccording to a Washington Post/ABC News poll, Obama has a clear advantage over Romney on foreign policy and national security. Four in 10 voters say the country is safer since Obama took office; only one in eight sees the country as less secure. And 51 percent of all voters polled said they trust Obama to handle terrorism; 40 percent said they trust Romney to do so.\\nOn the steps of the U.S. Capitol, lawmakers put aside partisan bickering and gathered in prayer, remembering the day that changed the country and took so many lives.\\n“Every generation has endured hard sacrifice to preserve the blessings of freedom. If we ever falter, it will be because we forget what we learned in hardship,” said House Speaker John A. Boehner (R-Ohio), fighting back tears. “Today we listen, and vow to never forget. To celebrate the greater good that comes from serving one another and standing shoulder-to-shoulder. And to carry on, come what may, to meet the unmet challenges and complete the unfinished work.”\\nAt Prince George’s Community College, faculty and students, of different countries and faiths, heeded the call to service.\\nAs she placed index cards written by students on the wall of remembrance, Paulette McIntosh, a native of Jamaica, reflected.\\n“For me, seeing people of all different faiths and backgrounds coming together for a day of service is encouraging.”\\nBoth presidential campaigns pulled their negative ads from television and radio out of respect for the day. Obama is expected to visit patients at Walter Reed National Military Medical Center later Tuesday.\\n“So as painful as this day is and always will be, it leaves us with a lesson that no single event can ever destroy who we are,” Obama said. “No act of terrorism can ever change what we stand for. Instead, we recommit ourselves to the values that we believe in, holding firmly, without wavering, to the hope that we confess.”\\nPhilip Rucker in Reno, Peyton Craighill in Washington and Hamil R. Harris in Maryland contributed to this report.',\n",
       " 'summary': \"The 11th anniversary of the 9/11 terrorist attacks was marked with somber ceremonies across the US. President Obama and first lady Michelle Obama observed a moment of silence at the White House, laid a wreath at the Pentagon and visited Arlington National Cemetery. In Manhattan, families read out the names of the victims and traders at the New York Stock Exchange stood silent. Vice President Biden spoke at the crash site of United Airlines Flight 93 in Pennsylvania, while troops in Kabul, Afghanistan reflected on the event that started America's longest war.\\n\"}"
      ]
     },
     "metadata": {},
     "output_type": "display_data"
    },
    {
     "name": "stdout",
     "output_type": "stream",
     "text": [
      "\n"
     ]
    },
    {
     "data": {
      "text/plain": [
       "{'id': '93',\n",
       " 'article_bias': 'right',\n",
       " 'summary_bias': 'left',\n",
       " 'article': '11th anniversary ceremony of 9/11 begins in N.Y.\\nNEW YORK - Americans paused again Tuesday to mark the 11th anniversary of the Sept. 11, 2001, terror attacks with familiar ceremony, but also a sense that it\\'s time to move forward after a decade of remembrance.\\nAs in past years, thousands gathered at the World Trade Center site in New York, the Pentagon and Shanksville, Pa., to read the names of nearly 3,000 victims killed in the worst terror attack in U.S. history. President Barack Obama was to attend the Pentagon memorial, and Vice President Joe Biden was to speak in Pennsylvania.\\nBut many felt that last year\\'s 10th anniversary was an emotional turning point for public mourning of the attacks. For the first time, elected officials weren\\'t speaking at the ceremony, which often allowed them a solemn turn in the spotlight, but raised questions about the public and private Sept. 11. Fewer families attended the ceremonies this year, and some cities canceled their remembrances altogether.\\n\"I feel much more relaxed\" this year, said Jane Pollicino, who came to ground zero Tuesday morning to remember her husband, who was killed at the trade center. \"After the ninth anniversary, that next day, you started building up to the 10th year. This feels a lot different, in that regard. It\\'s another anniversary that we can commemorate in a calmer way, without that 10-year pressure.\"\\nAs bagpipes played at the year-old Sept. 11 memorial in New York, family clutching balloons, flowers and photos of their loved ones bowed their heads in silence at 8:46 a.m., the moment that the first hijacked jetliner crashed into the trade center\\'s north tower, and again to mark the crashes into the second tower, the Pentagon and a Pennsylvania field.\\nPresident Barack Obama and first lady Michelle Obama observed the moment in a ceremony on the White House\\'s south lawn, and then laid a white floral wreath at the Pentagon, above a concrete slab that said \"Sept. 11, 2001 - 937 am.\"\\nVictims\\' families in New York began the solemn, familiar ritual of tearfully reading the names of nearly 3,000 killed, with personal messages to their lost loved ones.\\n\"Rick, can you hear your name as the roll is called again? On this sacred ground where your dust settled?\" said Richard Blood, whose son, Richard Middleton Blood, Jr., died in the trade center\\'s south tower. \"If only those who hear your name could know what a loving son and beautiful person you grew to be. I love you, son, and miss you terribly.\"\\nThousands had attended the ceremony in New York in previous years, including last year\\'s milestone 10th anniversary. About 1,000 gathered by Tuesday morning, making paper rubbings of their loved ones\\' names etched onto the Sept. 11 memorial.\\nCommuters rushed out of the subway and fewer police barricades were in place than in past years in the lower Manhattan neighborhood surrounding ground zero. More than 4 million people have visited the memorial in the past year, becoming more of a public space than a closed-off construction site. On Tuesday, much of downtown Manhattan bustled like a regular weekday, except for clusters of police and emergency vehicles on the borders of the site.\\nFamilies had a mixed reaction to the changing ceremony, which kept politicians away from the microphone in New York for the first time. Charles G. Wolf, whose wife, Katherine, was killed at the trade center, said: \"We\\'ve gone past that deep, collective public grief.\" But Pollicino said it\\'s important that politicians still attend the ceremony.\\n\"There\\'s something missing if they\\'re not here at all,\" she said. \"Now, all of a sudden, it\\'s \\'for the families.\\' This happened to our country - it didn\\'t happen only to me.\"\\nAnd Joe Torres, who put in 16-hour days in ground zero\\'s \"pit\" in the days after the attacks, cleaning up tons of debris, said another year has changed nothing for him.\\n\"The 11th year, for me, it\\'s the same as if it happened yesterday. It could be 50 years from now, and to me, it\\'ll be just as important as year one, or year five or year ten.\"\\nPolitical leaders still are welcome to attend the ground zero ceremony, and they are expected at the other commemorations, as well.\\nThe Obamas planned later to visit wounded soldiers at Walter Reed Army Medical Center. The U.S. terror attacks were followed by wars in Afghanistan and Iraq, where the U.S. military death toll years ago surpassed the 9/11 victim count. At least 1,987 U.S. troops have died in Afghanistan and 4,475 in Iraq, according to the Pentagon.\\nAllied military forces marked the anniversary at a short ceremony at NATO\\'s headquarters in Kabul, Afghanistan with a tribute to more than 3,000 foreign troops killed in the decade-long war.\\n\"Eleven years on from that day there should be no doubt that our dedication to this commitment, that commitment that was seared into our souls that day so long ago, remains strong and unshaken,\" said Marine Gen. John Allen, the top commander of U.S. and coalition troops.\\nScores gathered at the Flight 93 National Memorial in western Pennsylvania, where the fourth hijacked plane crashed into a Pennsylvania field. Biden and Secretary of the Interior Ken Salazar were to speak at the ceremony for the flight\\'s 40 victims.\\nOther ceremonies were held across the country - from New York\\'s Long Island, where hundreds wrote messages to their loved ones on a memorial, to Boston, where more than 200 people with ties to Massachusetts were remembered. But some cities scaled back - the suburb of Glen Rock, N.J., where 11 people were killed, did not hold a memorial this year for the first time. Past events often ran for several hours, with speeches, music and the laying of roses in front of a granite memorial built with remnants of trade center steel.\\n\"It was appropriate for this year - not that the losses will ever be forgotten,\" said Brad Jordan, chairman of a community group that helps victims\\' families. \"But we felt it was right to shift the balance a bit from the observance of loss to a commemoration of how the community came together to heal.\"\\nThe anniversary led to a brief pause in the presidential campaign as Obama and Republican challenger Mitt Romney pulled their negative ads and avoided campaign rallies. Romney shook hands with firefighters at Chicago\\'s O\\'Hare Airport and was flying to Nevada to address the National Guard, whose members deployed after the attacks. His running mate, Rep. Paul Ryan of Wisconsin, had no scheduled public events.\\nThe memorial foundation announced this summer that politicians wouldn\\'t be included this year, to separate politics from the ceremony. But others said keeping elected officials off the rostrum smacked of ... politics. And several said they were unwilling to let go.\\n\"Coming here, it\\'s like ripping off a Band-Aid,\" said Yasmin Leon, whose sister was killed at the trade center. \"You rip it off and the wound is opened again. But you keep coming back anyway.\"\\nAnd at ground zero, family members reading their loved ones\\' names said the passage of time did not change their grief.\\n\"Mark, they say time heals all wounds. It\\'s not true, Mark,\" said Joanne Hindy, whose nephew died in the north tower. \"There\\'s a void in all our lives because this that will never ever be filled or healed.\"\\n• Associated Press writers Verena Dobnik, Meghan Barr and Alex Katz in New York, Wayne Parry in Atlantic City, N.J., and Amir Shah in Afghanistan contributed to this report.',\n",
       " 'summary': \"The 11th anniversary of the 9/11 terrorist attacks was marked with somber ceremonies across the US. President Obama and first lady Michelle Obama observed a moment of silence at the White House, laid a wreath at the Pentagon and visited Arlington National Cemetery. In Manhattan, families read out the names of the victims and traders at the New York Stock Exchange stood silent. Vice President Biden spoke at the crash site of United Airlines Flight 93 in Pennsylvania, while troops in Kabul, Afghanistan reflected on the event that started America's longest war.\\n\"}"
      ]
     },
     "metadata": {},
     "output_type": "display_data"
    },
    {
     "name": "stdout",
     "output_type": "stream",
     "text": [
      "\n"
     ]
    },
    {
     "data": {
      "text/plain": [
       "{'id': '93',\n",
       " 'article_bias': 'center',\n",
       " 'summary_bias': 'center',\n",
       " 'article': 'Lower-Key Ceremonies For This Year\\'s Sept. 11 Commemoration\\nHide caption Airline pilots Capt. Anthony Chapman (right) and Capt. Paul Evans salute with others as the U.S. flag is lowered to half staff at the 9/11 Flight Crew Memorial in Grapevine, Texas. Flight crews gathered at the memorial near Dallas-Fort Worth airport to remember the flight crews lost in the Sept. 11 attacks. Previous Next LM Otero/AP\\nHide caption Judy Parisio (right) and Linda Malbrba make a rubbing of their niece\\'s name, Frances Ann Cilente, who worked at the World Trade Center, during ceremonies marking the anniversary of the Sept. 11 attacks. Previous Next Chang W. Lee/Pool/Reuters/Landov\\nHide caption President Obama, first lady Michelle and members of the White House staff pause for a moment of silence to mark the anniversary on the South Lawn of the White House. Previous Next Carolyn Kaster/AP\\nHide caption New York City police bugler Gabe Perdomo warms up next to the South Pool at ground zero during Tuesday\\'s memorial ceremonies for the 11th anniversary of the Sept. 11 attacks. Previous Next Justin Lane/Pool/Getty Images\\nHide caption A U.S. soldier with the NATO-led International Security Assistance Force looks on during a Sept. 11 memorial ceremony Tuesday at Kaia airport in Kabul, Afghanistan. Previous Next Shah Marai/AFP/Getty Images\\nHide caption The Tribute in Light shines above the World Trade Center and the Statue of Liberty on Monday as seen from Bayonne, N.J. Tuesday marks the 11th anniversary of the attack that destroyed the twin towers. Previous Next Mark Lennihan/AP\\nHide caption Dominique Sanders walks Monday with her daughter Roux, 2, among flags flying at Pepperdine University in Malibu, Calif., in honor of the victims of the Sept. 11 attacks. One flag from the nationality of each person killed that day was erected at the school. Previous Next David McNew/AP\\nHide caption A woman looks at flowers at the Flight 93 National Memorial on Monday ahead of the anniversary of the Sept. 11 attacks in Shanksville, Pa. Previous Next Mandel Ngan/AFP/Getty Images 1 of 9 i View slideshow\\nUPDATE at 9:00 ET:\\nPresident Obama, First Lady Michelle Obama and White House staffers observed a moment of silence on the White House South Lawn to remember the nearly 3,000 people killed in terrorist attacks on Sept. 11, 2001.\\nAfter the silence, three bell tolls were struck and a bugler played taps.\\nHere\\'s our earlier post:\\nCeremonies to commemorate the nearly 3,000 people killed 11 years ago today in the worst-ever terrorist attacks on U.S. soil are decidedly lower key this time around.\\nAt the National September 11 Memorial plaza in New York, a moment of silence will be observed at 8:47 a.m. ET to mark the time when the first plane struck the north tower at the World Trade Center, but The Wall Street Journal notes: \"no elected official will speak. Family members will read the names of the dead, accompanied by music, on the 9/11 memorial plaza between the waterfalls now marking footprints of the two towers.\"\\nPresident Obama, the first lady and the White House staff will observe the moment of silence on the South Lawn. The president will later speak at the National 9/11 Pentagon Memorial and Vice President Joe Biden will attend a ceremony in Shanksville, Pa., where hijacked Flight 93 crashed.\\nThe Associated Press reports:\\n\"The neighborhood around ground zero seemed more normal than in previous years, with fewer police barricades and commuters rushing out of the subway.\"\\nLast year\\'s 10th anniversary saw the opening of the 9/11 Memorial. This year\\'s ceremonies were to include the unveiling of the 9/11 Museum, but the project has been held up by a dispute between New York Mayor Michael Bloomberg and Gov. Andrew Cuomo.\\nThe New York Times says: \"With work on the museum at a standstill for nearly a year, fundraising and donations have fallen, and exhibits are gathering dust in fabrication shops in Buffalo and Santa Fe, N.M., according to museum executives.\"\\nHowever, Cuomo on Monday announced that an agreement that paves the way for finishing the $700 million project \"as soon as practicable,\" according to the AP.\\nPolitics will take a pause. The president and Republican presidential nominee Mitt Romney will suspend their campaign for a day.\\nRomney will be in Reno, Nev., where he will speak to a conference of the National Guard Association of the United States.',\n",
       " 'summary': 'The 2012 commemoration of the September 11 attacks observed a moment of silence on the south lawn of the White House with President Obama, First Lady Michelle Obama and other staff members. The ceremonies of each location were lower key compared to the previous years. The ceremony at the National September 11 Memorial Plaza held no speeches by elected officials but had family members read off the names of the deceased. During the day, the President spoke at the National 9/11 Pentagon Memorial and Vice President Joe Biden attended a ceremony in Shanksville, Pennsylvania where hijacked Flight 93 crashed. Both President Obama and Republican presidential nominee Mitt Romney suspended their campaign for the day.\\n'}"
      ]
     },
     "metadata": {},
     "output_type": "display_data"
    },
    {
     "name": "stdout",
     "output_type": "stream",
     "text": [
      "\n"
     ]
    },
    {
     "data": {
      "text/plain": [
       "{'id': '93',\n",
       " 'article_bias': 'left',\n",
       " 'summary_bias': 'center',\n",
       " 'article': 'Nation marks 9/11 anniversary with somber ceremonies\\nAcross the country, Americans marked the 11th anniversary of the Sept. 11, 2001, terrorist attacks, tolling church bells, pausing in silence to reflect and mourning the loss of the nearly 3,000 people who died.\\nOn the White House South Lawn, President Obama and first lady Michelle Obama bowed their heads at 8:46 a.m., the moment the first plane struck the North Tower of the World Trade Center. They later laid a wreath at the Pentagon, where the third plane struck. A flag was draped over the building to mark the day.\\n“Eleven times we have marked another September 11th come and gone. Eleven times, we have paused in remembrance, in reflection, in unity and in purpose,” Obama said to families and military brass who gathered at the Pentagon, where 184 were killed. “This is never an easy day.”\\nAt Arlington National Cemetery, the Obamas visited the graves in Section 60, one of the sections where those killed in Afghanistan and Iraq are buried under white marble markers.\\nThey placed a “challenge coin” on a collective memorial to the victims of an Oct. 29, 2009, helicopter crash in Afghanistan.\\nAt a ceremony in Manhattan, where One World Trade Center is under construction, the families of victims read the names of loved ones killed in the attacks, and traders on the floor of the New York Stock Exchange stood silent.\\nIn Shanksville, Pa., where United Airlines Flight 93 crashed in an open field after being hijacked by four terrorists, Vice President Biden spoke of the sacred, hallowed ground, weaving in his own experience of loss to comfort the families of the 40 passengers and crew members who died there.\\n“For no matter how many anniversaries you experience, for at least an instant, the terror of that moment returns; the lingering echo of that phone call; that sense of total disbelief that envelops you, where you feel like you’re being sucked into a black hole in the middle of your chest,” said Biden, whose first wife and baby daughter were killed in a car accident 40 years ago. “My hope for you all is that as every year passes, the depth of your pain recedes and you find comfort, as I have, genuine comfort in recalling his smile, her laugh, their touch.”\\nThousands of miles away, in Kabul, troops prayed and reflected on the event that triggered America’s longest war.\\nIn Reno, Nev., where he delivered a speech on foreign policy, Republican presidential hopeful Mitt Romney shared his own memories from Sept. 11, 2001, when he was in Washington as the head of the Winter Olympic Games, meeting with members of Congress about security preparations for the Salt Lake City Games.\\nHe said he watched the second plane hit the World Trade Center on a small television on his desk. Later, he recalled, he left Washington and passed by the Pentagon just after he crossed the Potomac River.\\n“Cars had stopped where they were and people had gotten out, watching in horror,” Romney said. “I could smell burning fuel and concrete and steel. It was the smell of war, something I never imagined I would smell in America.”\\nRomney, who was criticized for his failure to mention U.S. troops or the war in Afghanistan in his nomination acceptance speech at the recent Republican National Convention in Tampa, said that he would help steer a century that began with terror, war and economic calamity onto the path of freedom, peace and prosperity.\\n“America must lead the free world, and the free world must lead the entire world,” Romney said. “In our dealings with other nations, we must demonstrate confidence in our cause, clarity in our purpose and resolve in the application of our military might.”\\nAlthough national security and foreign policy have taken a back seat to economic issues this election season, some conservatives were urging Romney to take a strong stance in the speech.\\nAccording to a Washington Post/ABC News poll, Obama has a clear advantage over Romney on foreign policy and national security. Four in 10 voters say the country is safer since Obama took office; only one in eight sees the country as less secure. And 51 percent of all voters polled said they trust Obama to handle terrorism; 40 percent said they trust Romney to do so.\\nOn the steps of the U.S. Capitol, lawmakers put aside partisan bickering and gathered in prayer, remembering the day that changed the country and took so many lives.\\n“Every generation has endured hard sacrifice to preserve the blessings of freedom. If we ever falter, it will be because we forget what we learned in hardship,” said House Speaker John A. Boehner (R-Ohio), fighting back tears. “Today we listen, and vow to never forget. To celebrate the greater good that comes from serving one another and standing shoulder-to-shoulder. And to carry on, come what may, to meet the unmet challenges and complete the unfinished work.”\\nAt Prince George’s Community College, faculty and students, of different countries and faiths, heeded the call to service.\\nAs she placed index cards written by students on the wall of remembrance, Paulette McIntosh, a native of Jamaica, reflected.\\n“For me, seeing people of all different faiths and backgrounds coming together for a day of service is encouraging.”\\nBoth presidential campaigns pulled their negative ads from television and radio out of respect for the day. Obama is expected to visit patients at Walter Reed National Military Medical Center later Tuesday.\\n“So as painful as this day is and always will be, it leaves us with a lesson that no single event can ever destroy who we are,” Obama said. “No act of terrorism can ever change what we stand for. Instead, we recommit ourselves to the values that we believe in, holding firmly, without wavering, to the hope that we confess.”\\nPhilip Rucker in Reno, Peyton Craighill in Washington and Hamil R. Harris in Maryland contributed to this report.',\n",
       " 'summary': 'The 2012 commemoration of the September 11 attacks observed a moment of silence on the south lawn of the White House with President Obama, First Lady Michelle Obama and other staff members. The ceremonies of each location were lower key compared to the previous years. The ceremony at the National September 11 Memorial Plaza held no speeches by elected officials but had family members read off the names of the deceased. During the day, the President spoke at the National 9/11 Pentagon Memorial and Vice President Joe Biden attended a ceremony in Shanksville, Pennsylvania where hijacked Flight 93 crashed. Both President Obama and Republican presidential nominee Mitt Romney suspended their campaign for the day.\\n'}"
      ]
     },
     "metadata": {},
     "output_type": "display_data"
    },
    {
     "name": "stdout",
     "output_type": "stream",
     "text": [
      "\n"
     ]
    },
    {
     "data": {
      "text/plain": [
       "{'id': '93',\n",
       " 'article_bias': 'right',\n",
       " 'summary_bias': 'center',\n",
       " 'article': '11th anniversary ceremony of 9/11 begins in N.Y.\\nNEW YORK - Americans paused again Tuesday to mark the 11th anniversary of the Sept. 11, 2001, terror attacks with familiar ceremony, but also a sense that it\\'s time to move forward after a decade of remembrance.\\nAs in past years, thousands gathered at the World Trade Center site in New York, the Pentagon and Shanksville, Pa., to read the names of nearly 3,000 victims killed in the worst terror attack in U.S. history. President Barack Obama was to attend the Pentagon memorial, and Vice President Joe Biden was to speak in Pennsylvania.\\nBut many felt that last year\\'s 10th anniversary was an emotional turning point for public mourning of the attacks. For the first time, elected officials weren\\'t speaking at the ceremony, which often allowed them a solemn turn in the spotlight, but raised questions about the public and private Sept. 11. Fewer families attended the ceremonies this year, and some cities canceled their remembrances altogether.\\n\"I feel much more relaxed\" this year, said Jane Pollicino, who came to ground zero Tuesday morning to remember her husband, who was killed at the trade center. \"After the ninth anniversary, that next day, you started building up to the 10th year. This feels a lot different, in that regard. It\\'s another anniversary that we can commemorate in a calmer way, without that 10-year pressure.\"\\nAs bagpipes played at the year-old Sept. 11 memorial in New York, family clutching balloons, flowers and photos of their loved ones bowed their heads in silence at 8:46 a.m., the moment that the first hijacked jetliner crashed into the trade center\\'s north tower, and again to mark the crashes into the second tower, the Pentagon and a Pennsylvania field.\\nPresident Barack Obama and first lady Michelle Obama observed the moment in a ceremony on the White House\\'s south lawn, and then laid a white floral wreath at the Pentagon, above a concrete slab that said \"Sept. 11, 2001 - 937 am.\"\\nVictims\\' families in New York began the solemn, familiar ritual of tearfully reading the names of nearly 3,000 killed, with personal messages to their lost loved ones.\\n\"Rick, can you hear your name as the roll is called again? On this sacred ground where your dust settled?\" said Richard Blood, whose son, Richard Middleton Blood, Jr., died in the trade center\\'s south tower. \"If only those who hear your name could know what a loving son and beautiful person you grew to be. I love you, son, and miss you terribly.\"\\nThousands had attended the ceremony in New York in previous years, including last year\\'s milestone 10th anniversary. About 1,000 gathered by Tuesday morning, making paper rubbings of their loved ones\\' names etched onto the Sept. 11 memorial.\\nCommuters rushed out of the subway and fewer police barricades were in place than in past years in the lower Manhattan neighborhood surrounding ground zero. More than 4 million people have visited the memorial in the past year, becoming more of a public space than a closed-off construction site. On Tuesday, much of downtown Manhattan bustled like a regular weekday, except for clusters of police and emergency vehicles on the borders of the site.\\nFamilies had a mixed reaction to the changing ceremony, which kept politicians away from the microphone in New York for the first time. Charles G. Wolf, whose wife, Katherine, was killed at the trade center, said: \"We\\'ve gone past that deep, collective public grief.\" But Pollicino said it\\'s important that politicians still attend the ceremony.\\n\"There\\'s something missing if they\\'re not here at all,\" she said. \"Now, all of a sudden, it\\'s \\'for the families.\\' This happened to our country - it didn\\'t happen only to me.\"\\nAnd Joe Torres, who put in 16-hour days in ground zero\\'s \"pit\" in the days after the attacks, cleaning up tons of debris, said another year has changed nothing for him.\\n\"The 11th year, for me, it\\'s the same as if it happened yesterday. It could be 50 years from now, and to me, it\\'ll be just as important as year one, or year five or year ten.\"\\nPolitical leaders still are welcome to attend the ground zero ceremony, and they are expected at the other commemorations, as well.\\nThe Obamas planned later to visit wounded soldiers at Walter Reed Army Medical Center. The U.S. terror attacks were followed by wars in Afghanistan and Iraq, where the U.S. military death toll years ago surpassed the 9/11 victim count. At least 1,987 U.S. troops have died in Afghanistan and 4,475 in Iraq, according to the Pentagon.\\nAllied military forces marked the anniversary at a short ceremony at NATO\\'s headquarters in Kabul, Afghanistan with a tribute to more than 3,000 foreign troops killed in the decade-long war.\\n\"Eleven years on from that day there should be no doubt that our dedication to this commitment, that commitment that was seared into our souls that day so long ago, remains strong and unshaken,\" said Marine Gen. John Allen, the top commander of U.S. and coalition troops.\\nScores gathered at the Flight 93 National Memorial in western Pennsylvania, where the fourth hijacked plane crashed into a Pennsylvania field. Biden and Secretary of the Interior Ken Salazar were to speak at the ceremony for the flight\\'s 40 victims.\\nOther ceremonies were held across the country - from New York\\'s Long Island, where hundreds wrote messages to their loved ones on a memorial, to Boston, where more than 200 people with ties to Massachusetts were remembered. But some cities scaled back - the suburb of Glen Rock, N.J., where 11 people were killed, did not hold a memorial this year for the first time. Past events often ran for several hours, with speeches, music and the laying of roses in front of a granite memorial built with remnants of trade center steel.\\n\"It was appropriate for this year - not that the losses will ever be forgotten,\" said Brad Jordan, chairman of a community group that helps victims\\' families. \"But we felt it was right to shift the balance a bit from the observance of loss to a commemoration of how the community came together to heal.\"\\nThe anniversary led to a brief pause in the presidential campaign as Obama and Republican challenger Mitt Romney pulled their negative ads and avoided campaign rallies. Romney shook hands with firefighters at Chicago\\'s O\\'Hare Airport and was flying to Nevada to address the National Guard, whose members deployed after the attacks. His running mate, Rep. Paul Ryan of Wisconsin, had no scheduled public events.\\nThe memorial foundation announced this summer that politicians wouldn\\'t be included this year, to separate politics from the ceremony. But others said keeping elected officials off the rostrum smacked of ... politics. And several said they were unwilling to let go.\\n\"Coming here, it\\'s like ripping off a Band-Aid,\" said Yasmin Leon, whose sister was killed at the trade center. \"You rip it off and the wound is opened again. But you keep coming back anyway.\"\\nAnd at ground zero, family members reading their loved ones\\' names said the passage of time did not change their grief.\\n\"Mark, they say time heals all wounds. It\\'s not true, Mark,\" said Joanne Hindy, whose nephew died in the north tower. \"There\\'s a void in all our lives because this that will never ever be filled or healed.\"\\n• Associated Press writers Verena Dobnik, Meghan Barr and Alex Katz in New York, Wayne Parry in Atlantic City, N.J., and Amir Shah in Afghanistan contributed to this report.',\n",
       " 'summary': 'The 2012 commemoration of the September 11 attacks observed a moment of silence on the south lawn of the White House with President Obama, First Lady Michelle Obama and other staff members. The ceremonies of each location were lower key compared to the previous years. The ceremony at the National September 11 Memorial Plaza held no speeches by elected officials but had family members read off the names of the deceased. During the day, the President spoke at the National 9/11 Pentagon Memorial and Vice President Joe Biden attended a ceremony in Shanksville, Pennsylvania where hijacked Flight 93 crashed. Both President Obama and Republican presidential nominee Mitt Romney suspended their campaign for the day.\\n'}"
      ]
     },
     "metadata": {},
     "output_type": "display_data"
    },
    {
     "name": "stdout",
     "output_type": "stream",
     "text": [
      "\n"
     ]
    },
    {
     "data": {
      "text/plain": [
       "{'id': '93',\n",
       " 'article_bias': 'center',\n",
       " 'summary_bias': 'right',\n",
       " 'article': 'Lower-Key Ceremonies For This Year\\'s Sept. 11 Commemoration\\nHide caption Airline pilots Capt. Anthony Chapman (right) and Capt. Paul Evans salute with others as the U.S. flag is lowered to half staff at the 9/11 Flight Crew Memorial in Grapevine, Texas. Flight crews gathered at the memorial near Dallas-Fort Worth airport to remember the flight crews lost in the Sept. 11 attacks. Previous Next LM Otero/AP\\nHide caption Judy Parisio (right) and Linda Malbrba make a rubbing of their niece\\'s name, Frances Ann Cilente, who worked at the World Trade Center, during ceremonies marking the anniversary of the Sept. 11 attacks. Previous Next Chang W. Lee/Pool/Reuters/Landov\\nHide caption President Obama, first lady Michelle and members of the White House staff pause for a moment of silence to mark the anniversary on the South Lawn of the White House. Previous Next Carolyn Kaster/AP\\nHide caption New York City police bugler Gabe Perdomo warms up next to the South Pool at ground zero during Tuesday\\'s memorial ceremonies for the 11th anniversary of the Sept. 11 attacks. Previous Next Justin Lane/Pool/Getty Images\\nHide caption A U.S. soldier with the NATO-led International Security Assistance Force looks on during a Sept. 11 memorial ceremony Tuesday at Kaia airport in Kabul, Afghanistan. Previous Next Shah Marai/AFP/Getty Images\\nHide caption The Tribute in Light shines above the World Trade Center and the Statue of Liberty on Monday as seen from Bayonne, N.J. Tuesday marks the 11th anniversary of the attack that destroyed the twin towers. Previous Next Mark Lennihan/AP\\nHide caption Dominique Sanders walks Monday with her daughter Roux, 2, among flags flying at Pepperdine University in Malibu, Calif., in honor of the victims of the Sept. 11 attacks. One flag from the nationality of each person killed that day was erected at the school. Previous Next David McNew/AP\\nHide caption A woman looks at flowers at the Flight 93 National Memorial on Monday ahead of the anniversary of the Sept. 11 attacks in Shanksville, Pa. Previous Next Mandel Ngan/AFP/Getty Images 1 of 9 i View slideshow\\nUPDATE at 9:00 ET:\\nPresident Obama, First Lady Michelle Obama and White House staffers observed a moment of silence on the White House South Lawn to remember the nearly 3,000 people killed in terrorist attacks on Sept. 11, 2001.\\nAfter the silence, three bell tolls were struck and a bugler played taps.\\nHere\\'s our earlier post:\\nCeremonies to commemorate the nearly 3,000 people killed 11 years ago today in the worst-ever terrorist attacks on U.S. soil are decidedly lower key this time around.\\nAt the National September 11 Memorial plaza in New York, a moment of silence will be observed at 8:47 a.m. ET to mark the time when the first plane struck the north tower at the World Trade Center, but The Wall Street Journal notes: \"no elected official will speak. Family members will read the names of the dead, accompanied by music, on the 9/11 memorial plaza between the waterfalls now marking footprints of the two towers.\"\\nPresident Obama, the first lady and the White House staff will observe the moment of silence on the South Lawn. The president will later speak at the National 9/11 Pentagon Memorial and Vice President Joe Biden will attend a ceremony in Shanksville, Pa., where hijacked Flight 93 crashed.\\nThe Associated Press reports:\\n\"The neighborhood around ground zero seemed more normal than in previous years, with fewer police barricades and commuters rushing out of the subway.\"\\nLast year\\'s 10th anniversary saw the opening of the 9/11 Memorial. This year\\'s ceremonies were to include the unveiling of the 9/11 Museum, but the project has been held up by a dispute between New York Mayor Michael Bloomberg and Gov. Andrew Cuomo.\\nThe New York Times says: \"With work on the museum at a standstill for nearly a year, fundraising and donations have fallen, and exhibits are gathering dust in fabrication shops in Buffalo and Santa Fe, N.M., according to museum executives.\"\\nHowever, Cuomo on Monday announced that an agreement that paves the way for finishing the $700 million project \"as soon as practicable,\" according to the AP.\\nPolitics will take a pause. The president and Republican presidential nominee Mitt Romney will suspend their campaign for a day.\\nRomney will be in Reno, Nev., where he will speak to a conference of the National Guard Association of the United States.',\n",
       " 'summary': \"The 11th anniversary of the 9/11 terror attacks was marked with familiar ceremony in New York and across America. Thousands gathered at the World Trade Center site, the Pentagon, and Shanksville, PA, where the names of nearly 3,000 victims were read. Many believed the previous year's 10th anniversary was a turning point in public mourning, and this year saw less attendance at ceremonies and a few cancellations. Still, the memory of the attacks remained poignant for many. President Barack Obama attended the Pentagon memorial, Vice President Joe Biden spoke in Pennsylvania, and the Obamas later visited wounded soldiers. Families of victims in New York read names and personal messages to their lost loved ones.\\n\"}"
      ]
     },
     "metadata": {},
     "output_type": "display_data"
    },
    {
     "name": "stdout",
     "output_type": "stream",
     "text": [
      "\n"
     ]
    },
    {
     "data": {
      "text/plain": [
       "{'id': '93',\n",
       " 'article_bias': 'left',\n",
       " 'summary_bias': 'right',\n",
       " 'article': 'Nation marks 9/11 anniversary with somber ceremonies\\nAcross the country, Americans marked the 11th anniversary of the Sept. 11, 2001, terrorist attacks, tolling church bells, pausing in silence to reflect and mourning the loss of the nearly 3,000 people who died.\\nOn the White House South Lawn, President Obama and first lady Michelle Obama bowed their heads at 8:46 a.m., the moment the first plane struck the North Tower of the World Trade Center. They later laid a wreath at the Pentagon, where the third plane struck. A flag was draped over the building to mark the day.\\n“Eleven times we have marked another September 11th come and gone. Eleven times, we have paused in remembrance, in reflection, in unity and in purpose,” Obama said to families and military brass who gathered at the Pentagon, where 184 were killed. “This is never an easy day.”\\nAt Arlington National Cemetery, the Obamas visited the graves in Section 60, one of the sections where those killed in Afghanistan and Iraq are buried under white marble markers.\\nThey placed a “challenge coin” on a collective memorial to the victims of an Oct. 29, 2009, helicopter crash in Afghanistan.\\nAt a ceremony in Manhattan, where One World Trade Center is under construction, the families of victims read the names of loved ones killed in the attacks, and traders on the floor of the New York Stock Exchange stood silent.\\nIn Shanksville, Pa., where United Airlines Flight 93 crashed in an open field after being hijacked by four terrorists, Vice President Biden spoke of the sacred, hallowed ground, weaving in his own experience of loss to comfort the families of the 40 passengers and crew members who died there.\\n“For no matter how many anniversaries you experience, for at least an instant, the terror of that moment returns; the lingering echo of that phone call; that sense of total disbelief that envelops you, where you feel like you’re being sucked into a black hole in the middle of your chest,” said Biden, whose first wife and baby daughter were killed in a car accident 40 years ago. “My hope for you all is that as every year passes, the depth of your pain recedes and you find comfort, as I have, genuine comfort in recalling his smile, her laugh, their touch.”\\nThousands of miles away, in Kabul, troops prayed and reflected on the event that triggered America’s longest war.\\nIn Reno, Nev., where he delivered a speech on foreign policy, Republican presidential hopeful Mitt Romney shared his own memories from Sept. 11, 2001, when he was in Washington as the head of the Winter Olympic Games, meeting with members of Congress about security preparations for the Salt Lake City Games.\\nHe said he watched the second plane hit the World Trade Center on a small television on his desk. Later, he recalled, he left Washington and passed by the Pentagon just after he crossed the Potomac River.\\n“Cars had stopped where they were and people had gotten out, watching in horror,” Romney said. “I could smell burning fuel and concrete and steel. It was the smell of war, something I never imagined I would smell in America.”\\nRomney, who was criticized for his failure to mention U.S. troops or the war in Afghanistan in his nomination acceptance speech at the recent Republican National Convention in Tampa, said that he would help steer a century that began with terror, war and economic calamity onto the path of freedom, peace and prosperity.\\n“America must lead the free world, and the free world must lead the entire world,” Romney said. “In our dealings with other nations, we must demonstrate confidence in our cause, clarity in our purpose and resolve in the application of our military might.”\\nAlthough national security and foreign policy have taken a back seat to economic issues this election season, some conservatives were urging Romney to take a strong stance in the speech.\\nAccording to a Washington Post/ABC News poll, Obama has a clear advantage over Romney on foreign policy and national security. Four in 10 voters say the country is safer since Obama took office; only one in eight sees the country as less secure. And 51 percent of all voters polled said they trust Obama to handle terrorism; 40 percent said they trust Romney to do so.\\nOn the steps of the U.S. Capitol, lawmakers put aside partisan bickering and gathered in prayer, remembering the day that changed the country and took so many lives.\\n“Every generation has endured hard sacrifice to preserve the blessings of freedom. If we ever falter, it will be because we forget what we learned in hardship,” said House Speaker John A. Boehner (R-Ohio), fighting back tears. “Today we listen, and vow to never forget. To celebrate the greater good that comes from serving one another and standing shoulder-to-shoulder. And to carry on, come what may, to meet the unmet challenges and complete the unfinished work.”\\nAt Prince George’s Community College, faculty and students, of different countries and faiths, heeded the call to service.\\nAs she placed index cards written by students on the wall of remembrance, Paulette McIntosh, a native of Jamaica, reflected.\\n“For me, seeing people of all different faiths and backgrounds coming together for a day of service is encouraging.”\\nBoth presidential campaigns pulled their negative ads from television and radio out of respect for the day. Obama is expected to visit patients at Walter Reed National Military Medical Center later Tuesday.\\n“So as painful as this day is and always will be, it leaves us with a lesson that no single event can ever destroy who we are,” Obama said. “No act of terrorism can ever change what we stand for. Instead, we recommit ourselves to the values that we believe in, holding firmly, without wavering, to the hope that we confess.”\\nPhilip Rucker in Reno, Peyton Craighill in Washington and Hamil R. Harris in Maryland contributed to this report.',\n",
       " 'summary': \"The 11th anniversary of the 9/11 terror attacks was marked with familiar ceremony in New York and across America. Thousands gathered at the World Trade Center site, the Pentagon, and Shanksville, PA, where the names of nearly 3,000 victims were read. Many believed the previous year's 10th anniversary was a turning point in public mourning, and this year saw less attendance at ceremonies and a few cancellations. Still, the memory of the attacks remained poignant for many. President Barack Obama attended the Pentagon memorial, Vice President Joe Biden spoke in Pennsylvania, and the Obamas later visited wounded soldiers. Families of victims in New York read names and personal messages to their lost loved ones.\\n\"}"
      ]
     },
     "metadata": {},
     "output_type": "display_data"
    },
    {
     "name": "stdout",
     "output_type": "stream",
     "text": [
      "\n"
     ]
    },
    {
     "data": {
      "text/plain": [
       "{'id': '93',\n",
       " 'article_bias': 'right',\n",
       " 'summary_bias': 'right',\n",
       " 'article': '11th anniversary ceremony of 9/11 begins in N.Y.\\nNEW YORK - Americans paused again Tuesday to mark the 11th anniversary of the Sept. 11, 2001, terror attacks with familiar ceremony, but also a sense that it\\'s time to move forward after a decade of remembrance.\\nAs in past years, thousands gathered at the World Trade Center site in New York, the Pentagon and Shanksville, Pa., to read the names of nearly 3,000 victims killed in the worst terror attack in U.S. history. President Barack Obama was to attend the Pentagon memorial, and Vice President Joe Biden was to speak in Pennsylvania.\\nBut many felt that last year\\'s 10th anniversary was an emotional turning point for public mourning of the attacks. For the first time, elected officials weren\\'t speaking at the ceremony, which often allowed them a solemn turn in the spotlight, but raised questions about the public and private Sept. 11. Fewer families attended the ceremonies this year, and some cities canceled their remembrances altogether.\\n\"I feel much more relaxed\" this year, said Jane Pollicino, who came to ground zero Tuesday morning to remember her husband, who was killed at the trade center. \"After the ninth anniversary, that next day, you started building up to the 10th year. This feels a lot different, in that regard. It\\'s another anniversary that we can commemorate in a calmer way, without that 10-year pressure.\"\\nAs bagpipes played at the year-old Sept. 11 memorial in New York, family clutching balloons, flowers and photos of their loved ones bowed their heads in silence at 8:46 a.m., the moment that the first hijacked jetliner crashed into the trade center\\'s north tower, and again to mark the crashes into the second tower, the Pentagon and a Pennsylvania field.\\nPresident Barack Obama and first lady Michelle Obama observed the moment in a ceremony on the White House\\'s south lawn, and then laid a white floral wreath at the Pentagon, above a concrete slab that said \"Sept. 11, 2001 - 937 am.\"\\nVictims\\' families in New York began the solemn, familiar ritual of tearfully reading the names of nearly 3,000 killed, with personal messages to their lost loved ones.\\n\"Rick, can you hear your name as the roll is called again? On this sacred ground where your dust settled?\" said Richard Blood, whose son, Richard Middleton Blood, Jr., died in the trade center\\'s south tower. \"If only those who hear your name could know what a loving son and beautiful person you grew to be. I love you, son, and miss you terribly.\"\\nThousands had attended the ceremony in New York in previous years, including last year\\'s milestone 10th anniversary. About 1,000 gathered by Tuesday morning, making paper rubbings of their loved ones\\' names etched onto the Sept. 11 memorial.\\nCommuters rushed out of the subway and fewer police barricades were in place than in past years in the lower Manhattan neighborhood surrounding ground zero. More than 4 million people have visited the memorial in the past year, becoming more of a public space than a closed-off construction site. On Tuesday, much of downtown Manhattan bustled like a regular weekday, except for clusters of police and emergency vehicles on the borders of the site.\\nFamilies had a mixed reaction to the changing ceremony, which kept politicians away from the microphone in New York for the first time. Charles G. Wolf, whose wife, Katherine, was killed at the trade center, said: \"We\\'ve gone past that deep, collective public grief.\" But Pollicino said it\\'s important that politicians still attend the ceremony.\\n\"There\\'s something missing if they\\'re not here at all,\" she said. \"Now, all of a sudden, it\\'s \\'for the families.\\' This happened to our country - it didn\\'t happen only to me.\"\\nAnd Joe Torres, who put in 16-hour days in ground zero\\'s \"pit\" in the days after the attacks, cleaning up tons of debris, said another year has changed nothing for him.\\n\"The 11th year, for me, it\\'s the same as if it happened yesterday. It could be 50 years from now, and to me, it\\'ll be just as important as year one, or year five or year ten.\"\\nPolitical leaders still are welcome to attend the ground zero ceremony, and they are expected at the other commemorations, as well.\\nThe Obamas planned later to visit wounded soldiers at Walter Reed Army Medical Center. The U.S. terror attacks were followed by wars in Afghanistan and Iraq, where the U.S. military death toll years ago surpassed the 9/11 victim count. At least 1,987 U.S. troops have died in Afghanistan and 4,475 in Iraq, according to the Pentagon.\\nAllied military forces marked the anniversary at a short ceremony at NATO\\'s headquarters in Kabul, Afghanistan with a tribute to more than 3,000 foreign troops killed in the decade-long war.\\n\"Eleven years on from that day there should be no doubt that our dedication to this commitment, that commitment that was seared into our souls that day so long ago, remains strong and unshaken,\" said Marine Gen. John Allen, the top commander of U.S. and coalition troops.\\nScores gathered at the Flight 93 National Memorial in western Pennsylvania, where the fourth hijacked plane crashed into a Pennsylvania field. Biden and Secretary of the Interior Ken Salazar were to speak at the ceremony for the flight\\'s 40 victims.\\nOther ceremonies were held across the country - from New York\\'s Long Island, where hundreds wrote messages to their loved ones on a memorial, to Boston, where more than 200 people with ties to Massachusetts were remembered. But some cities scaled back - the suburb of Glen Rock, N.J., where 11 people were killed, did not hold a memorial this year for the first time. Past events often ran for several hours, with speeches, music and the laying of roses in front of a granite memorial built with remnants of trade center steel.\\n\"It was appropriate for this year - not that the losses will ever be forgotten,\" said Brad Jordan, chairman of a community group that helps victims\\' families. \"But we felt it was right to shift the balance a bit from the observance of loss to a commemoration of how the community came together to heal.\"\\nThe anniversary led to a brief pause in the presidential campaign as Obama and Republican challenger Mitt Romney pulled their negative ads and avoided campaign rallies. Romney shook hands with firefighters at Chicago\\'s O\\'Hare Airport and was flying to Nevada to address the National Guard, whose members deployed after the attacks. His running mate, Rep. Paul Ryan of Wisconsin, had no scheduled public events.\\nThe memorial foundation announced this summer that politicians wouldn\\'t be included this year, to separate politics from the ceremony. But others said keeping elected officials off the rostrum smacked of ... politics. And several said they were unwilling to let go.\\n\"Coming here, it\\'s like ripping off a Band-Aid,\" said Yasmin Leon, whose sister was killed at the trade center. \"You rip it off and the wound is opened again. But you keep coming back anyway.\"\\nAnd at ground zero, family members reading their loved ones\\' names said the passage of time did not change their grief.\\n\"Mark, they say time heals all wounds. It\\'s not true, Mark,\" said Joanne Hindy, whose nephew died in the north tower. \"There\\'s a void in all our lives because this that will never ever be filled or healed.\"\\n• Associated Press writers Verena Dobnik, Meghan Barr and Alex Katz in New York, Wayne Parry in Atlantic City, N.J., and Amir Shah in Afghanistan contributed to this report.',\n",
       " 'summary': \"The 11th anniversary of the 9/11 terror attacks was marked with familiar ceremony in New York and across America. Thousands gathered at the World Trade Center site, the Pentagon, and Shanksville, PA, where the names of nearly 3,000 victims were read. Many believed the previous year's 10th anniversary was a turning point in public mourning, and this year saw less attendance at ceremonies and a few cancellations. Still, the memory of the attacks remained poignant for many. President Barack Obama attended the Pentagon memorial, Vice President Joe Biden spoke in Pennsylvania, and the Obamas later visited wounded soldiers. Families of victims in New York read names and personal messages to their lost loved ones.\\n\"}"
      ]
     },
     "metadata": {},
     "output_type": "display_data"
    },
    {
     "name": "stdout",
     "output_type": "stream",
     "text": [
      "\n"
     ]
    }
   ],
   "source": [
    "for d in data:\n",
    "    if d['id'] == '93':\n",
    "        display(d)\n",
    "        print()"
   ]
  },
  {
   "cell_type": "code",
   "execution_count": 80,
   "id": "19d20a9f-01b5-4fc4-85f5-0a31c023a3e4",
   "metadata": {},
   "outputs": [
    {
     "data": {
      "text/plain": [
       "5808"
      ]
     },
     "execution_count": 80,
     "metadata": {},
     "output_type": "execute_result"
    }
   ],
   "source": [
    "len(data)"
   ]
  },
  {
   "cell_type": "code",
   "execution_count": 81,
   "id": "5b4800a2-4548-429e-abd0-d0fcf1a2d177",
   "metadata": {},
   "outputs": [],
   "source": [
    "with open(\"data_final.json\", \"w+\") as f:\n",
    "    json.dump(data, f)"
   ]
  },
  {
   "cell_type": "markdown",
   "id": "fc62c6fe-8a41-4d6e-b8a1-f326b81cce92",
   "metadata": {},
   "source": [
    "## train/val/test split based on topic id"
   ]
  },
  {
   "cell_type": "code",
   "execution_count": 82,
   "id": "90883b34-6072-4513-8da4-418de36c4205",
   "metadata": {},
   "outputs": [],
   "source": [
    "import json"
   ]
  },
  {
   "cell_type": "code",
   "execution_count": 83,
   "id": "af710209-aefb-41da-8bc7-75f8823e9f64",
   "metadata": {},
   "outputs": [],
   "source": [
    "from sklearn.model_selection import train_test_split"
   ]
  },
  {
   "cell_type": "code",
   "execution_count": 84,
   "id": "9d60d1b4-9b3c-486f-b3d8-2593f27abbe2",
   "metadata": {},
   "outputs": [],
   "source": [
    "with open(\"data_final.json\") as f:\n",
    "    data = json.load(f)"
   ]
  },
  {
   "cell_type": "code",
   "execution_count": 86,
   "id": "f8ab3c21-9ec6-4c38-93a0-11c681096124",
   "metadata": {},
   "outputs": [],
   "source": [
    "# split based on topic ids\n",
    "topic_ids = set()\n",
    "for key, summ in summs.items():\n",
    "    topic_id, summ_bias = key.split('_')\n",
    "    topic_ids.add(topic_id)"
   ]
  },
  {
   "cell_type": "code",
   "execution_count": 87,
   "id": "1fc8a453-462d-4749-8319-06a54672534b",
   "metadata": {},
   "outputs": [
    {
     "data": {
      "text/plain": [
       "846"
      ]
     },
     "execution_count": 87,
     "metadata": {},
     "output_type": "execute_result"
    }
   ],
   "source": [
    "len(topic_ids)"
   ]
  },
  {
   "cell_type": "code",
   "execution_count": 112,
   "id": "9f4d2421-f1d2-4197-b1dd-be15dd955bca",
   "metadata": {},
   "outputs": [],
   "source": [
    "tids_train, tids_test = train_test_split(topic_ids, test_size=0.1, random_state=42)"
   ]
  },
  {
   "cell_type": "code",
   "execution_count": 113,
   "id": "cc295648-a062-4119-b73e-67c06f848e96",
   "metadata": {},
   "outputs": [],
   "source": [
    "tids_train, tids_val = train_test_split(tids_train, test_size=0.1, random_state=42)"
   ]
  },
  {
   "cell_type": "code",
   "execution_count": 114,
   "id": "257c2805-2715-43a6-b2c4-49905f25a7c2",
   "metadata": {},
   "outputs": [
    {
     "data": {
      "text/plain": [
       "(684, 77, 85)"
      ]
     },
     "execution_count": 114,
     "metadata": {},
     "output_type": "execute_result"
    }
   ],
   "source": [
    "len(tids_train), len(tids_val), len(tids_test)"
   ]
  },
  {
   "cell_type": "code",
   "execution_count": 116,
   "id": "ca00d9ba-b898-4d35-afd9-22015d84c773",
   "metadata": {},
   "outputs": [],
   "source": [
    "train, val, test = [], [], []\n",
    "for d in data:\n",
    "    if d['id'] in tids_train:\n",
    "        train.append(d)\n",
    "    elif d['id'] in tids_val:\n",
    "        val.append(d)\n",
    "    else:\n",
    "        test.append(d)"
   ]
  },
  {
   "cell_type": "code",
   "execution_count": 117,
   "id": "2b7f45c1-fdb6-4ae5-95ad-50f4cc9a3e24",
   "metadata": {},
   "outputs": [
    {
     "data": {
      "text/plain": [
       "(4664, 542, 602)"
      ]
     },
     "execution_count": 117,
     "metadata": {},
     "output_type": "execute_result"
    }
   ],
   "source": [
    "len(train), len(val), len(test)"
   ]
  },
  {
   "cell_type": "code",
   "execution_count": 119,
   "id": "1e9f0ba0-9732-4e76-b70e-b02c628d159f",
   "metadata": {},
   "outputs": [],
   "source": [
    "with open(\"train.json\", \"w+\") as f:\n",
    "    json.dump(train, f)"
   ]
  },
  {
   "cell_type": "code",
   "execution_count": 120,
   "id": "322093c2-569f-4cd9-b1a8-1ddb86a6d922",
   "metadata": {},
   "outputs": [],
   "source": [
    "with open(\"val.json\", \"w+\") as f:\n",
    "    json.dump(val, f)"
   ]
  },
  {
   "cell_type": "code",
   "execution_count": 121,
   "id": "72bad14f-7780-4122-8630-165cbae8a31e",
   "metadata": {},
   "outputs": [],
   "source": [
    "with open(\"test.json\", \"w+\") as f:\n",
    "    json.dump(test, f)"
   ]
  },
  {
   "cell_type": "markdown",
   "id": "59f962b9",
   "metadata": {},
   "source": [
    "## make hf dataset"
   ]
  },
  {
   "cell_type": "code",
   "execution_count": 4,
   "id": "fab3b845-609f-4436-aca3-edcb9b38a057",
   "metadata": {},
   "outputs": [],
   "source": [
    "from datasets import load_dataset, DatasetDict, load_from_disk"
   ]
  },
  {
   "cell_type": "code",
   "execution_count": 123,
   "id": "604e1405-f5aa-4f5f-a7ef-fdf3421adafd",
   "metadata": {},
   "outputs": [
    {
     "name": "stderr",
     "output_type": "stream",
     "text": [
      "Downloading data files: 100%|████████████████████████████████████████████████████████| 3/3 [00:00<00:00, 17142.93it/s]\n",
      "Extracting data files: 100%|███████████████████████████████████████████████████████████| 3/3 [00:00<00:00, 706.71it/s]\n",
      "Generating train split: 4664 examples [00:00, 15201.35 examples/s]\n",
      "Generating validation split: 542 examples [00:00, 24784.81 examples/s]\n",
      "Generating test split: 602 examples [00:00, 26205.97 examples/s]\n"
     ]
    }
   ],
   "source": [
    "dataset = load_dataset(\"json\", data_files={\n",
    "    \"train\": \"train.json\", \"validation\": \"val.json\", \"test\": \"test.json\"\n",
    "})"
   ]
  },
  {
   "cell_type": "code",
   "execution_count": 124,
   "id": "606fb34a-cd3b-459e-b824-b5f5cf2ddb57",
   "metadata": {},
   "outputs": [
    {
     "data": {
      "text/plain": [
       "DatasetDict({\n",
       "    train: Dataset({\n",
       "        features: ['summary', 'article', 'article_bias', 'id', 'summary_bias'],\n",
       "        num_rows: 4664\n",
       "    })\n",
       "    validation: Dataset({\n",
       "        features: ['summary', 'article', 'article_bias', 'id', 'summary_bias'],\n",
       "        num_rows: 542\n",
       "    })\n",
       "    test: Dataset({\n",
       "        features: ['summary', 'article', 'article_bias', 'id', 'summary_bias'],\n",
       "        num_rows: 602\n",
       "    })\n",
       "})"
      ]
     },
     "execution_count": 124,
     "metadata": {},
     "output_type": "execute_result"
    }
   ],
   "source": [
    "dataset"
   ]
  },
  {
   "cell_type": "code",
   "execution_count": 125,
   "id": "a6dc3bb5-238c-4706-a21a-7a4c1993f5cc",
   "metadata": {},
   "outputs": [
    {
     "name": "stderr",
     "output_type": "stream",
     "text": [
      "Saving the dataset (1/1 shards): 100%|██████████████████████████████████| 4664/4664 [00:00<00:00, 56738.31 examples/s]\n",
      "Saving the dataset (1/1 shards): 100%|████████████████████████████████████| 542/542 [00:00<00:00, 45971.02 examples/s]\n",
      "Saving the dataset (1/1 shards): 100%|████████████████████████████████████| 602/602 [00:00<00:00, 63271.38 examples/s]\n"
     ]
    }
   ],
   "source": [
    "dataset.save_to_disk(\"hf_dataset\")"
   ]
  },
  {
   "cell_type": "markdown",
   "id": "303c2bb6-0516-4d0e-806c-6f7fd2c45bd1",
   "metadata": {},
   "source": [
    "# Make gpt-4/3.5 test prompts"
   ]
  },
  {
   "cell_type": "code",
   "execution_count": 5,
   "id": "52f999c3-b096-4a42-b73b-ef2e8318403d",
   "metadata": {},
   "outputs": [],
   "source": [
    "dataset = load_from_disk(\"hf_dataset\")"
   ]
  },
  {
   "cell_type": "code",
   "execution_count": 6,
   "id": "0093dd54-9563-41de-ab61-9298a4241d0e",
   "metadata": {},
   "outputs": [
    {
     "data": {
      "text/plain": [
       "DatasetDict({\n",
       "    train: Dataset({\n",
       "        features: ['summary', 'article', 'article_bias', 'id', 'summary_bias'],\n",
       "        num_rows: 4664\n",
       "    })\n",
       "    validation: Dataset({\n",
       "        features: ['summary', 'article', 'article_bias', 'id', 'summary_bias'],\n",
       "        num_rows: 542\n",
       "    })\n",
       "    test: Dataset({\n",
       "        features: ['summary', 'article', 'article_bias', 'id', 'summary_bias'],\n",
       "        num_rows: 602\n",
       "    })\n",
       "})"
      ]
     },
     "execution_count": 6,
     "metadata": {},
     "output_type": "execute_result"
    }
   ],
   "source": [
    "dataset"
   ]
  },
  {
   "cell_type": "code",
   "execution_count": null,
   "id": "426c7f2b-24a7-4c6a-85d5-b50341dfe3bc",
   "metadata": {},
   "outputs": [],
   "source": [
    "toobig = []\n",
    "with open(\"gpt-3.5-test-prompts.jsonl\", \"w+\") as f:\n",
    "    for item in dataset[\"test\"]:\n",
    "        prompt = f\"Summarize from the perspective of the political {item['summary_bias']}:\\n{item['article']}\"\n",
    "        # if len(encoder.encode(prompt)) > 8192:\n",
    "        #     print(f\"{item['id']}_{item['article_bias']}, summ_bias={item['summary_bias']}\")\n",
    "        #     toobig.append(item)\n",
    "        #     continue\n",
    "        d = dict(model=\"gpt-3.5-turbo-1106\", messages=[{\"role\": \"user\", \"content\": prompt}], metadata=item)\n",
    "        json_record = json.dumps(d)\n",
    "        f.write(json_record + '\\n')"
   ]
  },
  {
   "cell_type": "code",
   "execution_count": 11,
   "id": "dc8f93f2-846e-4322-a072-480d03d5cae9",
   "metadata": {},
   "outputs": [],
   "source": [
    "with open(\"gpt-3.5-test-prompts.jsonl\", \"w+\") as f:\n",
    "    for item in dataset[\"test\"]:\n",
    "        prompt = f\"Summarize from the perspective of the political {item['summary_bias']}:\\n{item['article']}\"\n",
    "        if len(encoder.encode(prompt)) > 16385:\n",
    "            print(f\"{item['id']}_{item['article_bias']}\")\n",
    "            continue\n",
    "        d = dict(model=\"gpt-3.5-turbo-1106\", messages=[{\"role\": \"user\", \"content\": prompt}], metadata=item)\n",
    "        json_record = json.dumps(d)\n",
    "        f.write(json_record + '\\n')"
   ]
  },
  {
   "cell_type": "code",
   "execution_count": 12,
   "id": "9fa346af-f1a3-409f-bc2a-89fdb4388633",
   "metadata": {},
   "outputs": [],
   "source": [
    "with open(\"gpt-4-test-prompts.jsonl\", \"w+\") as f:\n",
    "    for item in dataset[\"test\"]:\n",
    "        prompt = f\"Summarize from the perspective of the political {item['summary_bias']}:\\n{item['article']}\"\n",
    "        # if len(encoder.encode(prompt)) > 16385:\n",
    "        #     print(f\"{item['id']}_{item['article_bias']}\")\n",
    "        #     continue\n",
    "        d = dict(model=\"gpt-4-1106-preview\", messages=[{\"role\": \"user\", \"content\": prompt}], metadata=item)\n",
    "        json_record = json.dumps(d)\n",
    "        f.write(json_record + '\\n')"
   ]
  },
  {
   "cell_type": "code",
   "execution_count": null,
   "id": "5033af9c-8ab6-4c68-8dc1-0f0428d01518",
   "metadata": {},
   "outputs": [],
   "source": []
  }
 ],
 "metadata": {
  "kernelspec": {
   "display_name": "instructsum",
   "language": "python",
   "name": "instructsum"
  },
  "language_info": {
   "codemirror_mode": {
    "name": "ipython",
    "version": 3
   },
   "file_extension": ".py",
   "mimetype": "text/x-python",
   "name": "python",
   "nbconvert_exporter": "python",
   "pygments_lexer": "ipython3",
   "version": "3.11.5"
  }
 },
 "nbformat": 4,
 "nbformat_minor": 5
}
