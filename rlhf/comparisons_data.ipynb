{
 "cells": [
  {
   "cell_type": "code",
   "execution_count": 2,
   "metadata": {},
   "outputs": [],
   "source": [
    "import json\n",
    "from transformers import AutoTokenizer, AutoModelForSeq2SeqLM, GenerationConfig\n",
    "from datasets import load_from_disk, concatenate_datasets\n",
    "from tqdm.auto import tqdm\n",
    "import torch"
   ]
  },
  {
   "cell_type": "code",
   "execution_count": 123,
   "metadata": {},
   "outputs": [],
   "source": [
    "max_input = 1024\n",
    "max_target = 256\n",
    "model_checkpoint = \"../models/BART-SFT-r1/checkpoint-4200/\""
   ]
  },
  {
   "cell_type": "code",
   "execution_count": 124,
   "metadata": {},
   "outputs": [],
   "source": [
    "tokenizer = AutoTokenizer.from_pretrained(model_checkpoint)"
   ]
  },
  {
   "cell_type": "code",
   "execution_count": 4,
   "metadata": {},
   "outputs": [
    {
     "data": {
      "text/plain": [
       "BartForConditionalGeneration(\n",
       "  (model): BartModel(\n",
       "    (shared): Embedding(50264, 1024, padding_idx=1)\n",
       "    (encoder): BartEncoder(\n",
       "      (embed_tokens): Embedding(50264, 1024, padding_idx=1)\n",
       "      (embed_positions): BartLearnedPositionalEmbedding(1026, 1024)\n",
       "      (layers): ModuleList(\n",
       "        (0-11): 12 x BartEncoderLayer(\n",
       "          (self_attn): BartAttention(\n",
       "            (k_proj): Linear(in_features=1024, out_features=1024, bias=True)\n",
       "            (v_proj): Linear(in_features=1024, out_features=1024, bias=True)\n",
       "            (q_proj): Linear(in_features=1024, out_features=1024, bias=True)\n",
       "            (out_proj): Linear(in_features=1024, out_features=1024, bias=True)\n",
       "          )\n",
       "          (self_attn_layer_norm): LayerNorm((1024,), eps=1e-05, elementwise_affine=True)\n",
       "          (activation_fn): GELUActivation()\n",
       "          (fc1): Linear(in_features=1024, out_features=4096, bias=True)\n",
       "          (fc2): Linear(in_features=4096, out_features=1024, bias=True)\n",
       "          (final_layer_norm): LayerNorm((1024,), eps=1e-05, elementwise_affine=True)\n",
       "        )\n",
       "      )\n",
       "      (layernorm_embedding): LayerNorm((1024,), eps=1e-05, elementwise_affine=True)\n",
       "    )\n",
       "    (decoder): BartDecoder(\n",
       "      (embed_tokens): Embedding(50264, 1024, padding_idx=1)\n",
       "      (embed_positions): BartLearnedPositionalEmbedding(1026, 1024)\n",
       "      (layers): ModuleList(\n",
       "        (0-11): 12 x BartDecoderLayer(\n",
       "          (self_attn): BartAttention(\n",
       "            (k_proj): Linear(in_features=1024, out_features=1024, bias=True)\n",
       "            (v_proj): Linear(in_features=1024, out_features=1024, bias=True)\n",
       "            (q_proj): Linear(in_features=1024, out_features=1024, bias=True)\n",
       "            (out_proj): Linear(in_features=1024, out_features=1024, bias=True)\n",
       "          )\n",
       "          (activation_fn): GELUActivation()\n",
       "          (self_attn_layer_norm): LayerNorm((1024,), eps=1e-05, elementwise_affine=True)\n",
       "          (encoder_attn): BartAttention(\n",
       "            (k_proj): Linear(in_features=1024, out_features=1024, bias=True)\n",
       "            (v_proj): Linear(in_features=1024, out_features=1024, bias=True)\n",
       "            (q_proj): Linear(in_features=1024, out_features=1024, bias=True)\n",
       "            (out_proj): Linear(in_features=1024, out_features=1024, bias=True)\n",
       "          )\n",
       "          (encoder_attn_layer_norm): LayerNorm((1024,), eps=1e-05, elementwise_affine=True)\n",
       "          (fc1): Linear(in_features=1024, out_features=4096, bias=True)\n",
       "          (fc2): Linear(in_features=4096, out_features=1024, bias=True)\n",
       "          (final_layer_norm): LayerNorm((1024,), eps=1e-05, elementwise_affine=True)\n",
       "        )\n",
       "      )\n",
       "      (layernorm_embedding): LayerNorm((1024,), eps=1e-05, elementwise_affine=True)\n",
       "    )\n",
       "  )\n",
       "  (lm_head): Linear(in_features=1024, out_features=50264, bias=False)\n",
       ")"
      ]
     },
     "execution_count": 4,
     "metadata": {},
     "output_type": "execute_result"
    }
   ],
   "source": [
    "model = AutoModelForSeq2SeqLM.from_pretrained(model_checkpoint)\n",
    "model.eval()\n",
    "\n",
    "device = torch.device(\"cuda\" if torch.cuda.is_available() else \"cpu\")\n",
    "model.to(device)"
   ]
  },
  {
   "cell_type": "code",
   "execution_count": 40,
   "metadata": {},
   "outputs": [
    {
     "data": {
      "text/plain": [
       "GenerationConfig {\n",
       "  \"bos_token_id\": 0,\n",
       "  \"decoder_start_token_id\": 2,\n",
       "  \"early_stopping\": true,\n",
       "  \"eos_token_id\": 2,\n",
       "  \"forced_bos_token_id\": 0,\n",
       "  \"forced_eos_token_id\": 2,\n",
       "  \"length_penalty\": 2.0,\n",
       "  \"max_length\": 142,\n",
       "  \"min_length\": 56,\n",
       "  \"no_repeat_ngram_size\": 3,\n",
       "  \"num_beams\": 4,\n",
       "  \"pad_token_id\": 1\n",
       "}"
      ]
     },
     "execution_count": 40,
     "metadata": {},
     "output_type": "execute_result"
    }
   ],
   "source": [
    "generation_config = GenerationConfig.from_pretrained(model_checkpoint)\n",
    "generation_config"
   ]
  },
  {
   "cell_type": "code",
   "execution_count": 108,
   "metadata": {},
   "outputs": [
    {
     "data": {
      "text/plain": [
       "DatasetDict({\n",
       "    train: Dataset({\n",
       "        features: ['summary', 'article', 'article_bias', 'id', 'summary_bias'],\n",
       "        num_rows: 4664\n",
       "    })\n",
       "    validation: Dataset({\n",
       "        features: ['summary', 'article', 'article_bias', 'id', 'summary_bias'],\n",
       "        num_rows: 542\n",
       "    })\n",
       "    test: Dataset({\n",
       "        features: ['summary', 'article', 'article_bias', 'id', 'summary_bias'],\n",
       "        num_rows: 602\n",
       "    })\n",
       "})"
      ]
     },
     "execution_count": 108,
     "metadata": {},
     "output_type": "execute_result"
    }
   ],
   "source": [
    "raw_datasets = load_from_disk(\"../data/hf_dataset\")\n",
    "raw_datasets"
   ]
  },
  {
   "cell_type": "code",
   "execution_count": 24,
   "metadata": {},
   "outputs": [],
   "source": [
    "def preprocess_data(examples):\n",
    "    # get all the articles, prepend each with \"bias;\"\n",
    "    inputs = [\n",
    "        f\"{bias}; {article}\"\n",
    "        for bias, article in zip(examples[\"summary_bias\"], examples[\"article\"])\n",
    "    ]\n",
    "    # tokenize the inputs\n",
    "    model_inputs = tokenizer(\n",
    "        inputs, max_length=max_input, padding=\"max_length\", truncation=True\n",
    "    )\n",
    "\n",
    "    # tokenize the summaries, set max_length to longest summary (vs 128 in training)\n",
    "    targets = tokenizer(\n",
    "        examples[\"summary\"],\n",
    "        max_length=None,\n",
    "        padding=False,\n",
    "        truncation=False,\n",
    "        # return_tensors=\"pt\"\n",
    "    )\n",
    "\n",
    "    # set labels\n",
    "    model_inputs[\"labels\"] = targets[\"input_ids\"]\n",
    "    # return the tokenized data\n",
    "    # input_ids, attention_mask and labels\n",
    "    return model_inputs"
   ]
  },
  {
   "cell_type": "code",
   "execution_count": 25,
   "metadata": {},
   "outputs": [
    {
     "data": {
      "application/vnd.jupyter.widget-view+json": {
       "model_id": "f5fe2b47b871479f9e4c7cdbcdb3b4bb",
       "version_major": 2,
       "version_minor": 0
      },
      "text/plain": [
       "Map:   0%|          | 0/4664 [00:00<?, ? examples/s]"
      ]
     },
     "metadata": {},
     "output_type": "display_data"
    },
    {
     "data": {
      "application/vnd.jupyter.widget-view+json": {
       "model_id": "f2a90fbc138c40178593573a2a00f9d8",
       "version_major": 2,
       "version_minor": 0
      },
      "text/plain": [
       "Map:   0%|          | 0/542 [00:00<?, ? examples/s]"
      ]
     },
     "metadata": {},
     "output_type": "display_data"
    },
    {
     "data": {
      "application/vnd.jupyter.widget-view+json": {
       "model_id": "ab9b7283da7e4093a135a0b4c07d0529",
       "version_major": 2,
       "version_minor": 0
      },
      "text/plain": [
       "Map:   0%|          | 0/602 [00:00<?, ? examples/s]"
      ]
     },
     "metadata": {},
     "output_type": "display_data"
    }
   ],
   "source": [
    "tokenized_data = raw_datasets.map(preprocess_data, batched=True)"
   ]
  },
  {
   "cell_type": "code",
   "execution_count": 26,
   "metadata": {},
   "outputs": [
    {
     "data": {
      "text/plain": [
       "'left; U.S. House condemns \\'QAnon\\' conspiracy theory; 17 Republicans vote no\\nWASHINGTON (Reuters) - The U.S. House of Representatives on Friday voted to condemn the online pro-Trump conspiracy theory known as \"QAnon,\" but 17 Republicans opposed the non-binding resolution, whose sponsor Democrat Representative Tom Malinowski said he has received death threats.\\nThe House voted 371-18 to reject the conspiracy theory, which posits President Donald Trump has been working to take down a global child sex ring. As many as a dozen Republican candidates for Congress have voiced some support for the theory, and at least one of them appears to be a on a path to victory.\\n\"The grotesque nature of the tweets and Instagram posts and the anti-Semitic tripe spewed by QAnon adherents should cause concern for everyone,\" Representative Denver Riggleman, a Republican co-sponsor of the resolution, said on the House floor.\\n\"But the death threats Tom Malinowski received were at surprise and a shock,\" Riggleman said. \"This type of behavior is easily condemned.\"\\nSeventeen Republicans lawmakers and independent Representative Justin Amash voted against the resolution. Another Republican voted present, and forty lawmakers, most of them Republicans, did not vote.\\nWriting on Twitter, Amash said the resolution threatened protected speech - and may make things worse. \"These are conspiracy theorists who believe in a deep state that\\'s fighting against them,\" he wrote.\\nRepublican candidates who have voiced some measure of support for the QAnon theory include Georgia businesswoman Marjorie Taylor Greene, on track for a House seat after her Democratic opponent dropped out, and Jo Rae Perkins, who is running for Senate in Oregon against incumbent Senator Jeff Merkley. He is expected to win.\\nThe theory claims without evidence that \"deep-state\" traitors, child sex predators and prominent Democrats are plotting against Trump, who in turn is leading a plot against them. The FBI included QAnon last year in a warning about \"conspiracy theory-driven domestic extremists.\"'"
      ]
     },
     "execution_count": 26,
     "metadata": {},
     "output_type": "execute_result"
    }
   ],
   "source": [
    "tokenizer.decode(tokenized_data[\"test\"][0]['input_ids'], skip_special_tokens=True) # example input"
   ]
  },
  {
   "cell_type": "code",
   "execution_count": 54,
   "metadata": {},
   "outputs": [
    {
     "data": {
      "application/vnd.jupyter.widget-view+json": {
       "model_id": "01c40684663b45409bed30446b9fde3b",
       "version_major": 2,
       "version_minor": 0
      },
      "text/plain": [
       "  0%|          | 0/5206 [00:00<?, ?it/s]"
      ]
     },
     "metadata": {},
     "output_type": "display_data"
    }
   ],
   "source": [
    "outputs = []\n",
    "for ex in tqdm(concatenate_datasets([tokenized_data['train'], tokenized_data['validation']])):\n",
    "    # Generate output with temperature 0.7\n",
    "    out = model.generate(torch.tensor(ex['input_ids']).unsqueeze(0).to(device),\n",
    "                             max_length=max_target,\n",
    "                             temperature=0.7,\n",
    "                             attention_mask=torch.tensor(ex['attention_mask']).unsqueeze(0).to(device),\n",
    "                             do_sample=True,\n",
    "                             generation_config=generation_config)\n",
    "    text = tokenizer.decode(out[0].cpu(), skip_special_tokens=True)\n",
    "    ex['output_0.7'] = text\n",
    "    \n",
    "    # temp 1.2\n",
    "    out = model.generate(torch.tensor(ex['input_ids']).unsqueeze(0).to(device),\n",
    "                             max_length=max_target,\n",
    "                             temperature=1.2,\n",
    "                             attention_mask=torch.tensor(ex['attention_mask']).unsqueeze(0).to(device),\n",
    "                             do_sample=True,\n",
    "                             generation_config=generation_config)\n",
    "    text = tokenizer.decode(out[0].cpu(), skip_special_tokens=True)\n",
    "    ex['output_1.2'] = text\n",
    "\n",
    "    del ex['input_ids']\n",
    "    del ex['attention_mask']\n",
    "    del ex['labels']\n",
    "    outputs.append(ex)"
   ]
  },
  {
   "cell_type": "code",
   "execution_count": 59,
   "metadata": {},
   "outputs": [
    {
     "data": {
      "text/plain": [
       "{'summary': \"National park employees in the US are concerned about people continuing to visit parks amidst the coronavirus outbreak and potentially spreading the virus further. The Centers for Disease Control and Prevention is poised to issue guidance on behaviour in parks, but many workers are worried. An employee at the Klondike Gold Rush National Historical Park in Alaska quit his job over ongoing concerns about social distancing, and President Trump's decision to waive entrance fees to encourage outdoor activities did not help to lower his anxieties. Workers at the Grand Canyon National Park were similarly concerned after seeing visitor numbers rise, and have asked for permission to close.\",\n",
       " 'article': 'Appeals grow to close US national parks during pandemic\\nWASHINGTON (AP) — The Trump administration is sticking with its crowd-friendly waiver of entrance fees at national parks during the coronavirus pandemic, as managers at some parks try and fail to keep visitors a safe distance apart and communities appeal for a shutdown at other parks that are still open.\\nWhile the Interior Department agreed this week to requests from local managers of Yellowstone and some other iconic national parks to close, others remained open and newly free of charge. In Arizona, local governments and the Navajo Nation were waiting for an answer Thursday on their request earlier this week for federal officials to shut down Grand Canyon National Park as cases of the coronavirus grow in surrounding areas.\\n“We think it’s just in the best interest of the community, the visitors and the staff,” said Lena Fowler, a supervisor in Coconino County, which includes the Grand Canyon. “What we’re really concerned about is making sure everyone is safe.”\\nPark officials announced Thursday evening that three of the canyon’s most popular trails — Bright Angel, South Kaibab and North Kaibab — were being temporarily closed as of noon Friday, with some other operations being modified.\\nThe National Parks Conservation Association, a nonprofit group that advocates on park policy issues, called the administration’s decision to keep the Grand Canyon open “beyond reckless.”\\nThe Trump administration has issued guidelines to Americans urging them to stay at home whenever necessary, skip discretionary travel and avoid gatherings of more than 10 people. But critics see the move to keep the parks open as a mixed message with potentially dangerous consequences for virus spread. As jobless rates explode and the death toll surges in the country, the Republican president also is increasingly pushing to convey a rapid return to normalcy.\\nThe National Park Service is deciding whether to shut down individual sites on a park-by-park basis, in consultation with state and local health officials, Nicholas Goodwin, a spokesman for Interior Secretary David Bernhardt, said Thursday.\\nGoodwin said a decision by Bernhardt earlier this month to waive entrance fees during the pandemic was meant to give a financial break to those visitors who had decided they wanted to go, not to draw people outdoors and together on vistas and trails as coranavirus deaths and illnesses grow. \\n“It was not meant to create a flood of people to national parks,” Goodwin said.\\nGreat Smoky Mountains National Park was one of those whose request to close was granted by the Interior Department earlier this week.\\nThere, the number of visitors last week surged over the previous year’s figures despite infection risks, with about 30,000 people entering the park each day. \\nDespite efforts at Smoky Mountains park to protect staff and visitors from COVID-19, including closing restrooms and visitor centers, the park found it impossible to keep people from crowding together in popular spots, spokeswoman Dana Soehn said. \\nThe day after the closure announcement, park officials learned that an employee had tested positive for COVID-19.\\n“We looked at different models, including closing just the highly congested trails, but in the end, we decided to support the local community efforts to decrease unnecessary travel,” she said. \\nIn the Southwest, local health officials for Arches and Canyonlands national parks also urged the park service Thursday to shut down those sites.\\nDespite orders barring out-of-town residents from staying overnight, hundreds of visitors are still coming to the parks, said Bradon Bradford with the Southeast Utah Health Department. That puts park staff at risk of infection, especially when shortages have left them unable to get items they need to keep the restrooms sanitized, he said.\\nThe small, rural hospital could still be overwhelmed if people get seriously ill, officials said. \\nAcross the United States, deaths from COVID-19 topped 1,200 on Thursday, and there were more than 80,000 confirmed coronavirus cases. For most people, the coronavirus causes mild or moderate symptoms, such as fever and cough, that clear up in two to three weeks. For some, especially older adults and people with existing health problems, it can cause more severe illness, including pneumonia, or death.\\nCurrent recommendations from the Centers for Disease Control and Prevention call for canceling “all U.S. events of 10+ people” when there is a “minimal or moderate spread of COVID-19 in the community.”\\nAlthough Vice President Mike Pence said the CDC would be releasing new guidance on national parks and the virus on Thursday, there was no such release, CDC spokeswoman Jasmine Reed confirmed Thursday evening. \\nCriticism of the Interior Department’s delayed response grew Thursday.\\n“I just don’t understand what’s going on in terms of the senior leadership,” regarding cutting the entrance fees and keeping national parks open, said Kristen Brengel, a senior official with the National Parks Conservation Association.\\nNational parks, including the Grand Canyon, have roads and trails designed to funnel visitors en masse to see views and wildlife, Brengel said. “They know they can’t keep people safe there,” she said. \\nNational Park Service spokeswoman Alexandra Picavet said Thursday that the agency is working with Grand Canyon staff to review documentation the park sent in support of the request to close.\\nIn an email to Grand Canyon staff this week, the park said it included information on the limitations of its public health system, wastewater treatment and emergency responders.\\nThe park gets more than 6 million visitors a year, but it’s also home year-round to about 2,000 people, including a small community of Havasupai tribal members. The spread of the coronavirus quickly could overwhelm a small clinic at the national park.\\nThe Navajo Nation, which has 71 confirmed cases of the coronavirus, closed tribal parks, placed restrictions on businesses and issued a stay-at-home order for residents on the vast 27,000-square-mile (70,000-square-kilometer) reservation that extends into Utah, New Mexico and Arizona.\\n“We are experiencing constant traffic through Navajo communities, and we simply cannot afford any additional outbreaks among our Navajo people, non-Navajo residents or those tourists travelling through the Navajo Nation,” tribal President Jonathan Nez and Vice President Myron Lizer wrote in the letter seeking the park closure.\\n___\\nFonseca reported from Flagstaff, Ariz., and Loller from Nashville, Tenn. Associated Press writer Lindsay Whitehurst contributed to this report from Salt Lake City.',\n",
       " 'article_bias': 'center',\n",
       " 'id': '4470',\n",
       " 'summary_bias': 'left',\n",
       " 'output_0.7': 'The Trump administration is continuing to waive entrance fees at national parks during the coronavirus pandemic, despite requests from local managers of Yellowstone and other iconic national parks to close, while others remain open and free of charge. The National Parks Conservation Association, a nonprofit group that advocates on park policy issues, called the decision to keep the Grand Canyon National Park open “beyond reckless”. Critics see the decision as a mixed message with potentially dangerous consequences for virus spread. Despite efforts to protect staff and visitors from COVID-19, the park found it impossible to keep people from crowding together in popular spots, such as Bright Angel, South Kaibab and North',\n",
       " 'output_1.2': 'The Trump administration is continuing to waive entrance fees at national parks during the coronavirus pandemic, despite requests from local managers of some parks to close due to safety concerns. The National Parks Conservation Association (NPCA) has criticised the decision to keep the Grand Canyon National Park open, describing it as “beyond reckless”, and the Great Smoky Mountains National Park, which has seen an increase in visitor numbers, has decided to temporarily close three of its most popular trails due to overcrowding. Critics argue that keeping the parks open could pose a risk to public health and safety, given the rising death toll from COVID-19 in the US. Meanwhile, the National Park Service is considering whether to close individual sites on a park-by-park basis, in consultation with state and local health officials.'}"
      ]
     },
     "execution_count": 59,
     "metadata": {},
     "output_type": "execute_result"
    }
   ],
   "source": [
    "outputs[0]"
   ]
  },
  {
   "cell_type": "code",
   "execution_count": 57,
   "metadata": {},
   "outputs": [],
   "source": [
    "with open(\"model_outputs.json\", \"w+\") as f:\n",
    "    json.dump(outputs, f)"
   ]
  },
  {
   "cell_type": "markdown",
   "metadata": {},
   "source": [
    "## rouge"
   ]
  },
  {
   "cell_type": "code",
   "execution_count": 106,
   "metadata": {},
   "outputs": [],
   "source": [
    "with open('model_outputs.json') as f:\n",
    "    outputs = json.load(f)"
   ]
  },
  {
   "cell_type": "code",
   "execution_count": 114,
   "metadata": {},
   "outputs": [
    {
     "name": "stdout",
     "output_type": "stream",
     "text": [
      "[2023-12-14 03:56:03,504] [INFO] [real_accelerator.py:161:get_accelerator] Setting ds_accelerator to cuda (auto detect)\n"
     ]
    }
   ],
   "source": [
    "from evaluate import load"
   ]
  },
  {
   "cell_type": "code",
   "execution_count": 115,
   "metadata": {},
   "outputs": [
    {
     "name": "stderr",
     "output_type": "stream",
     "text": [
      "[nltk_data] Downloading package punkt to /home/andrew/nltk_data...\n",
      "[nltk_data]   Package punkt is already up-to-date!\n"
     ]
    },
    {
     "data": {
      "text/plain": [
       "True"
      ]
     },
     "execution_count": 115,
     "metadata": {},
     "output_type": "execute_result"
    }
   ],
   "source": [
    "import nltk\n",
    "import numpy as np\n",
    "nltk.download('punkt')"
   ]
  },
  {
   "cell_type": "code",
   "execution_count": 116,
   "metadata": {},
   "outputs": [],
   "source": [
    "metric = load('rouge')"
   ]
  },
  {
   "cell_type": "code",
   "execution_count": 117,
   "metadata": {},
   "outputs": [],
   "source": [
    "def compute_metrics(eval_pred):\n",
    "    predictions, labels = eval_pred\n",
    "    # Rouge expects a newline after each sentence\n",
    "    decoded_preds = [\n",
    "        \"\\n\".join(nltk.sent_tokenize(pred.strip())) for pred in predictions\n",
    "    ]\n",
    "    decoded_labels = [\n",
    "        \"\\n\".join(nltk.sent_tokenize(label.strip())) for label in labels\n",
    "    ]\n",
    "\n",
    "    # Note that other metrics may not have a `use_aggregator` parameter\n",
    "    # and thus will return a list, computing a metric for each sentence.\n",
    "    result = metric.compute(\n",
    "        predictions=decoded_preds,\n",
    "        references=decoded_labels,\n",
    "        use_stemmer=True,\n",
    "        use_aggregator=True,\n",
    "    )\n",
    "    # Extract a few results\n",
    "    result = {key: value * 100 for key, value in result.items()}\n",
    "\n",
    "    # Add mean generated length\n",
    "    prediction_lens = [\n",
    "        np.count_nonzero(pred != tokenizer.pad_token_id) for pred in predictions\n",
    "    ]\n",
    "    result[\"gen_len\"] = np.mean(prediction_lens)\n",
    "\n",
    "    return {k: round(v, 4) for k, v in result.items()}"
   ]
  },
  {
   "cell_type": "code",
   "execution_count": 118,
   "metadata": {},
   "outputs": [],
   "source": [
    "preds7 = []\n",
    "preds12 = []\n",
    "labels = []\n",
    "for item in outputs:\n",
    "    preds7.append(item['output_0.7'])\n",
    "    preds12.append(item['output_1.2'])\n",
    "    labels.append(item['summary'])"
   ]
  },
  {
   "cell_type": "code",
   "execution_count": 119,
   "metadata": {},
   "outputs": [
    {
     "data": {
      "text/plain": [
       "5206"
      ]
     },
     "execution_count": 119,
     "metadata": {},
     "output_type": "execute_result"
    }
   ],
   "source": [
    "len(outputs)"
   ]
  },
  {
   "cell_type": "code",
   "execution_count": 126,
   "metadata": {},
   "outputs": [
    {
     "name": "stderr",
     "output_type": "stream",
     "text": [
      "INFO:absl:Using default tokenizer.\n"
     ]
    },
    {
     "data": {
      "text/plain": [
       "{'rouge1': 45.9246,\n",
       " 'rouge2': 18.9384,\n",
       " 'rougeL': 28.0519,\n",
       " 'rougeLsum': 41.1079,\n",
       " 'gen_len': 1.0}"
      ]
     },
     "execution_count": 126,
     "metadata": {},
     "output_type": "execute_result"
    }
   ],
   "source": [
    "compute_metrics((preds7[:-542], labels[:-542])) # train"
   ]
  },
  {
   "cell_type": "code",
   "execution_count": 125,
   "metadata": {},
   "outputs": [
    {
     "name": "stderr",
     "output_type": "stream",
     "text": [
      "INFO:absl:Using default tokenizer.\n"
     ]
    },
    {
     "data": {
      "text/plain": [
       "{'rouge1': 42.8796,\n",
       " 'rouge2': 14.9425,\n",
       " 'rougeL': 24.5125,\n",
       " 'rougeLsum': 37.9773,\n",
       " 'gen_len': 1.0}"
      ]
     },
     "execution_count": 125,
     "metadata": {},
     "output_type": "execute_result"
    }
   ],
   "source": [
    "compute_metrics((preds7[-542:], labels[-542:])) # validation"
   ]
  },
  {
   "cell_type": "code",
   "execution_count": 129,
   "metadata": {},
   "outputs": [
    {
     "name": "stderr",
     "output_type": "stream",
     "text": [
      "INFO:absl:Using default tokenizer.\n"
     ]
    },
    {
     "data": {
      "text/plain": [
       "{'rouge1': 45.7197,\n",
       " 'rouge2': 18.484,\n",
       " 'rougeL': 27.5959,\n",
       " 'rougeLsum': 40.8723,\n",
       " 'gen_len': 1.0}"
      ]
     },
     "execution_count": 129,
     "metadata": {},
     "output_type": "execute_result"
    }
   ],
   "source": [
    "compute_metrics((preds12[:-542], labels[:-542])) # train"
   ]
  },
  {
   "cell_type": "code",
   "execution_count": 130,
   "metadata": {},
   "outputs": [
    {
     "name": "stderr",
     "output_type": "stream",
     "text": [
      "INFO:absl:Using default tokenizer.\n"
     ]
    },
    {
     "data": {
      "text/plain": [
       "{'rouge1': 42.7987,\n",
       " 'rouge2': 14.6372,\n",
       " 'rougeL': 24.3514,\n",
       " 'rougeLsum': 37.7771,\n",
       " 'gen_len': 1.0}"
      ]
     },
     "execution_count": 130,
     "metadata": {},
     "output_type": "execute_result"
    }
   ],
   "source": [
    "compute_metrics((preds12[-542:], labels[-542:])) # validation"
   ]
  },
  {
   "cell_type": "code",
   "execution_count": 137,
   "metadata": {},
   "outputs": [
    {
     "name": "stderr",
     "output_type": "stream",
     "text": [
      "INFO:absl:Using default tokenizer.\n"
     ]
    },
    {
     "data": {
      "text/plain": [
       "{'rouge1': 68.8417,\n",
       " 'rouge2': 49.8581,\n",
       " 'rougeL': 53.6847,\n",
       " 'rougeLsum': 65.3709,\n",
       " 'gen_len': 1.0}"
      ]
     },
     "execution_count": 137,
     "metadata": {},
     "output_type": "execute_result"
    }
   ],
   "source": [
    "compute_metrics((preds7, preds12)) # model output differences"
   ]
  },
  {
   "cell_type": "markdown",
   "metadata": {},
   "source": [
    "### stats"
   ]
  },
  {
   "cell_type": "code",
   "execution_count": 132,
   "metadata": {},
   "outputs": [],
   "source": [
    "preds7_tok = [len(tokenizer.encode(p)) for p in preds7]\n",
    "preds12_tok = [len(tokenizer.encode(p)) for p in preds12]"
   ]
  },
  {
   "cell_type": "code",
   "execution_count": 133,
   "metadata": {},
   "outputs": [
    {
     "data": {
      "text/plain": [
       "154.5662696888206"
      ]
     },
     "execution_count": 133,
     "metadata": {},
     "output_type": "execute_result"
    }
   ],
   "source": [
    "np.mean(preds7_tok)"
   ]
  },
  {
   "cell_type": "code",
   "execution_count": 135,
   "metadata": {},
   "outputs": [
    {
     "data": {
      "text/plain": [
       "(239, 65)"
      ]
     },
     "execution_count": 135,
     "metadata": {},
     "output_type": "execute_result"
    }
   ],
   "source": [
    "max(preds7_tok), min(preds7_tok)"
   ]
  },
  {
   "cell_type": "code",
   "execution_count": 136,
   "metadata": {},
   "outputs": [
    {
     "data": {
      "text/plain": [
       "(155.02401075681905, 238, 65)"
      ]
     },
     "execution_count": 136,
     "metadata": {},
     "output_type": "execute_result"
    }
   ],
   "source": [
    "np.mean(preds12_tok), max(preds12_tok), min(preds12_tok)"
   ]
  },
  {
   "cell_type": "code",
   "execution_count": 58,
   "metadata": {},
   "outputs": [],
   "source": [
    "import matplotlib.pyplot as plt"
   ]
  },
  {
   "cell_type": "code",
   "execution_count": 62,
   "metadata": {},
   "outputs": [
    {
     "data": {
      "image/png": "[encoded data removed]",
      "text/plain": [
       "<Figure size 640x480 with 1 Axes>"
      ]
     },
     "metadata": {},
     "output_type": "display_data"
    }
   ],
   "source": [
    "plt.hist(preds7_tok)\n",
    "plt.show()"
   ]
  },
  {
   "cell_type": "code",
   "execution_count": 63,
   "metadata": {},
   "outputs": [
    {
     "data": {
      "image/png": "[encoded data removed]",
      "text/plain": [
       "<Figure size 640x480 with 1 Axes>"
      ]
     },
     "metadata": {},
     "output_type": "display_data"
    }
   ],
   "source": [
    "plt.hist(preds12_tok)\n",
    "plt.show()"
   ]
  },
  {
   "cell_type": "markdown",
   "metadata": {},
   "source": [
    "# AlpacaFarm-ish annotate"
   ]
  },
  {
   "cell_type": "code",
   "execution_count": 92,
   "metadata": {},
   "outputs": [],
   "source": [
    "from alpaca_eval.utils import make_prompts\n",
    "import pandas as pd\n",
    "import numpy as np"
   ]
  },
  {
   "cell_type": "code",
   "execution_count": 7,
   "metadata": {},
   "outputs": [],
   "source": [
    "outputs_pairs = [{\n",
    "    'instruction': f\"Pretend you have {item['summary_bias']} leaning political views. Summarize the article:\",\n",
    "    # 'input': encoder.decode(encoder.encode(item['article'])[:512]), # truncate article to 512 tokens\n",
    "    'input': item['article'],\n",
    "    'output_1': item['output_0.7'],\n",
    "    'output_2': item['output_1.2']\n",
    "} for item in outputs]"
   ]
  },
  {
   "cell_type": "code",
   "execution_count": 49,
   "metadata": {},
   "outputs": [],
   "source": [
    "df = pd.DataFrame.from_records(outputs_pairs)"
   ]
  },
  {
   "cell_type": "code",
   "execution_count": 50,
   "metadata": {},
   "outputs": [
    {
     "data": {
      "text/html": [
       "<div>\n",
       "<style scoped>\n",
       "    .dataframe tbody tr th:only-of-type {\n",
       "        vertical-align: middle;\n",
       "    }\n",
       "\n",
       "    .dataframe tbody tr th {\n",
       "        vertical-align: top;\n",
       "    }\n",
       "\n",
       "    .dataframe thead th {\n",
       "        text-align: right;\n",
       "    }\n",
       "</style>\n",
       "<table border=\"1\" class=\"dataframe\">\n",
       "  <thead>\n",
       "    <tr style=\"text-align: right;\">\n",
       "      <th></th>\n",
       "      <th>instruction</th>\n",
       "      <th>input</th>\n",
       "      <th>output_1</th>\n",
       "      <th>output_2</th>\n",
       "    </tr>\n",
       "  </thead>\n",
       "  <tbody>\n",
       "    <tr>\n",
       "      <th>0</th>\n",
       "      <td>Pretend you have left leaning political views....</td>\n",
       "      <td>Appeals grow to close US national parks during...</td>\n",
       "      <td>The Trump administration is continuing to waiv...</td>\n",
       "      <td>The Trump administration is continuing to waiv...</td>\n",
       "    </tr>\n",
       "    <tr>\n",
       "      <th>1</th>\n",
       "      <td>Pretend you have left leaning political views....</td>\n",
       "      <td>Thousands are crowding into free national park...</td>\n",
       "      <td>The Trump administration’s decision to waive e...</td>\n",
       "      <td>The National Park Service (NPS) has been criti...</td>\n",
       "    </tr>\n",
       "    <tr>\n",
       "      <th>2</th>\n",
       "      <td>Pretend you have left leaning political views....</td>\n",
       "      <td>National Park Service asks people to practice ...</td>\n",
       "      <td>The National Park Service (NPS) has urged visi...</td>\n",
       "      <td>The National Park Service (NPS) has urged visi...</td>\n",
       "    </tr>\n",
       "    <tr>\n",
       "      <th>3</th>\n",
       "      <td>Pretend you have left leaning political views....</td>\n",
       "      <td>U.S. appeals court to take up constitutionalit...</td>\n",
       "      <td>A US federal appeals court in New Orleans is s...</td>\n",
       "      <td>A federal appeals court in the US has begun he...</td>\n",
       "    </tr>\n",
       "    <tr>\n",
       "      <th>4</th>\n",
       "      <td>Pretend you have left leaning political views....</td>\n",
       "      <td>Long-shot legal challenge could end Obamacare ...</td>\n",
       "      <td>A federal appeals court in New Orleans is set ...</td>\n",
       "      <td>A federal appeals court in New Orleans is set ...</td>\n",
       "    </tr>\n",
       "  </tbody>\n",
       "</table>\n",
       "</div>"
      ],
      "text/plain": [
       "                                         instruction  \\\n",
       "0  Pretend you have left leaning political views....   \n",
       "1  Pretend you have left leaning political views....   \n",
       "2  Pretend you have left leaning political views....   \n",
       "3  Pretend you have left leaning political views....   \n",
       "4  Pretend you have left leaning political views....   \n",
       "\n",
       "                                               input  \\\n",
       "0  Appeals grow to close US national parks during...   \n",
       "1  Thousands are crowding into free national park...   \n",
       "2  National Park Service asks people to practice ...   \n",
       "3  U.S. appeals court to take up constitutionalit...   \n",
       "4  Long-shot legal challenge could end Obamacare ...   \n",
       "\n",
       "                                            output_1  \\\n",
       "0  The Trump administration is continuing to waiv...   \n",
       "1  The Trump administration’s decision to waive e...   \n",
       "2  The National Park Service (NPS) has urged visi...   \n",
       "3  A US federal appeals court in New Orleans is s...   \n",
       "4  A federal appeals court in New Orleans is set ...   \n",
       "\n",
       "                                            output_2  \n",
       "0  The Trump administration is continuing to waiv...  \n",
       "1  The National Park Service (NPS) has been criti...  \n",
       "2  The National Park Service (NPS) has urged visi...  \n",
       "3  A federal appeals court in the US has begun he...  \n",
       "4  A federal appeals court in New Orleans is set ...  "
      ]
     },
     "execution_count": 50,
     "metadata": {},
     "output_type": "execute_result"
    }
   ],
   "source": [
    "df.head()"
   ]
  },
  {
   "cell_type": "code",
   "execution_count": 46,
   "metadata": {},
   "outputs": [],
   "source": [
    "with open('annotator_prompt.txt') as f:\n",
    "    template = f.read()"
   ]
  },
  {
   "cell_type": "code",
   "execution_count": 51,
   "metadata": {},
   "outputs": [],
   "source": [
    "prompts, df_out = make_prompts(df[:-1], template, batch_size=5)"
   ]
  },
  {
   "cell_type": "code",
   "execution_count": 52,
   "metadata": {},
   "outputs": [],
   "source": [
    "with open(\"gpt4-api2.jsonl\", 'w+') as f:\n",
    "    for idx, prompt in enumerate(prompts[464:]):\n",
    "        d = dict(model=\"gpt-4-1106-preview\", messages=[{\"role\": \"user\", \"content\": prompt}], metadata={'id': idx})\n",
    "        json_record = json.dumps(d)\n",
    "        f.write(json_record + '\\n')"
   ]
  },
  {
   "cell_type": "markdown",
   "metadata": {},
   "source": [
    "## convert api outputs to comparisons dataset"
   ]
  },
  {
   "cell_type": "code",
   "execution_count": 3,
   "metadata": {},
   "outputs": [],
   "source": [
    "with open(\"gpt4-api-output.jsonl\") as f:\n",
    "    lines = f.readlines()\n",
    "    api_responses = [json.loads(l) for l in lines]"
   ]
  },
  {
   "cell_type": "code",
   "execution_count": 59,
   "metadata": {},
   "outputs": [],
   "source": [
    "with open(\"gpt4-api-output2.jsonl\") as f:\n",
    "    lines = f.readlines()\n",
    "    api_responses2 = [json.loads(l) for l in lines]"
   ]
  },
  {
   "cell_type": "code",
   "execution_count": 89,
   "metadata": {},
   "outputs": [],
   "source": [
    "all_responses = api_responses + api_responses2"
   ]
  },
  {
   "cell_type": "code",
   "execution_count": 90,
   "metadata": {},
   "outputs": [],
   "source": [
    "ids = set()\n",
    "bad_ids = set()\n",
    "for item in all_responses:\n",
    "    try:\n",
    "        outputs = item[1]['choices'][0]['message']['content'].split('\\n')\n",
    "        ids.add(item[2]['id'])\n",
    "    except:\n",
    "        # bad_ids.add(item[2]['id'])\n",
    "        pass"
   ]
  },
  {
   "cell_type": "code",
   "execution_count": 96,
   "metadata": {},
   "outputs": [],
   "source": [
    "good_responses = [r for i, r in enumerate(all_responses) if i in ids]"
   ]
  },
  {
   "cell_type": "code",
   "execution_count": 99,
   "metadata": {},
   "outputs": [],
   "source": [
    "comparisons_dicts = []\n",
    "for i, item in enumerate(api_responses[:464]):\n",
    "    index = item[2]['id'] * 5\n",
    "    indexes = list(range(index, index + 5))\n",
    "    try:\n",
    "        annotations = item[1]['choices'][0]['message']['content'].split('\\n')\n",
    "    except:\n",
    "        print(i)\n",
    "    assert(len(indexes) == len(annotations))\n",
    "    \n",
    "    for j, idx in enumerate(indexes):\n",
    "        instruction, input, output1, output2 = list(outputs_pairs[idx].values())\n",
    "        prompt = instruction + '\\n' + input\n",
    "        if annotations[j] == \"Output (a)\":\n",
    "            chosen = output1\n",
    "            rejected = output2\n",
    "        elif annotations[j] == \"Output (b)\":\n",
    "            chosen = output2\n",
    "            rejected = output1\n",
    "        else:\n",
    "            print(\"SOMETHING IS WRONG\")\n",
    "\n",
    "        comparisons_dicts.append(dict(prompt=prompt, chosen=chosen, rejected=rejected))"
   ]
  },
  {
   "cell_type": "code",
   "execution_count": 101,
   "metadata": {},
   "outputs": [],
   "source": [
    "comparisons_dataset = pd.DataFrame.from_records(comparisons_dicts)"
   ]
  },
  {
   "cell_type": "code",
   "execution_count": 104,
   "metadata": {},
   "outputs": [],
   "source": [
    "comparisons_dataset.to_csv(\"comparisons_dataset.csv\", index=False)"
   ]
  },
  {
   "cell_type": "code",
   "execution_count": null,
   "metadata": {},
   "outputs": [],
   "source": []
  }
 ],
 "metadata": {
  "kernelspec": {
   "display_name": "dl",
   "language": "python",
   "name": "python3"
  },
  "language_info": {
   "codemirror_mode": {
    "name": "ipython",
    "version": 3
   },
   "file_extension": ".py",
   "mimetype": "text/x-python",
   "name": "python",
   "nbconvert_exporter": "python",
   "pygments_lexer": "ipython3",
   "version": "3.11.6"
  }
 },
 "nbformat": 4,
 "nbformat_minor": 2
}
